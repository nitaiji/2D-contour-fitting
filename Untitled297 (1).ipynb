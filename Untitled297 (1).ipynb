{
 "cells": [
  {
   "cell_type": "code",
   "execution_count": 1,
   "id": "f67b195c",
   "metadata": {},
   "outputs": [],
   "source": [
    "#import libraries\n",
    "import numpy as np\n",
    "import scipy.optimize as opt\n",
    "import pandas as pd\n",
    "import matplotlib.pyplot as plt\n",
    "plt.style.use('seaborn-poster')"
   ]
  },
  {
   "cell_type": "code",
   "execution_count": 6,
   "id": "fb4ec03f",
   "metadata": {},
   "outputs": [],
   "source": [
    "#import the raw file\n",
    "\n",
    "df = pd.read_csv('C:/UofT/Data analysis/TA data analysis_Nita/Phil_Rajib_project/Analysis/Pt1_DCM_chirp_corrected.csv')\n",
    "# df.head(2)\n",
    "\n",
    "#set the first column as the index\n",
    "\n",
    "df1 = df.set_index('Wavelength')\n",
    "# df1.head(2)\n",
    "\n",
    "# change the column values to float type\n",
    "\n",
    "k = [float(i) for i in list(df1.columns)]\n",
    "df1.columns = k"
   ]
  },
  {
   "cell_type": "code",
   "execution_count": 7,
   "id": "e21375ad",
   "metadata": {},
   "outputs": [],
   "source": [
    "#define dunction that plots the dataframe\n",
    "\n",
    "def plot_df(df, vmin, vmax):    \n",
    "    \n",
    "    #plotting the data\n",
    "\n",
    "    x1 = df.columns\n",
    "    y1 = df.index\n",
    "    z1 = df\n",
    "    X1,Y1 = np.meshgrid(x1,y1)\n",
    "    Z1 = z1\n",
    "    img = plt.contourf(X1,Y1,Z1,50, cmap='jet', vmin=-vmin, vmax=vmax )\n",
    "    plt.colorbar(img)\n",
    "    return"
   ]
  },
  {
   "cell_type": "code",
   "execution_count": 8,
   "id": "cbccdff3",
   "metadata": {},
   "outputs": [],
   "source": [
    "from scipy.optimize import curve_fit\n",
    "from scipy.special import erf\n",
    "\n",
    "def func_B(t, t_1):\n",
    "    B=20\n",
    "    t0 = 2.38110371e+02\n",
    "    f = (np.exp((B/(2*1.66511*t_1))**2 - ((t-t0)/t_1))*0.5*(erf(((t-t0)/B)*1.66511 - (B/(2*1.66511*t_1))) + 1)) \n",
    "    return f   "
   ]
  },
  {
   "cell_type": "code",
   "execution_count": 15,
   "id": "d012c11e",
   "metadata": {},
   "outputs": [],
   "source": [
    "# t0=2.38110371e+02\n",
    "time = [200, 500, 1000, 2000]\n",
    "t1 = list(df1.columns)"
   ]
  },
  {
   "cell_type": "code",
   "execution_count": 19,
   "id": "9d0a8692",
   "metadata": {},
   "outputs": [],
   "source": [
    "def global_analysis(df1, time):\n",
    "    \n",
    "    n = 4\n",
    "    t1 = list(df1.columns)\n",
    "    \n",
    "    T_matrix = np.zeros(shape=(n, df1.shape[1]))  # n is the number of components\n",
    "    \n",
    "    for i in range (n):\n",
    "        T_matrix[i-1] = func_B (np.array(t1), time[i-1]) # this is the Time matrix that you want; \n",
    "                                                     # you need to calculate teh inverse of that\n",
    "        \n",
    "    T_matrix_inv = np.linalg.pinv(T_matrix)       #calculate the pseudo-inverse of a matrix\n",
    "    \n",
    "    S_bar = np.matmul(df1, T_matrix_inv)         # calculate DT^-1\n",
    "    \n",
    "    pseudo_data = np.matmul(S_bar, T_matrix)    #construct S_bar*T\n",
    "    \n",
    "    pseudo_data.columns = df1.columns         #reassign the columns\n",
    "    \n",
    "#     opt = (np.linalg.norm(df1 - pseudo_data))**2      # define the matrix to optimize\n",
    "    \n",
    "    return pseudo_data\n",
    "#     return S_bar\n",
    "    "
   ]
  },
  {
   "cell_type": "code",
   "execution_count": 26,
   "id": "f348e4b1",
   "metadata": {},
   "outputs": [],
   "source": [
    "pseudo_data = global_analysis(df1, time)"
   ]
  },
  {
   "cell_type": "code",
   "execution_count": 83,
   "id": "9504d9a7",
   "metadata": {},
   "outputs": [],
   "source": [
    "def optimize(time):\n",
    "    opt = np.array(df1 - pseudo_data)\n",
    "    return opt\n",
    "    "
   ]
  },
  {
   "cell_type": "code",
   "execution_count": 84,
   "id": "b371b048",
   "metadata": {},
   "outputs": [],
   "source": [
    "# optimize(time).shape"
   ]
  },
  {
   "cell_type": "code",
   "execution_count": 85,
   "id": "e02bd485",
   "metadata": {},
   "outputs": [
    {
     "ename": "ValueError",
     "evalue": "`fun` must return at most 1-d array_like. f0.shape: (1052, 551)",
     "output_type": "error",
     "traceback": [
      "\u001b[1;31m---------------------------------------------------------------------------\u001b[0m",
      "\u001b[1;31mValueError\u001b[0m                                Traceback (most recent call last)",
      "\u001b[1;32m<ipython-input-85-1bdad79fb835>\u001b[0m in \u001b[0;36m<module>\u001b[1;34m\u001b[0m\n\u001b[0;32m      7\u001b[0m \u001b[1;31m# res_2 = minimize(global_analysis, t_guess, method='Nelder-Mead')\u001b[0m\u001b[1;33m\u001b[0m\u001b[1;33m\u001b[0m\u001b[1;33m\u001b[0m\u001b[0m\n\u001b[0;32m      8\u001b[0m \u001b[1;31m# res_3 = basinhopping(global_analysis, t_guess, T= 1.0)\u001b[0m\u001b[1;33m\u001b[0m\u001b[1;33m\u001b[0m\u001b[1;33m\u001b[0m\u001b[0m\n\u001b[1;32m----> 9\u001b[1;33m \u001b[0mres_1\u001b[0m \u001b[1;33m=\u001b[0m \u001b[0mleast_squares\u001b[0m\u001b[1;33m(\u001b[0m\u001b[0moptimize\u001b[0m\u001b[1;33m,\u001b[0m \u001b[0mt_guess\u001b[0m\u001b[1;33m,\u001b[0m \u001b[0mbounds\u001b[0m\u001b[1;33m=\u001b[0m\u001b[1;33m(\u001b[0m\u001b[1;36m0\u001b[0m\u001b[1;33m,\u001b[0m \u001b[0mnp\u001b[0m\u001b[1;33m.\u001b[0m\u001b[0minf\u001b[0m\u001b[1;33m)\u001b[0m\u001b[1;33m,\u001b[0m \u001b[0mmax_nfev\u001b[0m\u001b[1;33m=\u001b[0m\u001b[1;36m1000\u001b[0m\u001b[1;33m)\u001b[0m\u001b[1;33m\u001b[0m\u001b[1;33m\u001b[0m\u001b[0m\n\u001b[0m\u001b[0;32m     10\u001b[0m \u001b[1;31m# res_2 = minimize(optimize, t_guess)\u001b[0m\u001b[1;33m\u001b[0m\u001b[1;33m\u001b[0m\u001b[1;33m\u001b[0m\u001b[0m\n\u001b[0;32m     11\u001b[0m \u001b[1;31m# res_1 = least_squares(global_analysis, t_guess, bounds=(0, 10000))\u001b[0m\u001b[1;33m\u001b[0m\u001b[1;33m\u001b[0m\u001b[1;33m\u001b[0m\u001b[0m\n",
      "\u001b[1;32m~\\anaconda3\\lib\\site-packages\\scipy\\optimize\\_lsq\\least_squares.py\u001b[0m in \u001b[0;36mleast_squares\u001b[1;34m(fun, x0, jac, bounds, method, ftol, xtol, gtol, x_scale, loss, f_scale, diff_step, tr_solver, tr_options, jac_sparsity, max_nfev, verbose, args, kwargs)\u001b[0m\n\u001b[0;32m    822\u001b[0m     \u001b[1;32mif\u001b[0m \u001b[0mf0\u001b[0m\u001b[1;33m.\u001b[0m\u001b[0mndim\u001b[0m \u001b[1;33m!=\u001b[0m \u001b[1;36m1\u001b[0m\u001b[1;33m:\u001b[0m\u001b[1;33m\u001b[0m\u001b[1;33m\u001b[0m\u001b[0m\n\u001b[0;32m    823\u001b[0m         raise ValueError(\"`fun` must return at most 1-d array_like. \"\n\u001b[1;32m--> 824\u001b[1;33m                          \"f0.shape: {0}\".format(f0.shape))\n\u001b[0m\u001b[0;32m    825\u001b[0m \u001b[1;33m\u001b[0m\u001b[0m\n\u001b[0;32m    826\u001b[0m     \u001b[1;32mif\u001b[0m \u001b[1;32mnot\u001b[0m \u001b[0mnp\u001b[0m\u001b[1;33m.\u001b[0m\u001b[0mall\u001b[0m\u001b[1;33m(\u001b[0m\u001b[0mnp\u001b[0m\u001b[1;33m.\u001b[0m\u001b[0misfinite\u001b[0m\u001b[1;33m(\u001b[0m\u001b[0mf0\u001b[0m\u001b[1;33m)\u001b[0m\u001b[1;33m)\u001b[0m\u001b[1;33m:\u001b[0m\u001b[1;33m\u001b[0m\u001b[1;33m\u001b[0m\u001b[0m\n",
      "\u001b[1;31mValueError\u001b[0m: `fun` must return at most 1-d array_like. f0.shape: (1052, 551)"
     ]
    }
   ],
   "source": [
    "# this is the optimization\n",
    "\n",
    "from scipy.optimize import least_squares, minimize, basinhopping\n",
    "\n",
    "\n",
    "t_guess = [50 , 100 , 500, 500]\n",
    "# res_2 = minimize(global_analysis, t_guess, method='Nelder-Mead')\n",
    "# res_3 = basinhopping(global_analysis, t_guess, T= 1.0)\n",
    "res_1 = least_squares(optimize, t_guess, bounds=(0, np.inf), max_nfev=1000)\n",
    "# res_2 = minimize(optimize, t_guess)\n",
    "# res_1 = least_squares(global_analysis, t_guess, bounds=(0, 10000))"
   ]
  },
  {
   "cell_type": "code",
   "execution_count": 86,
   "id": "19e45a39",
   "metadata": {},
   "outputs": [
    {
     "data": {
      "text/plain": [
       " active_mask: array([0, 0, 0, 0])\n",
       "        cost: 265938.07803487376\n",
       "         fun: array([ 0.        ,  0.        ,  0.        , ..., -0.54664211,\n",
       "       -0.54426922, -0.54190466])\n",
       "        grad: array([0., 0., 0., 0.])\n",
       "         jac: array([[0., 0., 0., 0.],\n",
       "       [0., 0., 0., 0.],\n",
       "       [0., 0., 0., 0.],\n",
       "       ...,\n",
       "       [0., 0., 0., 0.],\n",
       "       [0., 0., 0., 0.],\n",
       "       [0., 0., 0., 0.]])\n",
       "     message: '`gtol` termination condition is satisfied.'\n",
       "        nfev: 1\n",
       "        njev: 1\n",
       "  optimality: 0.0\n",
       "      status: 1\n",
       "     success: True\n",
       "           x: array([ 50., 100., 500., 500.])"
      ]
     },
     "execution_count": 86,
     "metadata": {},
     "output_type": "execute_result"
    }
   ],
   "source": [
    "res_1"
   ]
  },
  {
   "cell_type": "code",
   "execution_count": null,
   "id": "8db95f1c",
   "metadata": {},
   "outputs": [],
   "source": []
  },
  {
   "cell_type": "code",
   "execution_count": 66,
   "id": "cd718bd3",
   "metadata": {},
   "outputs": [],
   "source": [
    "# n is the number of components\n",
    "\n",
    "n = 4\n",
    "T_matrix = np.zeros(shape=(n, df1.shape[1]))"
   ]
  },
  {
   "cell_type": "code",
   "execution_count": 11,
   "id": "fcd4a2ac",
   "metadata": {},
   "outputs": [],
   "source": [
    "for i in range (n):\n",
    "    T_matrix[i-1] = func_B (np.array(t1), time[i-1])"
   ]
  },
  {
   "cell_type": "code",
   "execution_count": 12,
   "id": "b6728ca4",
   "metadata": {},
   "outputs": [
    {
     "data": {
      "text/plain": [
       "array([[0.00000000e+00, 0.00000000e+00, 0.00000000e+00, ...,\n",
       "        5.05253229e-11, 4.80611738e-11, 4.57172027e-11],\n",
       "       [0.00000000e+00, 0.00000000e+00, 0.00000000e+00, ...,\n",
       "        7.60868590e-05, 7.45802383e-05, 7.31034506e-05],\n",
       "       [0.00000000e+00, 0.00000000e+00, 0.00000000e+00, ...,\n",
       "        8.72246357e-03, 8.63567361e-03, 8.54974722e-03],\n",
       "       [0.00000000e+00, 0.00000000e+00, 0.00000000e+00, ...,\n",
       "        9.33932882e-02, 9.29274872e-02, 9.24640094e-02]])"
      ]
     },
     "execution_count": 12,
     "metadata": {},
     "output_type": "execute_result"
    }
   ],
   "source": [
    "T_matrix  # this is the Time matrix that you want; you need to calculate teh inverse of that"
   ]
  },
  {
   "cell_type": "code",
   "execution_count": 14,
   "id": "0ec027a4",
   "metadata": {},
   "outputs": [],
   "source": [
    "#calculate the pseudo-inverse of a matrix\n",
    "\n",
    "T_matrix_inv = np.linalg.pinv(T_matrix)\n",
    "\n",
    "# calculate DT^-1\n",
    "\n",
    "S_bar = np.matmul(df1, T_matrix_inv)"
   ]
  },
  {
   "cell_type": "code",
   "execution_count": null,
   "id": "e852cc12",
   "metadata": {},
   "outputs": [],
   "source": []
  }
 ],
 "metadata": {
  "kernelspec": {
   "display_name": "Python 3",
   "language": "python",
   "name": "python3"
  },
  "language_info": {
   "codemirror_mode": {
    "name": "ipython",
    "version": 3
   },
   "file_extension": ".py",
   "mimetype": "text/x-python",
   "name": "python",
   "nbconvert_exporter": "python",
   "pygments_lexer": "ipython3",
   "version": "3.7.11"
  }
 },
 "nbformat": 4,
 "nbformat_minor": 5
}
