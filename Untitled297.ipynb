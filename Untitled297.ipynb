{
 "cells": [
  {
   "cell_type": "code",
   "execution_count": 1,
   "id": "ecf0cf66",
   "metadata": {},
   "outputs": [],
   "source": [
    "#import libraries\n",
    "import numpy as np\n",
    "import scipy.optimize as opt\n",
    "import pandas as pd\n",
    "import matplotlib.pyplot as plt\n",
    "plt.style.use('seaborn-poster')"
   ]
  },
  {
   "cell_type": "code",
   "execution_count": 6,
   "id": "ac5bf2b2",
   "metadata": {},
   "outputs": [],
   "source": [
    "#import the raw file\n",
    "\n",
    "df = pd.read_csv('C:/UofT/Data analysis/TA data analysis_Nita/Phil_Rajib_project/Analysis/Pt1_DCM_chirp_corrected.csv')\n",
    "# df.head(2)\n",
    "\n",
    "#set the first column as the index\n",
    "\n",
    "df1 = df.set_index('Wavelength')\n",
    "# df1.head(2)\n",
    "\n",
    "# change the column values to float type\n",
    "\n",
    "k = [float(i) for i in list(df1.columns)]\n",
    "df1.columns = k"
   ]
  },
  {
   "cell_type": "code",
   "execution_count": 7,
   "id": "f2535c32",
   "metadata": {},
   "outputs": [],
   "source": [
    "#define dunction that plots the dataframe\n",
    "\n",
    "def plot_df(df, vmin, vmax):    \n",
    "    \n",
    "    #plotting the data\n",
    "\n",
    "    x1 = df.columns\n",
    "    y1 = df.index\n",
    "    z1 = df\n",
    "    X1,Y1 = np.meshgrid(x1,y1)\n",
    "    Z1 = z1\n",
    "    img = plt.contourf(X1,Y1,Z1,50, cmap='jet', vmin=-vmin, vmax=vmax )\n",
    "    plt.colorbar(img)\n",
    "    return"
   ]
  },
  {
   "cell_type": "code",
   "execution_count": 8,
   "id": "de18ac25",
   "metadata": {},
   "outputs": [],
   "source": [
    "from scipy.optimize import curve_fit\n",
    "from scipy.special import erf\n",
    "\n",
    "def func_B(t, t_1):\n",
    "    B=20\n",
    "    t0 = 2.38110371e+02\n",
    "    f = (np.exp((B/(2*1.66511*t_1))**2 - ((t-t0)/t_1))*0.5*(erf(((t-t0)/B)*1.66511 - (B/(2*1.66511*t_1))) + 1)) \n",
    "    return f   "
   ]
  },
  {
   "cell_type": "code",
   "execution_count": 15,
   "id": "a20ae014",
   "metadata": {},
   "outputs": [],
   "source": [
    "# t0=2.38110371e+02\n",
    "time = [200, 500, 1000, 2000]\n",
    "t1 = list(df1.columns)"
   ]
  },
  {
   "cell_type": "code",
   "execution_count": 19,
   "id": "06fbb3a2",
   "metadata": {},
   "outputs": [],
   "source": [
    "def global_analysis(df1, time):\n",
    "    \n",
    "    n = 4\n",
    "    t1 = list(df1.columns)\n",
    "    \n",
    "    T_matrix = np.zeros(shape=(n, df1.shape[1]))  # n is the number of components\n",
    "    \n",
    "    for i in range (n):\n",
    "        T_matrix[i-1] = func_B (np.array(t1), time[i-1]) # this is the Time matrix that you want; \n",
    "                                                     # you need to calculate teh inverse of that\n",
    "        \n",
    "    T_matrix_inv = np.linalg.pinv(T_matrix)       #calculate the pseudo-inverse of a matrix\n",
    "    \n",
    "    S_bar = np.matmul(df1, T_matrix_inv)         # calculate DT^-1\n",
    "    \n",
    "    pseudo_data = np.matmul(S_bar, T_matrix)    #construct S_bar*T\n",
    "    \n",
    "    pseudo_data.columns = df1.columns         #reassign the columns\n",
    "    \n",
    "#     opt = (np.linalg.norm(df1 - pseudo_data))**2      # define the matrix to optimize\n",
    "    \n",
    "    return pseudo_data\n",
    "#     return S_bar\n",
    "    "
   ]
  },
  {
   "cell_type": "code",
   "execution_count": 26,
   "id": "102ce868",
   "metadata": {},
   "outputs": [],
   "source": [
    "pseudo_data = global_analysis(df1, time)"
   ]
  },
  {
   "cell_type": "code",
   "execution_count": 35,
   "id": "e50649e2",
   "metadata": {},
   "outputs": [],
   "source": [
    "def optimize(time):\n",
    "    opt = np.array(df1 - pseudo_data)\n",
    "    return opt.ravel()\n",
    "    \n",
    "    "
   ]
  },
  {
   "cell_type": "code",
   "execution_count": 38,
   "id": "35f96340",
   "metadata": {},
   "outputs": [],
   "source": [
    "# optimize(time).shape"
   ]
  },
  {
   "cell_type": "code",
   "execution_count": 50,
   "id": "45864262",
   "metadata": {},
   "outputs": [],
   "source": [
    "# this is the optimization\n",
    "\n",
    "from scipy.optimize import least_squares, minimize, basinhopping\n",
    "\n",
    "\n",
    "t_guess = [5 , 200 , 500, 3000]\n",
    "# res_2 = minimize(global_analysis, t_guess, method='Nelder-Mead')\n",
    "# res_3 = basinhopping(global_analysis, t_guess, T= 1.0)\n",
    "res_3 = least_squares(optimize, t_guess)\n",
    "# res_1 = least_squares(global_analysis, t_guess, bounds=(0, 10000))"
   ]
  },
  {
   "cell_type": "code",
   "execution_count": 51,
   "id": "5550d185",
   "metadata": {},
   "outputs": [
    {
     "data": {
      "text/plain": [
       "array([   5.,  200.,  500., 3000.])"
      ]
     },
     "execution_count": 51,
     "metadata": {},
     "output_type": "execute_result"
    }
   ],
   "source": [
    "res_3.x"
   ]
  },
  {
   "cell_type": "code",
   "execution_count": 10,
   "id": "18a769df",
   "metadata": {},
   "outputs": [],
   "source": [
    "# n is the number of components\n",
    "\n",
    "n = 4\n",
    "T_matrix = np.zeros(shape=(n, df1.shape[1]))"
   ]
  },
  {
   "cell_type": "code",
   "execution_count": 11,
   "id": "8886c290",
   "metadata": {},
   "outputs": [],
   "source": [
    "for i in range (n):\n",
    "    T_matrix[i-1] = func_B (np.array(t1), time[i-1])"
   ]
  },
  {
   "cell_type": "code",
   "execution_count": 12,
   "id": "0f4e1f42",
   "metadata": {},
   "outputs": [
    {
     "data": {
      "text/plain": [
       "array([[0.00000000e+00, 0.00000000e+00, 0.00000000e+00, ...,\n",
       "        5.05253229e-11, 4.80611738e-11, 4.57172027e-11],\n",
       "       [0.00000000e+00, 0.00000000e+00, 0.00000000e+00, ...,\n",
       "        7.60868590e-05, 7.45802383e-05, 7.31034506e-05],\n",
       "       [0.00000000e+00, 0.00000000e+00, 0.00000000e+00, ...,\n",
       "        8.72246357e-03, 8.63567361e-03, 8.54974722e-03],\n",
       "       [0.00000000e+00, 0.00000000e+00, 0.00000000e+00, ...,\n",
       "        9.33932882e-02, 9.29274872e-02, 9.24640094e-02]])"
      ]
     },
     "execution_count": 12,
     "metadata": {},
     "output_type": "execute_result"
    }
   ],
   "source": [
    "T_matrix  # this is the Time matrix that you want; you need to calculate teh inverse of that"
   ]
  },
  {
   "cell_type": "code",
   "execution_count": 14,
   "id": "5eea20b3",
   "metadata": {},
   "outputs": [],
   "source": [
    "#calculate the pseudo-inverse of a matrix\n",
    "\n",
    "T_matrix_inv = np.linalg.pinv(T_matrix)\n",
    "\n",
    "# calculate DT^-1\n",
    "\n",
    "S_bar = np.matmul(df1, T_matrix_inv)"
   ]
  },
  {
   "cell_type": "code",
   "execution_count": null,
   "id": "835071fc",
   "metadata": {},
   "outputs": [],
   "source": []
  }
 ],
 "metadata": {
  "kernelspec": {
   "display_name": "Python 3",
   "language": "python",
   "name": "python3"
  },
  "language_info": {
   "codemirror_mode": {
    "name": "ipython",
    "version": 3
   },
   "file_extension": ".py",
   "mimetype": "text/x-python",
   "name": "python",
   "nbconvert_exporter": "python",
   "pygments_lexer": "ipython3",
   "version": "3.7.11"
  }
 },
 "nbformat": 4,
 "nbformat_minor": 5
}
