{
 "cells": [
  {
   "cell_type": "code",
   "execution_count": 706,
   "id": "a7631989",
   "metadata": {},
   "outputs": [],
   "source": [
    "#import libraries\n",
    "import numpy as np\n",
    "import scipy.optimize as opt\n",
    "import pandas as pd\n",
    "import matplotlib.pyplot as plt\n",
    "plt.style.use('seaborn-poster')"
   ]
  },
  {
   "cell_type": "code",
   "execution_count": 707,
   "id": "8b19a8bf",
   "metadata": {},
   "outputs": [],
   "source": [
    "def twoD_Gaussian(x, y, amplitude, xo, yo, sigma_x, sigma_y, theta, offset):\n",
    "    xo = float(xo)\n",
    "    yo = float(yo)    \n",
    "    a = (np.cos(theta)**2)/(2*sigma_x**2) + (np.sin(theta)**2)/(2*sigma_y**2)\n",
    "    b = -(np.sin(2*theta))/(4*sigma_x**2) + (np.sin(2*theta))/(4*sigma_y**2)\n",
    "    c = (np.sin(theta)**2)/(2*sigma_x**2) + (np.cos(theta)**2)/(2*sigma_y**2)\n",
    "    g = offset + amplitude*np.exp( - (a*((x-xo)**2) + 2*b*(x-xo)*(y-yo) \n",
    "                            + c*((y-yo)**2)))\n",
    "#     x1 = np.linspace(0, 200, 201)\n",
    "#     y1 = np.linspace(0, 200, 201)\n",
    "#     X1, Y1 = np.meshgrid(x, y)\n",
    "#     data = twoD_Gaussian(X1, Y1,amplitude, xo, yo, sigma_x, sigma_y, theta, offset)\n",
    "#     data_noisy = data + 0.2*np.random.normal(size=data.shape)\n",
    "    return data_noisy.ravel()"
   ]
  },
  {
   "cell_type": "code",
   "execution_count": 708,
   "id": "d519cbdb",
   "metadata": {},
   "outputs": [],
   "source": [
    "def gauss_func(x, y, a, x0, y0, sigma_x, sigma_y, b, offset):\n",
    "    p = offset + a*np.exp(-((((x-x0)**2)/sigma_x) + (((y-y0)**2)/sigma_y) + 2*b*(x-x0)*(y-y0)))\n",
    "    return p"
   ]
  },
  {
   "cell_type": "code",
   "execution_count": 709,
   "id": "c9c515d4",
   "metadata": {},
   "outputs": [],
   "source": [
    "# def gauss_1Dfunc(x, a, x0,  sigma_x,  offset):\n",
    "#     p = offset + a*np.exp(-((((x-x0)**2)/sigma_x)))\n",
    "#     return p\n",
    "\n",
    "def gauss_1Dfunc(x, time):\n",
    "#     a(time[0]), x0(time[1]),  sigma_x(time[2]),  offset (time[3])\n",
    "    p = time[3] + time[0]*np.exp(-((((x-time[1])**2)/time[2])))\n",
    "    return p"
   ]
  },
  {
   "cell_type": "code",
   "execution_count": 710,
   "id": "b09e0e45",
   "metadata": {},
   "outputs": [],
   "source": [
    "time = [ 0.2, 5, 0.02, 0]"
   ]
  },
  {
   "cell_type": "code",
   "execution_count": 711,
   "id": "e41f2fe5",
   "metadata": {},
   "outputs": [],
   "source": [
    "q = gauss_1Dfunc(x, time)"
   ]
  },
  {
   "cell_type": "code",
   "execution_count": 712,
   "id": "18f6eeda",
   "metadata": {},
   "outputs": [],
   "source": [
    "x1 = np.linspace(0, 200, 201)\n",
    "y1 = np.linspace(0, 200, 201)\n",
    "X1, Y1 = np.meshgrid(x1, y1)\n",
    "\n",
    "from mpl_toolkits.mplot3d import Axes3D"
   ]
  },
  {
   "cell_type": "code",
   "execution_count": 713,
   "id": "716d1934",
   "metadata": {},
   "outputs": [],
   "source": [
    "data = gauss_func(X1, Y1, 50, 100, 100, 500, 500, 0.0001, 0)\n",
    "data_noisy = data + 0.2*np.random.normal(size=data.shape)\n",
    "Z1 = data_noisy"
   ]
  },
  {
   "cell_type": "code",
   "execution_count": 714,
   "id": "4110031c",
   "metadata": {},
   "outputs": [],
   "source": [
    "xdata = np.vstack((X1.ravel(), Y1.ravel()))\n",
    "ydata = data_noisy.ravel()"
   ]
  },
  {
   "cell_type": "code",
   "execution_count": 715,
   "id": "bd41bc62",
   "metadata": {},
   "outputs": [],
   "source": [
    "def gaussian(x, y, x0, y0, xalpha, yalpha, A):\n",
    "    return A * np.exp( -((x-x0)/xalpha)**2 -((y-y0)/yalpha)**2)"
   ]
  },
  {
   "cell_type": "code",
   "execution_count": 716,
   "id": "b6ff8f7b",
   "metadata": {},
   "outputs": [],
   "source": [
    "def _gaussian(M, *args):\n",
    "    x, y = M\n",
    "    arr = np.zeros(x.shape)\n",
    "    for i in range(len(args)//5):\n",
    "        arr += gaussian(x, y, *args[i*5:i*5+5])\n",
    "    return arr"
   ]
  },
  {
   "cell_type": "code",
   "execution_count": 717,
   "id": "5d2e796f",
   "metadata": {},
   "outputs": [],
   "source": [
    "# _gaussian()"
   ]
  },
  {
   "cell_type": "code",
   "execution_count": 718,
   "id": "ae609fc1",
   "metadata": {},
   "outputs": [],
   "source": [
    "p0=time"
   ]
  },
  {
   "cell_type": "code",
   "execution_count": 719,
   "id": "0c7fdd9b",
   "metadata": {},
   "outputs": [
    {
     "ename": "TypeError",
     "evalue": "gauss_1Dfunc() takes 2 positional arguments but 5 were given",
     "output_type": "error",
     "traceback": [
      "\u001b[1;31m---------------------------------------------------------------------------\u001b[0m",
      "\u001b[1;31mTypeError\u001b[0m                                 Traceback (most recent call last)",
      "\u001b[1;32m<ipython-input-719-738f87cae5c6>\u001b[0m in \u001b[0;36m<module>\u001b[1;34m\u001b[0m\n\u001b[1;32m----> 1\u001b[1;33m \u001b[0mpopt\u001b[0m\u001b[1;33m,\u001b[0m \u001b[0mpcov\u001b[0m \u001b[1;33m=\u001b[0m \u001b[0mcurve_fit\u001b[0m\u001b[1;33m(\u001b[0m\u001b[0mgauss_1Dfunc\u001b[0m\u001b[1;33m,\u001b[0m \u001b[0mxdata\u001b[0m\u001b[1;33m,\u001b[0m \u001b[0mZ1\u001b[0m\u001b[1;33m.\u001b[0m\u001b[0mravel\u001b[0m\u001b[1;33m(\u001b[0m\u001b[1;33m)\u001b[0m\u001b[1;33m,\u001b[0m \u001b[0mp0\u001b[0m\u001b[1;33m)\u001b[0m\u001b[1;33m\u001b[0m\u001b[1;33m\u001b[0m\u001b[0m\n\u001b[0m",
      "\u001b[1;32m~\\anaconda3\\lib\\site-packages\\scipy\\optimize\\minpack.py\u001b[0m in \u001b[0;36mcurve_fit\u001b[1;34m(f, xdata, ydata, p0, sigma, absolute_sigma, check_finite, bounds, method, jac, **kwargs)\u001b[0m\n\u001b[0;32m    787\u001b[0m         \u001b[1;31m# Remove full_output from kwargs, otherwise we're passing it in twice.\u001b[0m\u001b[1;33m\u001b[0m\u001b[1;33m\u001b[0m\u001b[1;33m\u001b[0m\u001b[0m\n\u001b[0;32m    788\u001b[0m         \u001b[0mreturn_full\u001b[0m \u001b[1;33m=\u001b[0m \u001b[0mkwargs\u001b[0m\u001b[1;33m.\u001b[0m\u001b[0mpop\u001b[0m\u001b[1;33m(\u001b[0m\u001b[1;34m'full_output'\u001b[0m\u001b[1;33m,\u001b[0m \u001b[1;32mFalse\u001b[0m\u001b[1;33m)\u001b[0m\u001b[1;33m\u001b[0m\u001b[1;33m\u001b[0m\u001b[0m\n\u001b[1;32m--> 789\u001b[1;33m         \u001b[0mres\u001b[0m \u001b[1;33m=\u001b[0m \u001b[0mleastsq\u001b[0m\u001b[1;33m(\u001b[0m\u001b[0mfunc\u001b[0m\u001b[1;33m,\u001b[0m \u001b[0mp0\u001b[0m\u001b[1;33m,\u001b[0m \u001b[0mDfun\u001b[0m\u001b[1;33m=\u001b[0m\u001b[0mjac\u001b[0m\u001b[1;33m,\u001b[0m \u001b[0mfull_output\u001b[0m\u001b[1;33m=\u001b[0m\u001b[1;36m1\u001b[0m\u001b[1;33m,\u001b[0m \u001b[1;33m**\u001b[0m\u001b[0mkwargs\u001b[0m\u001b[1;33m)\u001b[0m\u001b[1;33m\u001b[0m\u001b[1;33m\u001b[0m\u001b[0m\n\u001b[0m\u001b[0;32m    790\u001b[0m         \u001b[0mpopt\u001b[0m\u001b[1;33m,\u001b[0m \u001b[0mpcov\u001b[0m\u001b[1;33m,\u001b[0m \u001b[0minfodict\u001b[0m\u001b[1;33m,\u001b[0m \u001b[0merrmsg\u001b[0m\u001b[1;33m,\u001b[0m \u001b[0mier\u001b[0m \u001b[1;33m=\u001b[0m \u001b[0mres\u001b[0m\u001b[1;33m\u001b[0m\u001b[1;33m\u001b[0m\u001b[0m\n\u001b[0;32m    791\u001b[0m         \u001b[0mysize\u001b[0m \u001b[1;33m=\u001b[0m \u001b[0mlen\u001b[0m\u001b[1;33m(\u001b[0m\u001b[0minfodict\u001b[0m\u001b[1;33m[\u001b[0m\u001b[1;34m'fvec'\u001b[0m\u001b[1;33m]\u001b[0m\u001b[1;33m)\u001b[0m\u001b[1;33m\u001b[0m\u001b[1;33m\u001b[0m\u001b[0m\n",
      "\u001b[1;32m~\\anaconda3\\lib\\site-packages\\scipy\\optimize\\minpack.py\u001b[0m in \u001b[0;36mleastsq\u001b[1;34m(func, x0, args, Dfun, full_output, col_deriv, ftol, xtol, gtol, maxfev, epsfcn, factor, diag)\u001b[0m\n\u001b[0;32m    408\u001b[0m     \u001b[1;32mif\u001b[0m \u001b[1;32mnot\u001b[0m \u001b[0misinstance\u001b[0m\u001b[1;33m(\u001b[0m\u001b[0margs\u001b[0m\u001b[1;33m,\u001b[0m \u001b[0mtuple\u001b[0m\u001b[1;33m)\u001b[0m\u001b[1;33m:\u001b[0m\u001b[1;33m\u001b[0m\u001b[1;33m\u001b[0m\u001b[0m\n\u001b[0;32m    409\u001b[0m         \u001b[0margs\u001b[0m \u001b[1;33m=\u001b[0m \u001b[1;33m(\u001b[0m\u001b[0margs\u001b[0m\u001b[1;33m,\u001b[0m\u001b[1;33m)\u001b[0m\u001b[1;33m\u001b[0m\u001b[1;33m\u001b[0m\u001b[0m\n\u001b[1;32m--> 410\u001b[1;33m     \u001b[0mshape\u001b[0m\u001b[1;33m,\u001b[0m \u001b[0mdtype\u001b[0m \u001b[1;33m=\u001b[0m \u001b[0m_check_func\u001b[0m\u001b[1;33m(\u001b[0m\u001b[1;34m'leastsq'\u001b[0m\u001b[1;33m,\u001b[0m \u001b[1;34m'func'\u001b[0m\u001b[1;33m,\u001b[0m \u001b[0mfunc\u001b[0m\u001b[1;33m,\u001b[0m \u001b[0mx0\u001b[0m\u001b[1;33m,\u001b[0m \u001b[0margs\u001b[0m\u001b[1;33m,\u001b[0m \u001b[0mn\u001b[0m\u001b[1;33m)\u001b[0m\u001b[1;33m\u001b[0m\u001b[1;33m\u001b[0m\u001b[0m\n\u001b[0m\u001b[0;32m    411\u001b[0m     \u001b[0mm\u001b[0m \u001b[1;33m=\u001b[0m \u001b[0mshape\u001b[0m\u001b[1;33m[\u001b[0m\u001b[1;36m0\u001b[0m\u001b[1;33m]\u001b[0m\u001b[1;33m\u001b[0m\u001b[1;33m\u001b[0m\u001b[0m\n\u001b[0;32m    412\u001b[0m \u001b[1;33m\u001b[0m\u001b[0m\n",
      "\u001b[1;32m~\\anaconda3\\lib\\site-packages\\scipy\\optimize\\minpack.py\u001b[0m in \u001b[0;36m_check_func\u001b[1;34m(checker, argname, thefunc, x0, args, numinputs, output_shape)\u001b[0m\n\u001b[0;32m     22\u001b[0m def _check_func(checker, argname, thefunc, x0, args, numinputs,\n\u001b[0;32m     23\u001b[0m                 output_shape=None):\n\u001b[1;32m---> 24\u001b[1;33m     \u001b[0mres\u001b[0m \u001b[1;33m=\u001b[0m \u001b[0matleast_1d\u001b[0m\u001b[1;33m(\u001b[0m\u001b[0mthefunc\u001b[0m\u001b[1;33m(\u001b[0m\u001b[1;33m*\u001b[0m\u001b[1;33m(\u001b[0m\u001b[1;33m(\u001b[0m\u001b[0mx0\u001b[0m\u001b[1;33m[\u001b[0m\u001b[1;33m:\u001b[0m\u001b[0mnuminputs\u001b[0m\u001b[1;33m]\u001b[0m\u001b[1;33m,\u001b[0m\u001b[1;33m)\u001b[0m \u001b[1;33m+\u001b[0m \u001b[0margs\u001b[0m\u001b[1;33m)\u001b[0m\u001b[1;33m)\u001b[0m\u001b[1;33m)\u001b[0m\u001b[1;33m\u001b[0m\u001b[1;33m\u001b[0m\u001b[0m\n\u001b[0m\u001b[0;32m     25\u001b[0m     \u001b[1;32mif\u001b[0m \u001b[1;33m(\u001b[0m\u001b[0moutput_shape\u001b[0m \u001b[1;32mis\u001b[0m \u001b[1;32mnot\u001b[0m \u001b[1;32mNone\u001b[0m\u001b[1;33m)\u001b[0m \u001b[1;32mand\u001b[0m \u001b[1;33m(\u001b[0m\u001b[0mshape\u001b[0m\u001b[1;33m(\u001b[0m\u001b[0mres\u001b[0m\u001b[1;33m)\u001b[0m \u001b[1;33m!=\u001b[0m \u001b[0moutput_shape\u001b[0m\u001b[1;33m)\u001b[0m\u001b[1;33m:\u001b[0m\u001b[1;33m\u001b[0m\u001b[1;33m\u001b[0m\u001b[0m\n\u001b[0;32m     26\u001b[0m         \u001b[1;32mif\u001b[0m \u001b[1;33m(\u001b[0m\u001b[0moutput_shape\u001b[0m\u001b[1;33m[\u001b[0m\u001b[1;36m0\u001b[0m\u001b[1;33m]\u001b[0m \u001b[1;33m!=\u001b[0m \u001b[1;36m1\u001b[0m\u001b[1;33m)\u001b[0m\u001b[1;33m:\u001b[0m\u001b[1;33m\u001b[0m\u001b[1;33m\u001b[0m\u001b[0m\n",
      "\u001b[1;32m~\\anaconda3\\lib\\site-packages\\scipy\\optimize\\minpack.py\u001b[0m in \u001b[0;36mfunc_wrapped\u001b[1;34m(params)\u001b[0m\n\u001b[0;32m    483\u001b[0m     \u001b[1;32mif\u001b[0m \u001b[0mtransform\u001b[0m \u001b[1;32mis\u001b[0m \u001b[1;32mNone\u001b[0m\u001b[1;33m:\u001b[0m\u001b[1;33m\u001b[0m\u001b[1;33m\u001b[0m\u001b[0m\n\u001b[0;32m    484\u001b[0m         \u001b[1;32mdef\u001b[0m \u001b[0mfunc_wrapped\u001b[0m\u001b[1;33m(\u001b[0m\u001b[0mparams\u001b[0m\u001b[1;33m)\u001b[0m\u001b[1;33m:\u001b[0m\u001b[1;33m\u001b[0m\u001b[1;33m\u001b[0m\u001b[0m\n\u001b[1;32m--> 485\u001b[1;33m             \u001b[1;32mreturn\u001b[0m \u001b[0mfunc\u001b[0m\u001b[1;33m(\u001b[0m\u001b[0mxdata\u001b[0m\u001b[1;33m,\u001b[0m \u001b[1;33m*\u001b[0m\u001b[0mparams\u001b[0m\u001b[1;33m)\u001b[0m \u001b[1;33m-\u001b[0m \u001b[0mydata\u001b[0m\u001b[1;33m\u001b[0m\u001b[1;33m\u001b[0m\u001b[0m\n\u001b[0m\u001b[0;32m    486\u001b[0m     \u001b[1;32melif\u001b[0m \u001b[0mtransform\u001b[0m\u001b[1;33m.\u001b[0m\u001b[0mndim\u001b[0m \u001b[1;33m==\u001b[0m \u001b[1;36m1\u001b[0m\u001b[1;33m:\u001b[0m\u001b[1;33m\u001b[0m\u001b[1;33m\u001b[0m\u001b[0m\n\u001b[0;32m    487\u001b[0m         \u001b[1;32mdef\u001b[0m \u001b[0mfunc_wrapped\u001b[0m\u001b[1;33m(\u001b[0m\u001b[0mparams\u001b[0m\u001b[1;33m)\u001b[0m\u001b[1;33m:\u001b[0m\u001b[1;33m\u001b[0m\u001b[1;33m\u001b[0m\u001b[0m\n",
      "\u001b[1;31mTypeError\u001b[0m: gauss_1Dfunc() takes 2 positional arguments but 5 were given"
     ]
    }
   ],
   "source": [
    "popt, pcov = curve_fit(gauss_1Dfunc, xdata, Z1.ravel(), p0)"
   ]
  },
  {
   "cell_type": "code",
   "execution_count": 720,
   "id": "8474e61b",
   "metadata": {},
   "outputs": [
    {
     "name": "stderr",
     "output_type": "stream",
     "text": [
      "C:\\Users\\nita8\\anaconda3\\lib\\site-packages\\ipykernel_launcher.py:2: MatplotlibDeprecationWarning: Calling gca() with keyword arguments was deprecated in Matplotlib 3.4. Starting two minor releases later, gca() will take no keyword arguments. The gca() function should only be used to get the current axes, or if no axes exist, create new axes with default keyword arguments. To create a new axes with non-default arguments, use plt.axes() or plt.subplot().\n",
      "  \n"
     ]
    },
    {
     "data": {
      "image/png": "[encoded data removed]",
      "text/plain": [
       "<Figure size 921.6x633.6 with 1 Axes>"
      ]
     },
     "metadata": {
      "needs_background": "light"
     },
     "output_type": "display_data"
    }
   ],
   "source": [
    "fig = plt.figure()\n",
    "ax = fig.gca(projection='3d')\n",
    "ax.plot_surface(X1, Y1, Z1, cmap='plasma')\n",
    "ax.set_zlim(0,np.max(Z1)+2)\n",
    "plt.show()"
   ]
  },
  {
   "cell_type": "code",
   "execution_count": null,
   "id": "226141ad",
   "metadata": {},
   "outputs": [],
   "source": []
  },
  {
   "cell_type": "code",
   "execution_count": 589,
   "id": "5012d25c",
   "metadata": {},
   "outputs": [
    {
     "data": {
      "text/plain": [
       "50.22190440745626"
      ]
     },
     "execution_count": 589,
     "metadata": {},
     "output_type": "execute_result"
    }
   ],
   "source": [
    "data_noisy.max()"
   ]
  },
  {
   "cell_type": "code",
   "execution_count": 590,
   "id": "3e736d17",
   "metadata": {},
   "outputs": [],
   "source": [
    "df_data = pd.DataFrame(data_noisy)"
   ]
  },
  {
   "cell_type": "code",
   "execution_count": 591,
   "id": "0112ac49",
   "metadata": {},
   "outputs": [
    {
     "data": {
      "text/html": [
       "<div>\n",
       "<style scoped>\n",
       "    .dataframe tbody tr th:only-of-type {\n",
       "        vertical-align: middle;\n",
       "    }\n",
       "\n",
       "    .dataframe tbody tr th {\n",
       "        vertical-align: top;\n",
       "    }\n",
       "\n",
       "    .dataframe thead th {\n",
       "        text-align: right;\n",
       "    }\n",
       "</style>\n",
       "<table border=\"1\" class=\"dataframe\">\n",
       "  <thead>\n",
       "    <tr style=\"text-align: right;\">\n",
       "      <th></th>\n",
       "      <th>0</th>\n",
       "      <th>1</th>\n",
       "      <th>2</th>\n",
       "      <th>3</th>\n",
       "      <th>4</th>\n",
       "      <th>5</th>\n",
       "      <th>6</th>\n",
       "      <th>7</th>\n",
       "      <th>8</th>\n",
       "      <th>9</th>\n",
       "      <th>...</th>\n",
       "      <th>191</th>\n",
       "      <th>192</th>\n",
       "      <th>193</th>\n",
       "      <th>194</th>\n",
       "      <th>195</th>\n",
       "      <th>196</th>\n",
       "      <th>197</th>\n",
       "      <th>198</th>\n",
       "      <th>199</th>\n",
       "      <th>200</th>\n",
       "    </tr>\n",
       "  </thead>\n",
       "  <tbody>\n",
       "    <tr>\n",
       "      <th>count</th>\n",
       "      <td>201.000000</td>\n",
       "      <td>201.000000</td>\n",
       "      <td>201.000000</td>\n",
       "      <td>201.000000</td>\n",
       "      <td>201.000000</td>\n",
       "      <td>201.000000</td>\n",
       "      <td>201.000000</td>\n",
       "      <td>201.000000</td>\n",
       "      <td>201.000000</td>\n",
       "      <td>201.000000</td>\n",
       "      <td>...</td>\n",
       "      <td>201.000000</td>\n",
       "      <td>201.000000</td>\n",
       "      <td>201.000000</td>\n",
       "      <td>201.000000</td>\n",
       "      <td>201.000000</td>\n",
       "      <td>201.000000</td>\n",
       "      <td>201.000000</td>\n",
       "      <td>201.000000</td>\n",
       "      <td>201.000000</td>\n",
       "      <td>201.000000</td>\n",
       "    </tr>\n",
       "    <tr>\n",
       "      <th>mean</th>\n",
       "      <td>-0.016618</td>\n",
       "      <td>-0.005063</td>\n",
       "      <td>-0.017794</td>\n",
       "      <td>0.004669</td>\n",
       "      <td>0.003405</td>\n",
       "      <td>0.003344</td>\n",
       "      <td>0.010806</td>\n",
       "      <td>-0.000070</td>\n",
       "      <td>0.017981</td>\n",
       "      <td>0.027917</td>\n",
       "      <td>...</td>\n",
       "      <td>-0.014933</td>\n",
       "      <td>0.003597</td>\n",
       "      <td>-0.015385</td>\n",
       "      <td>0.017300</td>\n",
       "      <td>-0.016349</td>\n",
       "      <td>0.016683</td>\n",
       "      <td>-0.000174</td>\n",
       "      <td>-0.005313</td>\n",
       "      <td>-0.008976</td>\n",
       "      <td>-0.003151</td>\n",
       "    </tr>\n",
       "    <tr>\n",
       "      <th>std</th>\n",
       "      <td>0.190385</td>\n",
       "      <td>0.206005</td>\n",
       "      <td>0.203196</td>\n",
       "      <td>0.180541</td>\n",
       "      <td>0.197181</td>\n",
       "      <td>0.201172</td>\n",
       "      <td>0.209142</td>\n",
       "      <td>0.217076</td>\n",
       "      <td>0.211621</td>\n",
       "      <td>0.212287</td>\n",
       "      <td>...</td>\n",
       "      <td>0.194260</td>\n",
       "      <td>0.188015</td>\n",
       "      <td>0.199272</td>\n",
       "      <td>0.201975</td>\n",
       "      <td>0.199864</td>\n",
       "      <td>0.200244</td>\n",
       "      <td>0.192700</td>\n",
       "      <td>0.214538</td>\n",
       "      <td>0.221008</td>\n",
       "      <td>0.210438</td>\n",
       "    </tr>\n",
       "    <tr>\n",
       "      <th>min</th>\n",
       "      <td>-0.724739</td>\n",
       "      <td>-0.720399</td>\n",
       "      <td>-0.578870</td>\n",
       "      <td>-0.435098</td>\n",
       "      <td>-0.592732</td>\n",
       "      <td>-0.501312</td>\n",
       "      <td>-0.460868</td>\n",
       "      <td>-0.516012</td>\n",
       "      <td>-0.677528</td>\n",
       "      <td>-0.490056</td>\n",
       "      <td>...</td>\n",
       "      <td>-0.658574</td>\n",
       "      <td>-0.571892</td>\n",
       "      <td>-0.506924</td>\n",
       "      <td>-0.484101</td>\n",
       "      <td>-0.727626</td>\n",
       "      <td>-0.813481</td>\n",
       "      <td>-0.493939</td>\n",
       "      <td>-0.609727</td>\n",
       "      <td>-0.525333</td>\n",
       "      <td>-0.534666</td>\n",
       "    </tr>\n",
       "    <tr>\n",
       "      <th>25%</th>\n",
       "      <td>-0.140046</td>\n",
       "      <td>-0.140302</td>\n",
       "      <td>-0.148313</td>\n",
       "      <td>-0.114099</td>\n",
       "      <td>-0.136236</td>\n",
       "      <td>-0.133639</td>\n",
       "      <td>-0.123998</td>\n",
       "      <td>-0.150781</td>\n",
       "      <td>-0.124789</td>\n",
       "      <td>-0.108843</td>\n",
       "      <td>...</td>\n",
       "      <td>-0.153684</td>\n",
       "      <td>-0.129991</td>\n",
       "      <td>-0.151785</td>\n",
       "      <td>-0.098885</td>\n",
       "      <td>-0.154255</td>\n",
       "      <td>-0.113410</td>\n",
       "      <td>-0.121434</td>\n",
       "      <td>-0.147062</td>\n",
       "      <td>-0.150441</td>\n",
       "      <td>-0.158926</td>\n",
       "    </tr>\n",
       "    <tr>\n",
       "      <th>50%</th>\n",
       "      <td>-0.008284</td>\n",
       "      <td>-0.000389</td>\n",
       "      <td>-0.004853</td>\n",
       "      <td>0.000301</td>\n",
       "      <td>-0.006300</td>\n",
       "      <td>-0.000706</td>\n",
       "      <td>-0.016525</td>\n",
       "      <td>-0.001916</td>\n",
       "      <td>0.018444</td>\n",
       "      <td>0.041919</td>\n",
       "      <td>...</td>\n",
       "      <td>-0.008580</td>\n",
       "      <td>0.010366</td>\n",
       "      <td>-0.009584</td>\n",
       "      <td>0.020880</td>\n",
       "      <td>-0.020089</td>\n",
       "      <td>0.017135</td>\n",
       "      <td>0.003965</td>\n",
       "      <td>0.011394</td>\n",
       "      <td>-0.000233</td>\n",
       "      <td>-0.018238</td>\n",
       "    </tr>\n",
       "    <tr>\n",
       "      <th>75%</th>\n",
       "      <td>0.106236</td>\n",
       "      <td>0.128843</td>\n",
       "      <td>0.108356</td>\n",
       "      <td>0.128832</td>\n",
       "      <td>0.114312</td>\n",
       "      <td>0.138926</td>\n",
       "      <td>0.165395</td>\n",
       "      <td>0.152233</td>\n",
       "      <td>0.166663</td>\n",
       "      <td>0.154752</td>\n",
       "      <td>...</td>\n",
       "      <td>0.134646</td>\n",
       "      <td>0.117736</td>\n",
       "      <td>0.105096</td>\n",
       "      <td>0.154844</td>\n",
       "      <td>0.108560</td>\n",
       "      <td>0.137683</td>\n",
       "      <td>0.104044</td>\n",
       "      <td>0.122122</td>\n",
       "      <td>0.142949</td>\n",
       "      <td>0.139853</td>\n",
       "    </tr>\n",
       "    <tr>\n",
       "      <th>max</th>\n",
       "      <td>0.533811</td>\n",
       "      <td>0.591388</td>\n",
       "      <td>0.560563</td>\n",
       "      <td>0.676615</td>\n",
       "      <td>0.623660</td>\n",
       "      <td>0.571256</td>\n",
       "      <td>0.656236</td>\n",
       "      <td>0.806944</td>\n",
       "      <td>0.573924</td>\n",
       "      <td>0.714059</td>\n",
       "      <td>...</td>\n",
       "      <td>0.444109</td>\n",
       "      <td>0.581410</td>\n",
       "      <td>0.599105</td>\n",
       "      <td>0.710827</td>\n",
       "      <td>0.492407</td>\n",
       "      <td>0.576932</td>\n",
       "      <td>0.436939</td>\n",
       "      <td>0.585408</td>\n",
       "      <td>0.641815</td>\n",
       "      <td>0.555456</td>\n",
       "    </tr>\n",
       "  </tbody>\n",
       "</table>\n",
       "<p>8 rows × 201 columns</p>\n",
       "</div>"
      ],
      "text/plain": [
       "              0           1           2           3           4           5    \\\n",
       "count  201.000000  201.000000  201.000000  201.000000  201.000000  201.000000   \n",
       "mean    -0.016618   -0.005063   -0.017794    0.004669    0.003405    0.003344   \n",
       "std      0.190385    0.206005    0.203196    0.180541    0.197181    0.201172   \n",
       "min     -0.724739   -0.720399   -0.578870   -0.435098   -0.592732   -0.501312   \n",
       "25%     -0.140046   -0.140302   -0.148313   -0.114099   -0.136236   -0.133639   \n",
       "50%     -0.008284   -0.000389   -0.004853    0.000301   -0.006300   -0.000706   \n",
       "75%      0.106236    0.128843    0.108356    0.128832    0.114312    0.138926   \n",
       "max      0.533811    0.591388    0.560563    0.676615    0.623660    0.571256   \n",
       "\n",
       "              6           7           8           9    ...         191  \\\n",
       "count  201.000000  201.000000  201.000000  201.000000  ...  201.000000   \n",
       "mean     0.010806   -0.000070    0.017981    0.027917  ...   -0.014933   \n",
       "std      0.209142    0.217076    0.211621    0.212287  ...    0.194260   \n",
       "min     -0.460868   -0.516012   -0.677528   -0.490056  ...   -0.658574   \n",
       "25%     -0.123998   -0.150781   -0.124789   -0.108843  ...   -0.153684   \n",
       "50%     -0.016525   -0.001916    0.018444    0.041919  ...   -0.008580   \n",
       "75%      0.165395    0.152233    0.166663    0.154752  ...    0.134646   \n",
       "max      0.656236    0.806944    0.573924    0.714059  ...    0.444109   \n",
       "\n",
       "              192         193         194         195         196         197  \\\n",
       "count  201.000000  201.000000  201.000000  201.000000  201.000000  201.000000   \n",
       "mean     0.003597   -0.015385    0.017300   -0.016349    0.016683   -0.000174   \n",
       "std      0.188015    0.199272    0.201975    0.199864    0.200244    0.192700   \n",
       "min     -0.571892   -0.506924   -0.484101   -0.727626   -0.813481   -0.493939   \n",
       "25%     -0.129991   -0.151785   -0.098885   -0.154255   -0.113410   -0.121434   \n",
       "50%      0.010366   -0.009584    0.020880   -0.020089    0.017135    0.003965   \n",
       "75%      0.117736    0.105096    0.154844    0.108560    0.137683    0.104044   \n",
       "max      0.581410    0.599105    0.710827    0.492407    0.576932    0.436939   \n",
       "\n",
       "              198         199         200  \n",
       "count  201.000000  201.000000  201.000000  \n",
       "mean    -0.005313   -0.008976   -0.003151  \n",
       "std      0.214538    0.221008    0.210438  \n",
       "min     -0.609727   -0.525333   -0.534666  \n",
       "25%     -0.147062   -0.150441   -0.158926  \n",
       "50%      0.011394   -0.000233   -0.018238  \n",
       "75%      0.122122    0.142949    0.139853  \n",
       "max      0.585408    0.641815    0.555456  \n",
       "\n",
       "[8 rows x 201 columns]"
      ]
     },
     "execution_count": 591,
     "metadata": {},
     "output_type": "execute_result"
    }
   ],
   "source": [
    "df_data.describe()"
   ]
  },
  {
   "cell_type": "code",
   "execution_count": 592,
   "id": "7aec5f88",
   "metadata": {},
   "outputs": [],
   "source": [
    "#define dunction that plots the dataframe\n",
    "\n",
    "def plot_df(df_data, vmin, vmax):    \n",
    "    \n",
    "    #plotting the data\n",
    "\n",
    "    x1 = df.columns\n",
    "    y1 = df.index\n",
    "    z1 = df\n",
    "    X1,Y1 = np.meshgrid(x1,y1)\n",
    "    Z1 = z1\n",
    "    img = plt.contourf(X1,Y1,Z1,50, cmap='jet', vmin=-vmin, vmax=vmax )\n",
    "    plt.colorbar(img)\n",
    "    return"
   ]
  },
  {
   "cell_type": "code",
   "execution_count": 593,
   "id": "d4d8137f",
   "metadata": {},
   "outputs": [],
   "source": [
    "# plot_df(df_data, 99, 100)"
   ]
  },
  {
   "cell_type": "code",
   "execution_count": 594,
   "id": "017e72c3",
   "metadata": {},
   "outputs": [
    {
     "data": {
      "text/html": [
       "<div>\n",
       "<style scoped>\n",
       "    .dataframe tbody tr th:only-of-type {\n",
       "        vertical-align: middle;\n",
       "    }\n",
       "\n",
       "    .dataframe tbody tr th {\n",
       "        vertical-align: top;\n",
       "    }\n",
       "\n",
       "    .dataframe thead th {\n",
       "        text-align: right;\n",
       "    }\n",
       "</style>\n",
       "<table border=\"1\" class=\"dataframe\">\n",
       "  <thead>\n",
       "    <tr style=\"text-align: right;\">\n",
       "      <th></th>\n",
       "      <th>0</th>\n",
       "      <th>1</th>\n",
       "      <th>2</th>\n",
       "      <th>3</th>\n",
       "      <th>4</th>\n",
       "      <th>5</th>\n",
       "      <th>6</th>\n",
       "      <th>7</th>\n",
       "      <th>8</th>\n",
       "      <th>9</th>\n",
       "      <th>...</th>\n",
       "      <th>191</th>\n",
       "      <th>192</th>\n",
       "      <th>193</th>\n",
       "      <th>194</th>\n",
       "      <th>195</th>\n",
       "      <th>196</th>\n",
       "      <th>197</th>\n",
       "      <th>198</th>\n",
       "      <th>199</th>\n",
       "      <th>200</th>\n",
       "    </tr>\n",
       "  </thead>\n",
       "  <tbody>\n",
       "    <tr>\n",
       "      <th>0</th>\n",
       "      <td>-0.323571</td>\n",
       "      <td>-0.001355</td>\n",
       "      <td>-0.110622</td>\n",
       "      <td>-0.193083</td>\n",
       "      <td>0.119087</td>\n",
       "      <td>-0.197027</td>\n",
       "      <td>0.356980</td>\n",
       "      <td>0.275961</td>\n",
       "      <td>0.186527</td>\n",
       "      <td>0.146989</td>\n",
       "      <td>...</td>\n",
       "      <td>0.182448</td>\n",
       "      <td>-0.237092</td>\n",
       "      <td>-0.117028</td>\n",
       "      <td>0.324057</td>\n",
       "      <td>-0.226451</td>\n",
       "      <td>-0.078270</td>\n",
       "      <td>0.020336</td>\n",
       "      <td>0.239548</td>\n",
       "      <td>-0.000233</td>\n",
       "      <td>-0.123744</td>\n",
       "    </tr>\n",
       "    <tr>\n",
       "      <th>1</th>\n",
       "      <td>-0.291071</td>\n",
       "      <td>0.158597</td>\n",
       "      <td>0.054950</td>\n",
       "      <td>-0.066010</td>\n",
       "      <td>-0.204391</td>\n",
       "      <td>-0.207925</td>\n",
       "      <td>-0.158688</td>\n",
       "      <td>-0.382635</td>\n",
       "      <td>-0.032302</td>\n",
       "      <td>0.004204</td>\n",
       "      <td>...</td>\n",
       "      <td>0.205599</td>\n",
       "      <td>-0.162506</td>\n",
       "      <td>-0.002828</td>\n",
       "      <td>0.213059</td>\n",
       "      <td>0.226734</td>\n",
       "      <td>0.262863</td>\n",
       "      <td>0.110721</td>\n",
       "      <td>0.169002</td>\n",
       "      <td>-0.037692</td>\n",
       "      <td>-0.421435</td>\n",
       "    </tr>\n",
       "    <tr>\n",
       "      <th>2</th>\n",
       "      <td>-0.006018</td>\n",
       "      <td>-0.239930</td>\n",
       "      <td>0.018761</td>\n",
       "      <td>-0.014527</td>\n",
       "      <td>0.090017</td>\n",
       "      <td>-0.067762</td>\n",
       "      <td>-0.255880</td>\n",
       "      <td>0.079310</td>\n",
       "      <td>0.253077</td>\n",
       "      <td>-0.292635</td>\n",
       "      <td>...</td>\n",
       "      <td>0.301216</td>\n",
       "      <td>0.083255</td>\n",
       "      <td>0.065636</td>\n",
       "      <td>0.117891</td>\n",
       "      <td>0.179084</td>\n",
       "      <td>-0.060402</td>\n",
       "      <td>-0.080710</td>\n",
       "      <td>0.142024</td>\n",
       "      <td>-0.145664</td>\n",
       "      <td>0.165919</td>\n",
       "    </tr>\n",
       "    <tr>\n",
       "      <th>3</th>\n",
       "      <td>-0.293186</td>\n",
       "      <td>-0.181325</td>\n",
       "      <td>-0.128488</td>\n",
       "      <td>0.337087</td>\n",
       "      <td>0.286930</td>\n",
       "      <td>0.091653</td>\n",
       "      <td>-0.143131</td>\n",
       "      <td>0.208951</td>\n",
       "      <td>-0.151520</td>\n",
       "      <td>-0.212943</td>\n",
       "      <td>...</td>\n",
       "      <td>0.004562</td>\n",
       "      <td>0.191364</td>\n",
       "      <td>0.357567</td>\n",
       "      <td>0.177725</td>\n",
       "      <td>-0.038353</td>\n",
       "      <td>-0.211956</td>\n",
       "      <td>0.075911</td>\n",
       "      <td>0.392338</td>\n",
       "      <td>0.333933</td>\n",
       "      <td>-0.216313</td>\n",
       "    </tr>\n",
       "    <tr>\n",
       "      <th>4</th>\n",
       "      <td>0.056661</td>\n",
       "      <td>-0.305734</td>\n",
       "      <td>-0.048860</td>\n",
       "      <td>-0.070083</td>\n",
       "      <td>-0.278394</td>\n",
       "      <td>0.033622</td>\n",
       "      <td>-0.365279</td>\n",
       "      <td>0.287362</td>\n",
       "      <td>-0.173302</td>\n",
       "      <td>0.213352</td>\n",
       "      <td>...</td>\n",
       "      <td>-0.014835</td>\n",
       "      <td>-0.024142</td>\n",
       "      <td>-0.034191</td>\n",
       "      <td>-0.218797</td>\n",
       "      <td>-0.290231</td>\n",
       "      <td>0.238702</td>\n",
       "      <td>-0.003865</td>\n",
       "      <td>0.257074</td>\n",
       "      <td>-0.146061</td>\n",
       "      <td>-0.007853</td>\n",
       "    </tr>\n",
       "  </tbody>\n",
       "</table>\n",
       "<p>5 rows × 201 columns</p>\n",
       "</div>"
      ],
      "text/plain": [
       "        0         1         2         3         4         5         6    \\\n",
       "0 -0.323571 -0.001355 -0.110622 -0.193083  0.119087 -0.197027  0.356980   \n",
       "1 -0.291071  0.158597  0.054950 -0.066010 -0.204391 -0.207925 -0.158688   \n",
       "2 -0.006018 -0.239930  0.018761 -0.014527  0.090017 -0.067762 -0.255880   \n",
       "3 -0.293186 -0.181325 -0.128488  0.337087  0.286930  0.091653 -0.143131   \n",
       "4  0.056661 -0.305734 -0.048860 -0.070083 -0.278394  0.033622 -0.365279   \n",
       "\n",
       "        7         8         9    ...       191       192       193       194  \\\n",
       "0  0.275961  0.186527  0.146989  ...  0.182448 -0.237092 -0.117028  0.324057   \n",
       "1 -0.382635 -0.032302  0.004204  ...  0.205599 -0.162506 -0.002828  0.213059   \n",
       "2  0.079310  0.253077 -0.292635  ...  0.301216  0.083255  0.065636  0.117891   \n",
       "3  0.208951 -0.151520 -0.212943  ...  0.004562  0.191364  0.357567  0.177725   \n",
       "4  0.287362 -0.173302  0.213352  ... -0.014835 -0.024142 -0.034191 -0.218797   \n",
       "\n",
       "        195       196       197       198       199       200  \n",
       "0 -0.226451 -0.078270  0.020336  0.239548 -0.000233 -0.123744  \n",
       "1  0.226734  0.262863  0.110721  0.169002 -0.037692 -0.421435  \n",
       "2  0.179084 -0.060402 -0.080710  0.142024 -0.145664  0.165919  \n",
       "3 -0.038353 -0.211956  0.075911  0.392338  0.333933 -0.216313  \n",
       "4 -0.290231  0.238702 -0.003865  0.257074 -0.146061 -0.007853  \n",
       "\n",
       "[5 rows x 201 columns]"
      ]
     },
     "execution_count": 594,
     "metadata": {},
     "output_type": "execute_result"
    }
   ],
   "source": [
    "df_data.head()"
   ]
  },
  {
   "cell_type": "code",
   "execution_count": 595,
   "id": "09ac5806",
   "metadata": {},
   "outputs": [
    {
     "data": {
      "text/plain": [
       "[<matplotlib.lines.Line2D at 0x24d46c8f788>]"
      ]
     },
     "execution_count": 595,
     "metadata": {},
     "output_type": "execute_result"
    },
    {
     "data": {
      "image/png": "[encoded data removed]",
      "text/plain": [
       "<Figure size 432x288 with 1 Axes>"
      ]
     },
     "metadata": {
      "needs_background": "light"
     },
     "output_type": "display_data"
    }
   ],
   "source": [
    "plt.plot(df_data.iloc[100])"
   ]
  },
  {
   "cell_type": "code",
   "execution_count": 596,
   "id": "0c64a061",
   "metadata": {},
   "outputs": [
    {
     "data": {
      "text/plain": [
       "201"
      ]
     },
     "execution_count": 596,
     "metadata": {},
     "output_type": "execute_result"
    }
   ],
   "source": [
    "df_data.shape[0]"
   ]
  },
  {
   "cell_type": "code",
   "execution_count": 597,
   "id": "45abf957",
   "metadata": {},
   "outputs": [],
   "source": [
    "from scipy.optimize import least_squares"
   ]
  },
  {
   "cell_type": "code",
   "execution_count": null,
   "id": "bfe58eec",
   "metadata": {},
   "outputs": [],
   "source": []
  },
  {
   "cell_type": "code",
   "execution_count": 598,
   "id": "e287e09d",
   "metadata": {},
   "outputs": [],
   "source": [
    "def func_A(t, time):\n",
    "#     B=20\n",
    "#     t0 = 2.38110371e+02\n",
    "    t0 = 0\n",
    "    offset = 100\n",
    "#     f = (np.exp((B/(2*1.66511*t_i))**2 - ((t-t0)/t_i))*0.5*(erf(((t-t0)/B)*1.66511 - (B/(2*1.66511*t_i))) + 1)) \n",
    "    f = offset + a*(np.exp(-(t-t0)/(time[0])) + np.exp(-(t-t0)/(time[1])) + np.exp(-(t-t0)/(time[2])) + np.exp(-(t-t0)/(time[3])))\n",
    "    return "
   ]
  },
  {
   "cell_type": "code",
   "execution_count": 605,
   "id": "114fa7be",
   "metadata": {},
   "outputs": [],
   "source": [
    "# time = [10, 20, 50, 200]\n",
    "t = np.linspace(1, 100, 201)\n",
    "time = [ 0.2, 50, 10, 0]"
   ]
  },
  {
   "cell_type": "code",
   "execution_count": 606,
   "id": "d66ac2c5",
   "metadata": {},
   "outputs": [
    {
     "data": {
      "text/plain": [
       "[<matplotlib.lines.Line2D at 0x24d44d6f348>]"
      ]
     },
     "execution_count": 606,
     "metadata": {},
     "output_type": "execute_result"
    },
    {
     "data": {
      "image/png": "[encoded data removed]",
      "text/plain": [
       "<Figure size 432x288 with 1 Axes>"
      ]
     },
     "metadata": {
      "needs_background": "light"
     },
     "output_type": "display_data"
    }
   ],
   "source": [
    "plt.plot(t, gauss_1Dfunc(t, time))\n",
    "# a, x0,  sigma_x,  offset"
   ]
  },
  {
   "cell_type": "code",
   "execution_count": 675,
   "id": "8089d446",
   "metadata": {},
   "outputs": [],
   "source": [
    "t = np.linspace(1, 100, 201)\n",
    "T_matrix = np.zeros((df_data.shape[0], df_data.shape[1]))\n",
    "for i in range(T_matrix.shape[0]):\n",
    "    T_matrix[i] = gauss_1Dfunc(t, time)"
   ]
  },
  {
   "cell_type": "code",
   "execution_count": 678,
   "id": "68892946",
   "metadata": {},
   "outputs": [],
   "source": [
    "T_df = pd.DataFrame(T_matrix)\n",
    "data_matrix = np.array(df_data)"
   ]
  },
  {
   "cell_type": "code",
   "execution_count": 679,
   "id": "7218ed9e",
   "metadata": {},
   "outputs": [],
   "source": [
    "x1 = t\n",
    "y1 = t\n",
    "z1 = df\n",
    "X1,Y1 = np.meshgrid(x1,y1)\n",
    "Z1 = z1"
   ]
  },
  {
   "cell_type": "code",
   "execution_count": 680,
   "id": "88e27b7e",
   "metadata": {},
   "outputs": [
    {
     "data": {
      "text/html": [
       "<div>\n",
       "<style scoped>\n",
       "    .dataframe tbody tr th:only-of-type {\n",
       "        vertical-align: middle;\n",
       "    }\n",
       "\n",
       "    .dataframe tbody tr th {\n",
       "        vertical-align: top;\n",
       "    }\n",
       "\n",
       "    .dataframe thead th {\n",
       "        text-align: right;\n",
       "    }\n",
       "</style>\n",
       "<table border=\"1\" class=\"dataframe\">\n",
       "  <thead>\n",
       "    <tr style=\"text-align: right;\">\n",
       "      <th></th>\n",
       "      <th>Wavelength</th>\n",
       "      <th>-500.0</th>\n",
       "      <th>-490.0</th>\n",
       "      <th>-480.0</th>\n",
       "      <th>-470.0</th>\n",
       "      <th>-460.0</th>\n",
       "      <th>-450.0</th>\n",
       "      <th>-440.0</th>\n",
       "      <th>-430.0</th>\n",
       "      <th>-420.0</th>\n",
       "      <th>...</th>\n",
       "      <th>4910.0</th>\n",
       "      <th>4920.0</th>\n",
       "      <th>4930.0</th>\n",
       "      <th>4940.0</th>\n",
       "      <th>4950.0</th>\n",
       "      <th>4960.0</th>\n",
       "      <th>4970.0</th>\n",
       "      <th>4980.0</th>\n",
       "      <th>4990.0</th>\n",
       "      <th>5000.0</th>\n",
       "    </tr>\n",
       "  </thead>\n",
       "  <tbody>\n",
       "    <tr>\n",
       "      <th>0</th>\n",
       "      <td>549.8464</td>\n",
       "      <td>0.000000</td>\n",
       "      <td>0.000000</td>\n",
       "      <td>0.000000</td>\n",
       "      <td>0.000000</td>\n",
       "      <td>0.000000</td>\n",
       "      <td>0.000000</td>\n",
       "      <td>0.000000</td>\n",
       "      <td>0.000000</td>\n",
       "      <td>0.000000</td>\n",
       "      <td>...</td>\n",
       "      <td>0.0</td>\n",
       "      <td>0.0</td>\n",
       "      <td>0.0</td>\n",
       "      <td>0.0</td>\n",
       "      <td>0.0</td>\n",
       "      <td>0.0</td>\n",
       "      <td>0.0</td>\n",
       "      <td>0.0</td>\n",
       "      <td>0.0</td>\n",
       "      <td>0.0</td>\n",
       "    </tr>\n",
       "    <tr>\n",
       "      <th>1</th>\n",
       "      <td>550.0243</td>\n",
       "      <td>0.000000</td>\n",
       "      <td>0.000000</td>\n",
       "      <td>0.000000</td>\n",
       "      <td>0.000000</td>\n",
       "      <td>0.000000</td>\n",
       "      <td>0.000000</td>\n",
       "      <td>0.000000</td>\n",
       "      <td>0.000000</td>\n",
       "      <td>0.000000</td>\n",
       "      <td>...</td>\n",
       "      <td>0.0</td>\n",
       "      <td>0.0</td>\n",
       "      <td>0.0</td>\n",
       "      <td>0.0</td>\n",
       "      <td>0.0</td>\n",
       "      <td>0.0</td>\n",
       "      <td>0.0</td>\n",
       "      <td>0.0</td>\n",
       "      <td>0.0</td>\n",
       "      <td>0.0</td>\n",
       "    </tr>\n",
       "    <tr>\n",
       "      <th>2</th>\n",
       "      <td>550.2022</td>\n",
       "      <td>0.000000</td>\n",
       "      <td>0.000000</td>\n",
       "      <td>0.000000</td>\n",
       "      <td>0.000000</td>\n",
       "      <td>0.000000</td>\n",
       "      <td>0.000000</td>\n",
       "      <td>0.000000</td>\n",
       "      <td>0.000000</td>\n",
       "      <td>0.000000</td>\n",
       "      <td>...</td>\n",
       "      <td>0.0</td>\n",
       "      <td>0.0</td>\n",
       "      <td>0.0</td>\n",
       "      <td>0.0</td>\n",
       "      <td>0.0</td>\n",
       "      <td>0.0</td>\n",
       "      <td>0.0</td>\n",
       "      <td>0.0</td>\n",
       "      <td>0.0</td>\n",
       "      <td>0.0</td>\n",
       "    </tr>\n",
       "    <tr>\n",
       "      <th>3</th>\n",
       "      <td>550.3801</td>\n",
       "      <td>0.000000</td>\n",
       "      <td>0.000000</td>\n",
       "      <td>0.000000</td>\n",
       "      <td>0.000000</td>\n",
       "      <td>0.000000</td>\n",
       "      <td>0.000000</td>\n",
       "      <td>0.000000</td>\n",
       "      <td>0.000000</td>\n",
       "      <td>0.000000</td>\n",
       "      <td>...</td>\n",
       "      <td>0.0</td>\n",
       "      <td>0.0</td>\n",
       "      <td>0.0</td>\n",
       "      <td>0.0</td>\n",
       "      <td>0.0</td>\n",
       "      <td>0.0</td>\n",
       "      <td>0.0</td>\n",
       "      <td>0.0</td>\n",
       "      <td>0.0</td>\n",
       "      <td>0.0</td>\n",
       "    </tr>\n",
       "    <tr>\n",
       "      <th>4</th>\n",
       "      <td>550.5580</td>\n",
       "      <td>0.000000</td>\n",
       "      <td>0.000000</td>\n",
       "      <td>0.000000</td>\n",
       "      <td>0.000000</td>\n",
       "      <td>0.000000</td>\n",
       "      <td>0.000000</td>\n",
       "      <td>0.000000</td>\n",
       "      <td>0.000000</td>\n",
       "      <td>0.000000</td>\n",
       "      <td>...</td>\n",
       "      <td>0.0</td>\n",
       "      <td>0.0</td>\n",
       "      <td>0.0</td>\n",
       "      <td>0.0</td>\n",
       "      <td>0.0</td>\n",
       "      <td>0.0</td>\n",
       "      <td>0.0</td>\n",
       "      <td>0.0</td>\n",
       "      <td>0.0</td>\n",
       "      <td>0.0</td>\n",
       "    </tr>\n",
       "    <tr>\n",
       "      <th>...</th>\n",
       "      <td>...</td>\n",
       "      <td>...</td>\n",
       "      <td>...</td>\n",
       "      <td>...</td>\n",
       "      <td>...</td>\n",
       "      <td>...</td>\n",
       "      <td>...</td>\n",
       "      <td>...</td>\n",
       "      <td>...</td>\n",
       "      <td>...</td>\n",
       "      <td>...</td>\n",
       "      <td>...</td>\n",
       "      <td>...</td>\n",
       "      <td>...</td>\n",
       "      <td>...</td>\n",
       "      <td>...</td>\n",
       "      <td>...</td>\n",
       "      <td>...</td>\n",
       "      <td>...</td>\n",
       "      <td>...</td>\n",
       "      <td>...</td>\n",
       "    </tr>\n",
       "    <tr>\n",
       "      <th>1047</th>\n",
       "      <td>736.1077</td>\n",
       "      <td>0.273802</td>\n",
       "      <td>-0.351431</td>\n",
       "      <td>0.442094</td>\n",
       "      <td>-0.502174</td>\n",
       "      <td>-0.304459</td>\n",
       "      <td>-1.180041</td>\n",
       "      <td>-0.216812</td>\n",
       "      <td>-0.649647</td>\n",
       "      <td>-0.372488</td>\n",
       "      <td>...</td>\n",
       "      <td>0.0</td>\n",
       "      <td>0.0</td>\n",
       "      <td>0.0</td>\n",
       "      <td>0.0</td>\n",
       "      <td>0.0</td>\n",
       "      <td>0.0</td>\n",
       "      <td>0.0</td>\n",
       "      <td>0.0</td>\n",
       "      <td>0.0</td>\n",
       "      <td>0.0</td>\n",
       "    </tr>\n",
       "    <tr>\n",
       "      <th>1048</th>\n",
       "      <td>736.2856</td>\n",
       "      <td>-0.862387</td>\n",
       "      <td>0.164693</td>\n",
       "      <td>-0.143945</td>\n",
       "      <td>-0.017807</td>\n",
       "      <td>0.070349</td>\n",
       "      <td>-0.554203</td>\n",
       "      <td>-0.293273</td>\n",
       "      <td>0.143734</td>\n",
       "      <td>0.355942</td>\n",
       "      <td>...</td>\n",
       "      <td>0.0</td>\n",
       "      <td>0.0</td>\n",
       "      <td>0.0</td>\n",
       "      <td>0.0</td>\n",
       "      <td>0.0</td>\n",
       "      <td>0.0</td>\n",
       "      <td>0.0</td>\n",
       "      <td>0.0</td>\n",
       "      <td>0.0</td>\n",
       "      <td>0.0</td>\n",
       "    </tr>\n",
       "    <tr>\n",
       "      <th>1049</th>\n",
       "      <td>736.4635</td>\n",
       "      <td>-0.601376</td>\n",
       "      <td>-0.567819</td>\n",
       "      <td>0.114592</td>\n",
       "      <td>-0.263832</td>\n",
       "      <td>0.510414</td>\n",
       "      <td>-0.609755</td>\n",
       "      <td>-0.110617</td>\n",
       "      <td>0.168649</td>\n",
       "      <td>-0.505276</td>\n",
       "      <td>...</td>\n",
       "      <td>0.0</td>\n",
       "      <td>0.0</td>\n",
       "      <td>0.0</td>\n",
       "      <td>0.0</td>\n",
       "      <td>0.0</td>\n",
       "      <td>0.0</td>\n",
       "      <td>0.0</td>\n",
       "      <td>0.0</td>\n",
       "      <td>0.0</td>\n",
       "      <td>0.0</td>\n",
       "    </tr>\n",
       "    <tr>\n",
       "      <th>1050</th>\n",
       "      <td>736.6414</td>\n",
       "      <td>-0.512675</td>\n",
       "      <td>0.603772</td>\n",
       "      <td>0.549889</td>\n",
       "      <td>-0.252057</td>\n",
       "      <td>0.062897</td>\n",
       "      <td>-0.730556</td>\n",
       "      <td>-0.557896</td>\n",
       "      <td>-0.202102</td>\n",
       "      <td>-0.881642</td>\n",
       "      <td>...</td>\n",
       "      <td>0.0</td>\n",
       "      <td>0.0</td>\n",
       "      <td>0.0</td>\n",
       "      <td>0.0</td>\n",
       "      <td>0.0</td>\n",
       "      <td>0.0</td>\n",
       "      <td>0.0</td>\n",
       "      <td>0.0</td>\n",
       "      <td>0.0</td>\n",
       "      <td>0.0</td>\n",
       "    </tr>\n",
       "    <tr>\n",
       "      <th>1051</th>\n",
       "      <td>736.8193</td>\n",
       "      <td>-0.447740</td>\n",
       "      <td>-0.000765</td>\n",
       "      <td>0.146129</td>\n",
       "      <td>-0.566367</td>\n",
       "      <td>-0.161759</td>\n",
       "      <td>0.037571</td>\n",
       "      <td>0.114209</td>\n",
       "      <td>-0.508092</td>\n",
       "      <td>-0.003413</td>\n",
       "      <td>...</td>\n",
       "      <td>0.0</td>\n",
       "      <td>0.0</td>\n",
       "      <td>0.0</td>\n",
       "      <td>0.0</td>\n",
       "      <td>0.0</td>\n",
       "      <td>0.0</td>\n",
       "      <td>0.0</td>\n",
       "      <td>0.0</td>\n",
       "      <td>0.0</td>\n",
       "      <td>0.0</td>\n",
       "    </tr>\n",
       "  </tbody>\n",
       "</table>\n",
       "<p>1052 rows × 552 columns</p>\n",
       "</div>"
      ],
      "text/plain": [
       "      Wavelength    -500.0    -490.0    -480.0    -470.0    -460.0    -450.0  \\\n",
       "0       549.8464  0.000000  0.000000  0.000000  0.000000  0.000000  0.000000   \n",
       "1       550.0243  0.000000  0.000000  0.000000  0.000000  0.000000  0.000000   \n",
       "2       550.2022  0.000000  0.000000  0.000000  0.000000  0.000000  0.000000   \n",
       "3       550.3801  0.000000  0.000000  0.000000  0.000000  0.000000  0.000000   \n",
       "4       550.5580  0.000000  0.000000  0.000000  0.000000  0.000000  0.000000   \n",
       "...          ...       ...       ...       ...       ...       ...       ...   \n",
       "1047    736.1077  0.273802 -0.351431  0.442094 -0.502174 -0.304459 -1.180041   \n",
       "1048    736.2856 -0.862387  0.164693 -0.143945 -0.017807  0.070349 -0.554203   \n",
       "1049    736.4635 -0.601376 -0.567819  0.114592 -0.263832  0.510414 -0.609755   \n",
       "1050    736.6414 -0.512675  0.603772  0.549889 -0.252057  0.062897 -0.730556   \n",
       "1051    736.8193 -0.447740 -0.000765  0.146129 -0.566367 -0.161759  0.037571   \n",
       "\n",
       "        -440.0    -430.0    -420.0  ...  4910.0  4920.0  4930.0  4940.0  \\\n",
       "0     0.000000  0.000000  0.000000  ...     0.0     0.0     0.0     0.0   \n",
       "1     0.000000  0.000000  0.000000  ...     0.0     0.0     0.0     0.0   \n",
       "2     0.000000  0.000000  0.000000  ...     0.0     0.0     0.0     0.0   \n",
       "3     0.000000  0.000000  0.000000  ...     0.0     0.0     0.0     0.0   \n",
       "4     0.000000  0.000000  0.000000  ...     0.0     0.0     0.0     0.0   \n",
       "...        ...       ...       ...  ...     ...     ...     ...     ...   \n",
       "1047 -0.216812 -0.649647 -0.372488  ...     0.0     0.0     0.0     0.0   \n",
       "1048 -0.293273  0.143734  0.355942  ...     0.0     0.0     0.0     0.0   \n",
       "1049 -0.110617  0.168649 -0.505276  ...     0.0     0.0     0.0     0.0   \n",
       "1050 -0.557896 -0.202102 -0.881642  ...     0.0     0.0     0.0     0.0   \n",
       "1051  0.114209 -0.508092 -0.003413  ...     0.0     0.0     0.0     0.0   \n",
       "\n",
       "      4950.0  4960.0  4970.0  4980.0  4990.0  5000.0  \n",
       "0        0.0     0.0     0.0     0.0     0.0     0.0  \n",
       "1        0.0     0.0     0.0     0.0     0.0     0.0  \n",
       "2        0.0     0.0     0.0     0.0     0.0     0.0  \n",
       "3        0.0     0.0     0.0     0.0     0.0     0.0  \n",
       "4        0.0     0.0     0.0     0.0     0.0     0.0  \n",
       "...      ...     ...     ...     ...     ...     ...  \n",
       "1047     0.0     0.0     0.0     0.0     0.0     0.0  \n",
       "1048     0.0     0.0     0.0     0.0     0.0     0.0  \n",
       "1049     0.0     0.0     0.0     0.0     0.0     0.0  \n",
       "1050     0.0     0.0     0.0     0.0     0.0     0.0  \n",
       "1051     0.0     0.0     0.0     0.0     0.0     0.0  \n",
       "\n",
       "[1052 rows x 552 columns]"
      ]
     },
     "execution_count": 680,
     "metadata": {},
     "output_type": "execute_result"
    }
   ],
   "source": [
    "Z1"
   ]
  },
  {
   "cell_type": "code",
   "execution_count": 677,
   "id": "50b631d4",
   "metadata": {},
   "outputs": [
    {
     "data": {
      "text/plain": [
       "(201, 201)"
      ]
     },
     "execution_count": 677,
     "metadata": {},
     "output_type": "execute_result"
    }
   ],
   "source": [
    "T_matrix.shape"
   ]
  },
  {
   "cell_type": "code",
   "execution_count": 610,
   "id": "d99c56fd",
   "metadata": {},
   "outputs": [],
   "source": [
    "for i in range(T_matrix.shape[0]):\n",
    "    T_matrix[i] = gauss_1Dfunc(t, time)"
   ]
  },
  {
   "cell_type": "code",
   "execution_count": 611,
   "id": "678f7585",
   "metadata": {},
   "outputs": [],
   "source": [
    "# plt.plot(T_matrix[0])"
   ]
  },
  {
   "cell_type": "code",
   "execution_count": 612,
   "id": "edbbae4e",
   "metadata": {},
   "outputs": [],
   "source": [
    "xdata = np.vstack((X.ravel(), Y.ravel()))\n",
    "ydata = Z.ravel()"
   ]
  },
  {
   "cell_type": "code",
   "execution_count": 616,
   "id": "0e2fd663",
   "metadata": {},
   "outputs": [],
   "source": []
  },
  {
   "cell_type": "code",
   "execution_count": 652,
   "id": "e730ecdf",
   "metadata": {},
   "outputs": [
    {
     "data": {
      "text/plain": [
       "(201, 201)"
      ]
     },
     "execution_count": 652,
     "metadata": {},
     "output_type": "execute_result"
    }
   ],
   "source": [
    "data_matrix.shape"
   ]
  },
  {
   "cell_type": "code",
   "execution_count": 653,
   "id": "8e588552",
   "metadata": {},
   "outputs": [],
   "source": [
    "# data_matrix"
   ]
  },
  {
   "cell_type": "code",
   "execution_count": 666,
   "id": "8463cab8",
   "metadata": {},
   "outputs": [],
   "source": [
    "def opt(time):\n",
    "    t = np.linspace(1, 100, 201)\n",
    "    T_matrix = np.zeros((df_data.shape[0], df_data.shape[1]))\n",
    "    for i in range(T_matrix.shape[0]):\n",
    "        T_matrix[i] = gauss_1Dfunc(t, time)\n",
    "    \n",
    "    T_df = pd.DataFrame(T_matrix)\n",
    "    data_matrix = np.array(df_data)\n",
    "    res_matrix = T_matrix - data_matrix\n",
    "    return res_matrix"
   ]
  },
  {
   "cell_type": "code",
   "execution_count": 667,
   "id": "2c599409",
   "metadata": {},
   "outputs": [],
   "source": [
    "res_matrix = opt(time)"
   ]
  },
  {
   "cell_type": "code",
   "execution_count": 668,
   "id": "8d043e3f",
   "metadata": {},
   "outputs": [
    {
     "data": {
      "text/plain": [
       "(201, 201)"
      ]
     },
     "execution_count": 668,
     "metadata": {},
     "output_type": "execute_result"
    }
   ],
   "source": [
    "res_matrix.shape"
   ]
  },
  {
   "cell_type": "code",
   "execution_count": 669,
   "id": "0ab2b01c",
   "metadata": {},
   "outputs": [],
   "source": [
    "# res_matrix"
   ]
  },
  {
   "cell_type": "code",
   "execution_count": 670,
   "id": "f7e036ed",
   "metadata": {},
   "outputs": [],
   "source": [
    "x0 = time"
   ]
  },
  {
   "cell_type": "code",
   "execution_count": 671,
   "id": "cb99abfe",
   "metadata": {},
   "outputs": [
    {
     "data": {
      "text/plain": [
       "[0.2, 50, 10, 0]"
      ]
     },
     "execution_count": 671,
     "metadata": {},
     "output_type": "execute_result"
    }
   ],
   "source": [
    "x0"
   ]
  },
  {
   "cell_type": "code",
   "execution_count": 673,
   "id": "ae11c1df",
   "metadata": {},
   "outputs": [],
   "source": [
    "# opt().shape"
   ]
  },
  {
   "cell_type": "code",
   "execution_count": 674,
   "id": "b20cca03",
   "metadata": {},
   "outputs": [
    {
     "ename": "ValueError",
     "evalue": "`fun` must return at most 1-d array_like. f0.shape: (201, 201)",
     "output_type": "error",
     "traceback": [
      "\u001b[1;31m---------------------------------------------------------------------------\u001b[0m",
      "\u001b[1;31mValueError\u001b[0m                                Traceback (most recent call last)",
      "\u001b[1;32m<ipython-input-674-059a3bf89e9e>\u001b[0m in \u001b[0;36m<module>\u001b[1;34m\u001b[0m\n\u001b[1;32m----> 1\u001b[1;33m \u001b[0mres_lsq\u001b[0m \u001b[1;33m=\u001b[0m \u001b[0mleast_squares\u001b[0m\u001b[1;33m(\u001b[0m\u001b[0mopt\u001b[0m\u001b[1;33m,\u001b[0m \u001b[0mx0\u001b[0m\u001b[1;33m)\u001b[0m\u001b[1;33m\u001b[0m\u001b[1;33m\u001b[0m\u001b[0m\n\u001b[0m",
      "\u001b[1;32m~\\anaconda3\\lib\\site-packages\\scipy\\optimize\\_lsq\\least_squares.py\u001b[0m in \u001b[0;36mleast_squares\u001b[1;34m(fun, x0, jac, bounds, method, ftol, xtol, gtol, x_scale, loss, f_scale, diff_step, tr_solver, tr_options, jac_sparsity, max_nfev, verbose, args, kwargs)\u001b[0m\n\u001b[0;32m    822\u001b[0m     \u001b[1;32mif\u001b[0m \u001b[0mf0\u001b[0m\u001b[1;33m.\u001b[0m\u001b[0mndim\u001b[0m \u001b[1;33m!=\u001b[0m \u001b[1;36m1\u001b[0m\u001b[1;33m:\u001b[0m\u001b[1;33m\u001b[0m\u001b[1;33m\u001b[0m\u001b[0m\n\u001b[0;32m    823\u001b[0m         raise ValueError(\"`fun` must return at most 1-d array_like. \"\n\u001b[1;32m--> 824\u001b[1;33m                          \"f0.shape: {0}\".format(f0.shape))\n\u001b[0m\u001b[0;32m    825\u001b[0m \u001b[1;33m\u001b[0m\u001b[0m\n\u001b[0;32m    826\u001b[0m     \u001b[1;32mif\u001b[0m \u001b[1;32mnot\u001b[0m \u001b[0mnp\u001b[0m\u001b[1;33m.\u001b[0m\u001b[0mall\u001b[0m\u001b[1;33m(\u001b[0m\u001b[0mnp\u001b[0m\u001b[1;33m.\u001b[0m\u001b[0misfinite\u001b[0m\u001b[1;33m(\u001b[0m\u001b[0mf0\u001b[0m\u001b[1;33m)\u001b[0m\u001b[1;33m)\u001b[0m\u001b[1;33m:\u001b[0m\u001b[1;33m\u001b[0m\u001b[1;33m\u001b[0m\u001b[0m\n",
      "\u001b[1;31mValueError\u001b[0m: `fun` must return at most 1-d array_like. f0.shape: (201, 201)"
     ]
    }
   ],
   "source": [
    "res_lsq = least_squares(opt, x0)"
   ]
  },
  {
   "cell_type": "code",
   "execution_count": 660,
   "id": "7c1a52d1",
   "metadata": {},
   "outputs": [
    {
     "ename": "ValueError",
     "evalue": "`fun` must return at most 1-d array_like. f0.shape: (201, 201)",
     "output_type": "error",
     "traceback": [
      "\u001b[1;31m---------------------------------------------------------------------------\u001b[0m",
      "\u001b[1;31mValueError\u001b[0m                                Traceback (most recent call last)",
      "\u001b[1;32m<ipython-input-660-059a3bf89e9e>\u001b[0m in \u001b[0;36m<module>\u001b[1;34m\u001b[0m\n\u001b[1;32m----> 1\u001b[1;33m \u001b[0mres_lsq\u001b[0m \u001b[1;33m=\u001b[0m \u001b[0mleast_squares\u001b[0m\u001b[1;33m(\u001b[0m\u001b[0mopt\u001b[0m\u001b[1;33m,\u001b[0m \u001b[0mx0\u001b[0m\u001b[1;33m)\u001b[0m\u001b[1;33m\u001b[0m\u001b[1;33m\u001b[0m\u001b[0m\n\u001b[0m",
      "\u001b[1;32m~\\anaconda3\\lib\\site-packages\\scipy\\optimize\\_lsq\\least_squares.py\u001b[0m in \u001b[0;36mleast_squares\u001b[1;34m(fun, x0, jac, bounds, method, ftol, xtol, gtol, x_scale, loss, f_scale, diff_step, tr_solver, tr_options, jac_sparsity, max_nfev, verbose, args, kwargs)\u001b[0m\n\u001b[0;32m    822\u001b[0m     \u001b[1;32mif\u001b[0m \u001b[0mf0\u001b[0m\u001b[1;33m.\u001b[0m\u001b[0mndim\u001b[0m \u001b[1;33m!=\u001b[0m \u001b[1;36m1\u001b[0m\u001b[1;33m:\u001b[0m\u001b[1;33m\u001b[0m\u001b[1;33m\u001b[0m\u001b[0m\n\u001b[0;32m    823\u001b[0m         raise ValueError(\"`fun` must return at most 1-d array_like. \"\n\u001b[1;32m--> 824\u001b[1;33m                          \"f0.shape: {0}\".format(f0.shape))\n\u001b[0m\u001b[0;32m    825\u001b[0m \u001b[1;33m\u001b[0m\u001b[0m\n\u001b[0;32m    826\u001b[0m     \u001b[1;32mif\u001b[0m \u001b[1;32mnot\u001b[0m \u001b[0mnp\u001b[0m\u001b[1;33m.\u001b[0m\u001b[0mall\u001b[0m\u001b[1;33m(\u001b[0m\u001b[0mnp\u001b[0m\u001b[1;33m.\u001b[0m\u001b[0misfinite\u001b[0m\u001b[1;33m(\u001b[0m\u001b[0mf0\u001b[0m\u001b[1;33m)\u001b[0m\u001b[1;33m)\u001b[0m\u001b[1;33m:\u001b[0m\u001b[1;33m\u001b[0m\u001b[1;33m\u001b[0m\u001b[0m\n",
      "\u001b[1;31mValueError\u001b[0m: `fun` must return at most 1-d array_like. f0.shape: (201, 201)"
     ]
    }
   ],
   "source": [
    "# for i in range(201):\n",
    "#     res_lsq[i] = least_squares(opt, x0)"
   ]
  },
  {
   "cell_type": "code",
   "execution_count": 625,
   "id": "399618df",
   "metadata": {},
   "outputs": [
    {
     "data": {
      "text/plain": [
       "201"
      ]
     },
     "execution_count": 625,
     "metadata": {},
     "output_type": "execute_result"
    }
   ],
   "source": [
    "res_matrix.shape[0]"
   ]
  },
  {
   "cell_type": "code",
   "execution_count": 626,
   "id": "1060d45f",
   "metadata": {},
   "outputs": [],
   "source": [
    "res = np.zeros((res_matrix.shape[0], res_matrix.shape[1]))"
   ]
  },
  {
   "cell_type": "code",
   "execution_count": 633,
   "id": "fc51042b",
   "metadata": {},
   "outputs": [
    {
     "data": {
      "text/plain": [
       "201"
      ]
     },
     "execution_count": 633,
     "metadata": {},
     "output_type": "execute_result"
    }
   ],
   "source": [
    "len(res_matrix[0])"
   ]
  },
  {
   "cell_type": "code",
   "execution_count": 635,
   "id": "ee1be23a",
   "metadata": {},
   "outputs": [],
   "source": [
    "# res[0]"
   ]
  },
  {
   "cell_type": "code",
   "execution_count": 640,
   "id": "ffff2b3a",
   "metadata": {},
   "outputs": [],
   "source": [
    "# for i in range(res_matrix.shape[0]):\n",
    "#     res[i] = least_squares(res_matrix[i], time)"
   ]
  },
  {
   "cell_type": "code",
   "execution_count": null,
   "id": "695bfa94",
   "metadata": {},
   "outputs": [],
   "source": []
  },
  {
   "cell_type": "code",
   "execution_count": 568,
   "id": "01fd17f7",
   "metadata": {},
   "outputs": [],
   "source": [
    "alpha = np.linalg.lstsq(T_matrix, data_matrix, rcond=None)[0]"
   ]
  },
  {
   "cell_type": "code",
   "execution_count": 573,
   "id": "392a6239",
   "metadata": {},
   "outputs": [
    {
     "data": {
      "text/plain": [
       "(201, 201)"
      ]
     },
     "execution_count": 573,
     "metadata": {},
     "output_type": "execute_result"
    }
   ],
   "source": [
    "alpha.shape"
   ]
  },
  {
   "cell_type": "code",
   "execution_count": 574,
   "id": "d5e488c7",
   "metadata": {},
   "outputs": [
    {
     "data": {
      "text/html": [
       "<div>\n",
       "<style scoped>\n",
       "    .dataframe tbody tr th:only-of-type {\n",
       "        vertical-align: middle;\n",
       "    }\n",
       "\n",
       "    .dataframe tbody tr th {\n",
       "        vertical-align: top;\n",
       "    }\n",
       "\n",
       "    .dataframe thead th {\n",
       "        text-align: right;\n",
       "    }\n",
       "</style>\n",
       "<table border=\"1\" class=\"dataframe\">\n",
       "  <thead>\n",
       "    <tr style=\"text-align: right;\">\n",
       "      <th></th>\n",
       "      <th>0</th>\n",
       "      <th>1</th>\n",
       "      <th>2</th>\n",
       "      <th>3</th>\n",
       "      <th>4</th>\n",
       "      <th>5</th>\n",
       "      <th>6</th>\n",
       "      <th>7</th>\n",
       "      <th>8</th>\n",
       "      <th>9</th>\n",
       "      <th>...</th>\n",
       "      <th>191</th>\n",
       "      <th>192</th>\n",
       "      <th>193</th>\n",
       "      <th>194</th>\n",
       "      <th>195</th>\n",
       "      <th>196</th>\n",
       "      <th>197</th>\n",
       "      <th>198</th>\n",
       "      <th>199</th>\n",
       "      <th>200</th>\n",
       "    </tr>\n",
       "  </thead>\n",
       "  <tbody>\n",
       "    <tr>\n",
       "      <th>count</th>\n",
       "      <td>2.010000e+02</td>\n",
       "      <td>2.010000e+02</td>\n",
       "      <td>2.010000e+02</td>\n",
       "      <td>2.010000e+02</td>\n",
       "      <td>2.010000e+02</td>\n",
       "      <td>2.010000e+02</td>\n",
       "      <td>2.010000e+02</td>\n",
       "      <td>2.010000e+02</td>\n",
       "      <td>2.010000e+02</td>\n",
       "      <td>2.010000e+02</td>\n",
       "      <td>...</td>\n",
       "      <td>2.010000e+02</td>\n",
       "      <td>2.010000e+02</td>\n",
       "      <td>2.010000e+02</td>\n",
       "      <td>2.010000e+02</td>\n",
       "      <td>2.010000e+02</td>\n",
       "      <td>2.010000e+02</td>\n",
       "      <td>2.010000e+02</td>\n",
       "      <td>2.010000e+02</td>\n",
       "      <td>2.010000e+02</td>\n",
       "      <td>2.010000e+02</td>\n",
       "    </tr>\n",
       "    <tr>\n",
       "      <th>mean</th>\n",
       "      <td>-3.876202e-06</td>\n",
       "      <td>-1.748362e-06</td>\n",
       "      <td>-8.564173e-07</td>\n",
       "      <td>-2.257348e-06</td>\n",
       "      <td>-2.501684e-07</td>\n",
       "      <td>2.493299e-06</td>\n",
       "      <td>-1.893278e-06</td>\n",
       "      <td>9.057207e-08</td>\n",
       "      <td>-9.241644e-08</td>\n",
       "      <td>-1.631612e-06</td>\n",
       "      <td>...</td>\n",
       "      <td>1.964348e-06</td>\n",
       "      <td>-8.787142e-07</td>\n",
       "      <td>9.481173e-07</td>\n",
       "      <td>1.055324e-06</td>\n",
       "      <td>1.693092e-07</td>\n",
       "      <td>2.238811e-06</td>\n",
       "      <td>-4.049398e-07</td>\n",
       "      <td>1.992935e-06</td>\n",
       "      <td>-2.497872e-07</td>\n",
       "      <td>2.223334e-06</td>\n",
       "    </tr>\n",
       "    <tr>\n",
       "      <th>std</th>\n",
       "      <td>1.090512e-05</td>\n",
       "      <td>4.918757e-06</td>\n",
       "      <td>2.409403e-06</td>\n",
       "      <td>6.350715e-06</td>\n",
       "      <td>7.038118e-07</td>\n",
       "      <td>7.014526e-06</td>\n",
       "      <td>5.326457e-06</td>\n",
       "      <td>2.548111e-07</td>\n",
       "      <td>2.600000e-07</td>\n",
       "      <td>4.590300e-06</td>\n",
       "      <td>...</td>\n",
       "      <td>5.526402e-06</td>\n",
       "      <td>2.472132e-06</td>\n",
       "      <td>2.667388e-06</td>\n",
       "      <td>2.968999e-06</td>\n",
       "      <td>4.763264e-07</td>\n",
       "      <td>6.298563e-06</td>\n",
       "      <td>1.139238e-06</td>\n",
       "      <td>5.606828e-06</td>\n",
       "      <td>7.027393e-07</td>\n",
       "      <td>6.255020e-06</td>\n",
       "    </tr>\n",
       "    <tr>\n",
       "      <th>min</th>\n",
       "      <td>-4.865384e-05</td>\n",
       "      <td>-2.194533e-05</td>\n",
       "      <td>-1.074970e-05</td>\n",
       "      <td>-2.833409e-05</td>\n",
       "      <td>-3.140098e-06</td>\n",
       "      <td>0.000000e+00</td>\n",
       "      <td>-2.376431e-05</td>\n",
       "      <td>0.000000e+00</td>\n",
       "      <td>-1.160005e-06</td>\n",
       "      <td>-2.047990e-05</td>\n",
       "      <td>...</td>\n",
       "      <td>0.000000e+00</td>\n",
       "      <td>-1.102957e-05</td>\n",
       "      <td>0.000000e+00</td>\n",
       "      <td>0.000000e+00</td>\n",
       "      <td>0.000000e+00</td>\n",
       "      <td>0.000000e+00</td>\n",
       "      <td>-5.082779e-06</td>\n",
       "      <td>0.000000e+00</td>\n",
       "      <td>-3.135313e-06</td>\n",
       "      <td>0.000000e+00</td>\n",
       "    </tr>\n",
       "    <tr>\n",
       "      <th>25%</th>\n",
       "      <td>-2.285723e-08</td>\n",
       "      <td>-1.030976e-08</td>\n",
       "      <td>-5.050131e-09</td>\n",
       "      <td>-1.331115e-08</td>\n",
       "      <td>-1.475196e-09</td>\n",
       "      <td>3.757413e-35</td>\n",
       "      <td>-1.116430e-08</td>\n",
       "      <td>1.364925e-36</td>\n",
       "      <td>-5.449623e-10</td>\n",
       "      <td>-9.621309e-09</td>\n",
       "      <td>...</td>\n",
       "      <td>2.960281e-35</td>\n",
       "      <td>-5.181611e-09</td>\n",
       "      <td>1.428817e-35</td>\n",
       "      <td>1.590379e-35</td>\n",
       "      <td>2.551498e-36</td>\n",
       "      <td>3.373898e-35</td>\n",
       "      <td>-2.387853e-09</td>\n",
       "      <td>3.003363e-35</td>\n",
       "      <td>-1.472948e-09</td>\n",
       "      <td>3.350574e-35</td>\n",
       "    </tr>\n",
       "    <tr>\n",
       "      <th>50%</th>\n",
       "      <td>-2.399480e-18</td>\n",
       "      <td>-1.082286e-18</td>\n",
       "      <td>-5.301468e-19</td>\n",
       "      <td>-1.397363e-18</td>\n",
       "      <td>-1.548614e-19</td>\n",
       "      <td>1.543423e-18</td>\n",
       "      <td>-1.171993e-18</td>\n",
       "      <td>5.606670e-20</td>\n",
       "      <td>-5.720842e-20</td>\n",
       "      <td>-1.010015e-18</td>\n",
       "      <td>...</td>\n",
       "      <td>1.215987e-18</td>\n",
       "      <td>-5.439492e-19</td>\n",
       "      <td>5.869117e-19</td>\n",
       "      <td>6.532759e-19</td>\n",
       "      <td>1.048072e-19</td>\n",
       "      <td>1.385888e-18</td>\n",
       "      <td>-2.506693e-19</td>\n",
       "      <td>1.233684e-18</td>\n",
       "      <td>-1.546254e-19</td>\n",
       "      <td>1.376307e-18</td>\n",
       "    </tr>\n",
       "    <tr>\n",
       "      <th>75%</th>\n",
       "      <td>-5.841454e-35</td>\n",
       "      <td>-2.634789e-35</td>\n",
       "      <td>-1.290625e-35</td>\n",
       "      <td>-3.401834e-35</td>\n",
       "      <td>-3.770050e-36</td>\n",
       "      <td>1.470251e-08</td>\n",
       "      <td>-2.853179e-35</td>\n",
       "      <td>5.340863e-10</td>\n",
       "      <td>-1.392720e-36</td>\n",
       "      <td>-2.458847e-35</td>\n",
       "      <td>...</td>\n",
       "      <td>1.158339e-08</td>\n",
       "      <td>-1.324226e-35</td>\n",
       "      <td>5.590868e-09</td>\n",
       "      <td>6.223047e-09</td>\n",
       "      <td>9.983844e-10</td>\n",
       "      <td>1.320184e-08</td>\n",
       "      <td>-6.102461e-36</td>\n",
       "      <td>1.175196e-08</td>\n",
       "      <td>-3.764304e-36</td>\n",
       "      <td>1.311058e-08</td>\n",
       "    </tr>\n",
       "    <tr>\n",
       "      <th>max</th>\n",
       "      <td>0.000000e+00</td>\n",
       "      <td>0.000000e+00</td>\n",
       "      <td>0.000000e+00</td>\n",
       "      <td>0.000000e+00</td>\n",
       "      <td>0.000000e+00</td>\n",
       "      <td>3.129573e-05</td>\n",
       "      <td>0.000000e+00</td>\n",
       "      <td>1.136855e-06</td>\n",
       "      <td>0.000000e+00</td>\n",
       "      <td>0.000000e+00</td>\n",
       "      <td>...</td>\n",
       "      <td>2.465637e-05</td>\n",
       "      <td>0.000000e+00</td>\n",
       "      <td>1.190071e-05</td>\n",
       "      <td>1.324636e-05</td>\n",
       "      <td>2.125159e-06</td>\n",
       "      <td>2.810141e-05</td>\n",
       "      <td>0.000000e+00</td>\n",
       "      <td>2.501520e-05</td>\n",
       "      <td>0.000000e+00</td>\n",
       "      <td>2.790714e-05</td>\n",
       "    </tr>\n",
       "  </tbody>\n",
       "</table>\n",
       "<p>8 rows × 201 columns</p>\n",
       "</div>"
      ],
      "text/plain": [
       "                0             1             2             3             4    \\\n",
       "count  2.010000e+02  2.010000e+02  2.010000e+02  2.010000e+02  2.010000e+02   \n",
       "mean  -3.876202e-06 -1.748362e-06 -8.564173e-07 -2.257348e-06 -2.501684e-07   \n",
       "std    1.090512e-05  4.918757e-06  2.409403e-06  6.350715e-06  7.038118e-07   \n",
       "min   -4.865384e-05 -2.194533e-05 -1.074970e-05 -2.833409e-05 -3.140098e-06   \n",
       "25%   -2.285723e-08 -1.030976e-08 -5.050131e-09 -1.331115e-08 -1.475196e-09   \n",
       "50%   -2.399480e-18 -1.082286e-18 -5.301468e-19 -1.397363e-18 -1.548614e-19   \n",
       "75%   -5.841454e-35 -2.634789e-35 -1.290625e-35 -3.401834e-35 -3.770050e-36   \n",
       "max    0.000000e+00  0.000000e+00  0.000000e+00  0.000000e+00  0.000000e+00   \n",
       "\n",
       "                5             6             7             8             9    \\\n",
       "count  2.010000e+02  2.010000e+02  2.010000e+02  2.010000e+02  2.010000e+02   \n",
       "mean   2.493299e-06 -1.893278e-06  9.057207e-08 -9.241644e-08 -1.631612e-06   \n",
       "std    7.014526e-06  5.326457e-06  2.548111e-07  2.600000e-07  4.590300e-06   \n",
       "min    0.000000e+00 -2.376431e-05  0.000000e+00 -1.160005e-06 -2.047990e-05   \n",
       "25%    3.757413e-35 -1.116430e-08  1.364925e-36 -5.449623e-10 -9.621309e-09   \n",
       "50%    1.543423e-18 -1.171993e-18  5.606670e-20 -5.720842e-20 -1.010015e-18   \n",
       "75%    1.470251e-08 -2.853179e-35  5.340863e-10 -1.392720e-36 -2.458847e-35   \n",
       "max    3.129573e-05  0.000000e+00  1.136855e-06  0.000000e+00  0.000000e+00   \n",
       "\n",
       "       ...           191           192           193           194  \\\n",
       "count  ...  2.010000e+02  2.010000e+02  2.010000e+02  2.010000e+02   \n",
       "mean   ...  1.964348e-06 -8.787142e-07  9.481173e-07  1.055324e-06   \n",
       "std    ...  5.526402e-06  2.472132e-06  2.667388e-06  2.968999e-06   \n",
       "min    ...  0.000000e+00 -1.102957e-05  0.000000e+00  0.000000e+00   \n",
       "25%    ...  2.960281e-35 -5.181611e-09  1.428817e-35  1.590379e-35   \n",
       "50%    ...  1.215987e-18 -5.439492e-19  5.869117e-19  6.532759e-19   \n",
       "75%    ...  1.158339e-08 -1.324226e-35  5.590868e-09  6.223047e-09   \n",
       "max    ...  2.465637e-05  0.000000e+00  1.190071e-05  1.324636e-05   \n",
       "\n",
       "                195           196           197           198           199  \\\n",
       "count  2.010000e+02  2.010000e+02  2.010000e+02  2.010000e+02  2.010000e+02   \n",
       "mean   1.693092e-07  2.238811e-06 -4.049398e-07  1.992935e-06 -2.497872e-07   \n",
       "std    4.763264e-07  6.298563e-06  1.139238e-06  5.606828e-06  7.027393e-07   \n",
       "min    0.000000e+00  0.000000e+00 -5.082779e-06  0.000000e+00 -3.135313e-06   \n",
       "25%    2.551498e-36  3.373898e-35 -2.387853e-09  3.003363e-35 -1.472948e-09   \n",
       "50%    1.048072e-19  1.385888e-18 -2.506693e-19  1.233684e-18 -1.546254e-19   \n",
       "75%    9.983844e-10  1.320184e-08 -6.102461e-36  1.175196e-08 -3.764304e-36   \n",
       "max    2.125159e-06  2.810141e-05  0.000000e+00  2.501520e-05  0.000000e+00   \n",
       "\n",
       "                200  \n",
       "count  2.010000e+02  \n",
       "mean   2.223334e-06  \n",
       "std    6.255020e-06  \n",
       "min    0.000000e+00  \n",
       "25%    3.350574e-35  \n",
       "50%    1.376307e-18  \n",
       "75%    1.311058e-08  \n",
       "max    2.790714e-05  \n",
       "\n",
       "[8 rows x 201 columns]"
      ]
     },
     "execution_count": 574,
     "metadata": {},
     "output_type": "execute_result"
    }
   ],
   "source": [
    "pd.DataFrame(alpha).describe()"
   ]
  },
  {
   "cell_type": "code",
   "execution_count": 577,
   "id": "4bdb582e",
   "metadata": {},
   "outputs": [
    {
     "data": {
      "text/html": [
       "<div>\n",
       "<style scoped>\n",
       "    .dataframe tbody tr th:only-of-type {\n",
       "        vertical-align: middle;\n",
       "    }\n",
       "\n",
       "    .dataframe tbody tr th {\n",
       "        vertical-align: top;\n",
       "    }\n",
       "\n",
       "    .dataframe thead th {\n",
       "        text-align: right;\n",
       "    }\n",
       "</style>\n",
       "<table border=\"1\" class=\"dataframe\">\n",
       "  <thead>\n",
       "    <tr style=\"text-align: right;\">\n",
       "      <th></th>\n",
       "      <th>0</th>\n",
       "      <th>1</th>\n",
       "      <th>2</th>\n",
       "      <th>3</th>\n",
       "      <th>4</th>\n",
       "      <th>5</th>\n",
       "      <th>6</th>\n",
       "      <th>7</th>\n",
       "      <th>8</th>\n",
       "      <th>9</th>\n",
       "      <th>...</th>\n",
       "      <th>191</th>\n",
       "      <th>192</th>\n",
       "      <th>193</th>\n",
       "      <th>194</th>\n",
       "      <th>195</th>\n",
       "      <th>196</th>\n",
       "      <th>197</th>\n",
       "      <th>198</th>\n",
       "      <th>199</th>\n",
       "      <th>200</th>\n",
       "    </tr>\n",
       "  </thead>\n",
       "  <tbody>\n",
       "    <tr>\n",
       "      <th>count</th>\n",
       "      <td>201.000000</td>\n",
       "      <td>201.000000</td>\n",
       "      <td>201.000000</td>\n",
       "      <td>201.000000</td>\n",
       "      <td>201.000000</td>\n",
       "      <td>201.000000</td>\n",
       "      <td>201.000000</td>\n",
       "      <td>201.000000</td>\n",
       "      <td>201.000000</td>\n",
       "      <td>201.000000</td>\n",
       "      <td>...</td>\n",
       "      <td>201.000000</td>\n",
       "      <td>201.000000</td>\n",
       "      <td>201.000000</td>\n",
       "      <td>201.000000</td>\n",
       "      <td>201.000000</td>\n",
       "      <td>201.000000</td>\n",
       "      <td>201.000000</td>\n",
       "      <td>201.000000</td>\n",
       "      <td>201.000000</td>\n",
       "      <td>201.000000</td>\n",
       "    </tr>\n",
       "    <tr>\n",
       "      <th>mean</th>\n",
       "      <td>-0.027546</td>\n",
       "      <td>-0.012425</td>\n",
       "      <td>-0.006086</td>\n",
       "      <td>-0.016042</td>\n",
       "      <td>-0.001778</td>\n",
       "      <td>0.017718</td>\n",
       "      <td>-0.013454</td>\n",
       "      <td>0.000644</td>\n",
       "      <td>-0.000657</td>\n",
       "      <td>-0.011595</td>\n",
       "      <td>...</td>\n",
       "      <td>0.013959</td>\n",
       "      <td>-0.006245</td>\n",
       "      <td>0.006738</td>\n",
       "      <td>0.007500</td>\n",
       "      <td>0.001203</td>\n",
       "      <td>0.015910</td>\n",
       "      <td>-0.002878</td>\n",
       "      <td>0.014163</td>\n",
       "      <td>-0.001775</td>\n",
       "      <td>0.015800</td>\n",
       "    </tr>\n",
       "    <tr>\n",
       "      <th>std</th>\n",
       "      <td>0.199989</td>\n",
       "      <td>0.200909</td>\n",
       "      <td>0.183814</td>\n",
       "      <td>0.189741</td>\n",
       "      <td>0.192720</td>\n",
       "      <td>0.215048</td>\n",
       "      <td>0.195936</td>\n",
       "      <td>0.199520</td>\n",
       "      <td>0.192682</td>\n",
       "      <td>0.216206</td>\n",
       "      <td>...</td>\n",
       "      <td>0.206426</td>\n",
       "      <td>0.194971</td>\n",
       "      <td>0.217721</td>\n",
       "      <td>0.193827</td>\n",
       "      <td>0.195487</td>\n",
       "      <td>0.188295</td>\n",
       "      <td>0.213155</td>\n",
       "      <td>0.203171</td>\n",
       "      <td>0.207743</td>\n",
       "      <td>0.205218</td>\n",
       "    </tr>\n",
       "    <tr>\n",
       "      <th>min</th>\n",
       "      <td>-0.656887</td>\n",
       "      <td>-0.567619</td>\n",
       "      <td>-0.549281</td>\n",
       "      <td>-0.500027</td>\n",
       "      <td>-0.476822</td>\n",
       "      <td>-0.497359</td>\n",
       "      <td>-0.624679</td>\n",
       "      <td>-0.589083</td>\n",
       "      <td>-0.517374</td>\n",
       "      <td>-0.764736</td>\n",
       "      <td>...</td>\n",
       "      <td>-0.559251</td>\n",
       "      <td>-0.502632</td>\n",
       "      <td>-0.544749</td>\n",
       "      <td>-0.497164</td>\n",
       "      <td>-0.442994</td>\n",
       "      <td>-0.466923</td>\n",
       "      <td>-0.509657</td>\n",
       "      <td>-0.541451</td>\n",
       "      <td>-0.535088</td>\n",
       "      <td>-0.573521</td>\n",
       "    </tr>\n",
       "    <tr>\n",
       "      <th>25%</th>\n",
       "      <td>-0.150660</td>\n",
       "      <td>-0.143445</td>\n",
       "      <td>-0.140507</td>\n",
       "      <td>-0.123478</td>\n",
       "      <td>-0.132133</td>\n",
       "      <td>-0.120607</td>\n",
       "      <td>-0.135513</td>\n",
       "      <td>-0.135674</td>\n",
       "      <td>-0.142421</td>\n",
       "      <td>-0.157797</td>\n",
       "      <td>...</td>\n",
       "      <td>-0.129123</td>\n",
       "      <td>-0.131086</td>\n",
       "      <td>-0.143650</td>\n",
       "      <td>-0.111066</td>\n",
       "      <td>-0.129130</td>\n",
       "      <td>-0.113305</td>\n",
       "      <td>-0.145440</td>\n",
       "      <td>-0.118554</td>\n",
       "      <td>-0.148175</td>\n",
       "      <td>-0.132054</td>\n",
       "    </tr>\n",
       "    <tr>\n",
       "      <th>50%</th>\n",
       "      <td>-0.030255</td>\n",
       "      <td>-0.009211</td>\n",
       "      <td>0.016197</td>\n",
       "      <td>-0.014901</td>\n",
       "      <td>0.014433</td>\n",
       "      <td>0.034385</td>\n",
       "      <td>-0.019090</td>\n",
       "      <td>-0.005832</td>\n",
       "      <td>-0.003163</td>\n",
       "      <td>-0.002783</td>\n",
       "      <td>...</td>\n",
       "      <td>0.007618</td>\n",
       "      <td>-0.002055</td>\n",
       "      <td>0.009061</td>\n",
       "      <td>0.005708</td>\n",
       "      <td>0.001981</td>\n",
       "      <td>0.005323</td>\n",
       "      <td>0.019795</td>\n",
       "      <td>0.009318</td>\n",
       "      <td>-0.020905</td>\n",
       "      <td>-0.001664</td>\n",
       "    </tr>\n",
       "    <tr>\n",
       "      <th>75%</th>\n",
       "      <td>0.119915</td>\n",
       "      <td>0.126464</td>\n",
       "      <td>0.121337</td>\n",
       "      <td>0.110050</td>\n",
       "      <td>0.119338</td>\n",
       "      <td>0.153597</td>\n",
       "      <td>0.107324</td>\n",
       "      <td>0.117685</td>\n",
       "      <td>0.127282</td>\n",
       "      <td>0.145424</td>\n",
       "      <td>...</td>\n",
       "      <td>0.141800</td>\n",
       "      <td>0.113699</td>\n",
       "      <td>0.160525</td>\n",
       "      <td>0.150793</td>\n",
       "      <td>0.113500</td>\n",
       "      <td>0.139167</td>\n",
       "      <td>0.144945</td>\n",
       "      <td>0.146293</td>\n",
       "      <td>0.150134</td>\n",
       "      <td>0.149204</td>\n",
       "    </tr>\n",
       "    <tr>\n",
       "      <th>max</th>\n",
       "      <td>0.449096</td>\n",
       "      <td>0.493800</td>\n",
       "      <td>0.456968</td>\n",
       "      <td>0.502012</td>\n",
       "      <td>0.565754</td>\n",
       "      <td>0.627770</td>\n",
       "      <td>0.460377</td>\n",
       "      <td>0.616883</td>\n",
       "      <td>0.548566</td>\n",
       "      <td>0.478226</td>\n",
       "      <td>...</td>\n",
       "      <td>0.576583</td>\n",
       "      <td>0.593039</td>\n",
       "      <td>0.586949</td>\n",
       "      <td>0.539491</td>\n",
       "      <td>0.537221</td>\n",
       "      <td>0.443680</td>\n",
       "      <td>0.519661</td>\n",
       "      <td>0.620972</td>\n",
       "      <td>0.699189</td>\n",
       "      <td>0.648245</td>\n",
       "    </tr>\n",
       "  </tbody>\n",
       "</table>\n",
       "<p>8 rows × 201 columns</p>\n",
       "</div>"
      ],
      "text/plain": [
       "              0           1           2           3           4           5    \\\n",
       "count  201.000000  201.000000  201.000000  201.000000  201.000000  201.000000   \n",
       "mean    -0.027546   -0.012425   -0.006086   -0.016042   -0.001778    0.017718   \n",
       "std      0.199989    0.200909    0.183814    0.189741    0.192720    0.215048   \n",
       "min     -0.656887   -0.567619   -0.549281   -0.500027   -0.476822   -0.497359   \n",
       "25%     -0.150660   -0.143445   -0.140507   -0.123478   -0.132133   -0.120607   \n",
       "50%     -0.030255   -0.009211    0.016197   -0.014901    0.014433    0.034385   \n",
       "75%      0.119915    0.126464    0.121337    0.110050    0.119338    0.153597   \n",
       "max      0.449096    0.493800    0.456968    0.502012    0.565754    0.627770   \n",
       "\n",
       "              6           7           8           9    ...         191  \\\n",
       "count  201.000000  201.000000  201.000000  201.000000  ...  201.000000   \n",
       "mean    -0.013454    0.000644   -0.000657   -0.011595  ...    0.013959   \n",
       "std      0.195936    0.199520    0.192682    0.216206  ...    0.206426   \n",
       "min     -0.624679   -0.589083   -0.517374   -0.764736  ...   -0.559251   \n",
       "25%     -0.135513   -0.135674   -0.142421   -0.157797  ...   -0.129123   \n",
       "50%     -0.019090   -0.005832   -0.003163   -0.002783  ...    0.007618   \n",
       "75%      0.107324    0.117685    0.127282    0.145424  ...    0.141800   \n",
       "max      0.460377    0.616883    0.548566    0.478226  ...    0.576583   \n",
       "\n",
       "              192         193         194         195         196         197  \\\n",
       "count  201.000000  201.000000  201.000000  201.000000  201.000000  201.000000   \n",
       "mean    -0.006245    0.006738    0.007500    0.001203    0.015910   -0.002878   \n",
       "std      0.194971    0.217721    0.193827    0.195487    0.188295    0.213155   \n",
       "min     -0.502632   -0.544749   -0.497164   -0.442994   -0.466923   -0.509657   \n",
       "25%     -0.131086   -0.143650   -0.111066   -0.129130   -0.113305   -0.145440   \n",
       "50%     -0.002055    0.009061    0.005708    0.001981    0.005323    0.019795   \n",
       "75%      0.113699    0.160525    0.150793    0.113500    0.139167    0.144945   \n",
       "max      0.593039    0.586949    0.539491    0.537221    0.443680    0.519661   \n",
       "\n",
       "              198         199         200  \n",
       "count  201.000000  201.000000  201.000000  \n",
       "mean     0.014163   -0.001775    0.015800  \n",
       "std      0.203171    0.207743    0.205218  \n",
       "min     -0.541451   -0.535088   -0.573521  \n",
       "25%     -0.118554   -0.148175   -0.132054  \n",
       "50%      0.009318   -0.020905   -0.001664  \n",
       "75%      0.146293    0.150134    0.149204  \n",
       "max      0.620972    0.699189    0.648245  \n",
       "\n",
       "[8 rows x 201 columns]"
      ]
     },
     "execution_count": 577,
     "metadata": {},
     "output_type": "execute_result"
    }
   ],
   "source": [
    "pd.DataFrame(data_matrix).describe()"
   ]
  },
  {
   "cell_type": "code",
   "execution_count": 578,
   "id": "c7b42af0",
   "metadata": {},
   "outputs": [
    {
     "data": {
      "text/html": [
       "<div>\n",
       "<style scoped>\n",
       "    .dataframe tbody tr th:only-of-type {\n",
       "        vertical-align: middle;\n",
       "    }\n",
       "\n",
       "    .dataframe tbody tr th {\n",
       "        vertical-align: top;\n",
       "    }\n",
       "\n",
       "    .dataframe thead th {\n",
       "        text-align: right;\n",
       "    }\n",
       "</style>\n",
       "<table border=\"1\" class=\"dataframe\">\n",
       "  <thead>\n",
       "    <tr style=\"text-align: right;\">\n",
       "      <th></th>\n",
       "      <th>0</th>\n",
       "      <th>1</th>\n",
       "      <th>2</th>\n",
       "      <th>3</th>\n",
       "      <th>4</th>\n",
       "      <th>5</th>\n",
       "      <th>6</th>\n",
       "      <th>7</th>\n",
       "      <th>8</th>\n",
       "      <th>9</th>\n",
       "      <th>...</th>\n",
       "      <th>191</th>\n",
       "      <th>192</th>\n",
       "      <th>193</th>\n",
       "      <th>194</th>\n",
       "      <th>195</th>\n",
       "      <th>196</th>\n",
       "      <th>197</th>\n",
       "      <th>198</th>\n",
       "      <th>199</th>\n",
       "      <th>200</th>\n",
       "    </tr>\n",
       "  </thead>\n",
       "  <tbody>\n",
       "    <tr>\n",
       "      <th>count</th>\n",
       "      <td>2.010000e+02</td>\n",
       "      <td>2.010000e+02</td>\n",
       "      <td>2.010000e+02</td>\n",
       "      <td>2.010000e+02</td>\n",
       "      <td>2.010000e+02</td>\n",
       "      <td>2.010000e+02</td>\n",
       "      <td>2.010000e+02</td>\n",
       "      <td>2.010000e+02</td>\n",
       "      <td>2.010000e+02</td>\n",
       "      <td>2.010000e+02</td>\n",
       "      <td>...</td>\n",
       "      <td>2.010000e+02</td>\n",
       "      <td>2.010000e+02</td>\n",
       "      <td>2.010000e+02</td>\n",
       "      <td>2.010000e+02</td>\n",
       "      <td>2.010000e+02</td>\n",
       "      <td>2.010000e+02</td>\n",
       "      <td>2.010000e+02</td>\n",
       "      <td>2.010000e+02</td>\n",
       "      <td>2.010000e+02</td>\n",
       "      <td>2.010000e+02</td>\n",
       "    </tr>\n",
       "    <tr>\n",
       "      <th>mean</th>\n",
       "      <td>3.646846e-51</td>\n",
       "      <td>4.073597e-50</td>\n",
       "      <td>4.440147e-49</td>\n",
       "      <td>4.722537e-48</td>\n",
       "      <td>4.901309e-47</td>\n",
       "      <td>4.963723e-46</td>\n",
       "      <td>4.905256e-45</td>\n",
       "      <td>4.730145e-44</td>\n",
       "      <td>4.450881e-43</td>\n",
       "      <td>4.086732e-42</td>\n",
       "      <td>...</td>\n",
       "      <td>4.519565e-44</td>\n",
       "      <td>4.684561e-45</td>\n",
       "      <td>4.738052e-46</td>\n",
       "      <td>4.676161e-47</td>\n",
       "      <td>4.503371e-48</td>\n",
       "      <td>4.231991e-49</td>\n",
       "      <td>3.880703e-50</td>\n",
       "      <td>3.472441e-51</td>\n",
       "      <td>3.031922e-52</td>\n",
       "      <td>2.583210e-53</td>\n",
       "    </tr>\n",
       "    <tr>\n",
       "      <th>std</th>\n",
       "      <td>1.130414e-65</td>\n",
       "      <td>8.091386e-65</td>\n",
       "      <td>1.903855e-63</td>\n",
       "      <td>1.584008e-62</td>\n",
       "      <td>1.949548e-61</td>\n",
       "      <td>7.018373e-61</td>\n",
       "      <td>3.743132e-60</td>\n",
       "      <td>1.996337e-58</td>\n",
       "      <td>7.186814e-58</td>\n",
       "      <td>1.341539e-56</td>\n",
       "      <td>...</td>\n",
       "      <td>0.000000e+00</td>\n",
       "      <td>7.486264e-60</td>\n",
       "      <td>1.793584e-60</td>\n",
       "      <td>1.559638e-61</td>\n",
       "      <td>5.483104e-63</td>\n",
       "      <td>1.446930e-63</td>\n",
       "      <td>4.283675e-65</td>\n",
       "      <td>9.519277e-66</td>\n",
       "      <td>8.924322e-67</td>\n",
       "      <td>7.436935e-68</td>\n",
       "    </tr>\n",
       "    <tr>\n",
       "      <th>min</th>\n",
       "      <td>3.646846e-51</td>\n",
       "      <td>4.073597e-50</td>\n",
       "      <td>4.440147e-49</td>\n",
       "      <td>4.722537e-48</td>\n",
       "      <td>4.901309e-47</td>\n",
       "      <td>4.963723e-46</td>\n",
       "      <td>4.905256e-45</td>\n",
       "      <td>4.730145e-44</td>\n",
       "      <td>4.450881e-43</td>\n",
       "      <td>4.086732e-42</td>\n",
       "      <td>...</td>\n",
       "      <td>4.519565e-44</td>\n",
       "      <td>4.684561e-45</td>\n",
       "      <td>4.738052e-46</td>\n",
       "      <td>4.676161e-47</td>\n",
       "      <td>4.503371e-48</td>\n",
       "      <td>4.231991e-49</td>\n",
       "      <td>3.880703e-50</td>\n",
       "      <td>3.472441e-51</td>\n",
       "      <td>3.031922e-52</td>\n",
       "      <td>2.583210e-53</td>\n",
       "    </tr>\n",
       "    <tr>\n",
       "      <th>25%</th>\n",
       "      <td>3.646846e-51</td>\n",
       "      <td>4.073597e-50</td>\n",
       "      <td>4.440147e-49</td>\n",
       "      <td>4.722537e-48</td>\n",
       "      <td>4.901309e-47</td>\n",
       "      <td>4.963723e-46</td>\n",
       "      <td>4.905256e-45</td>\n",
       "      <td>4.730145e-44</td>\n",
       "      <td>4.450881e-43</td>\n",
       "      <td>4.086732e-42</td>\n",
       "      <td>...</td>\n",
       "      <td>4.519565e-44</td>\n",
       "      <td>4.684561e-45</td>\n",
       "      <td>4.738052e-46</td>\n",
       "      <td>4.676161e-47</td>\n",
       "      <td>4.503371e-48</td>\n",
       "      <td>4.231991e-49</td>\n",
       "      <td>3.880703e-50</td>\n",
       "      <td>3.472441e-51</td>\n",
       "      <td>3.031922e-52</td>\n",
       "      <td>2.583210e-53</td>\n",
       "    </tr>\n",
       "    <tr>\n",
       "      <th>50%</th>\n",
       "      <td>3.646846e-51</td>\n",
       "      <td>4.073597e-50</td>\n",
       "      <td>4.440147e-49</td>\n",
       "      <td>4.722537e-48</td>\n",
       "      <td>4.901309e-47</td>\n",
       "      <td>4.963723e-46</td>\n",
       "      <td>4.905256e-45</td>\n",
       "      <td>4.730145e-44</td>\n",
       "      <td>4.450881e-43</td>\n",
       "      <td>4.086732e-42</td>\n",
       "      <td>...</td>\n",
       "      <td>4.519565e-44</td>\n",
       "      <td>4.684561e-45</td>\n",
       "      <td>4.738052e-46</td>\n",
       "      <td>4.676161e-47</td>\n",
       "      <td>4.503371e-48</td>\n",
       "      <td>4.231991e-49</td>\n",
       "      <td>3.880703e-50</td>\n",
       "      <td>3.472441e-51</td>\n",
       "      <td>3.031922e-52</td>\n",
       "      <td>2.583210e-53</td>\n",
       "    </tr>\n",
       "    <tr>\n",
       "      <th>75%</th>\n",
       "      <td>3.646846e-51</td>\n",
       "      <td>4.073597e-50</td>\n",
       "      <td>4.440147e-49</td>\n",
       "      <td>4.722537e-48</td>\n",
       "      <td>4.901309e-47</td>\n",
       "      <td>4.963723e-46</td>\n",
       "      <td>4.905256e-45</td>\n",
       "      <td>4.730145e-44</td>\n",
       "      <td>4.450881e-43</td>\n",
       "      <td>4.086732e-42</td>\n",
       "      <td>...</td>\n",
       "      <td>4.519565e-44</td>\n",
       "      <td>4.684561e-45</td>\n",
       "      <td>4.738052e-46</td>\n",
       "      <td>4.676161e-47</td>\n",
       "      <td>4.503371e-48</td>\n",
       "      <td>4.231991e-49</td>\n",
       "      <td>3.880703e-50</td>\n",
       "      <td>3.472441e-51</td>\n",
       "      <td>3.031922e-52</td>\n",
       "      <td>2.583210e-53</td>\n",
       "    </tr>\n",
       "    <tr>\n",
       "      <th>max</th>\n",
       "      <td>3.646846e-51</td>\n",
       "      <td>4.073597e-50</td>\n",
       "      <td>4.440147e-49</td>\n",
       "      <td>4.722537e-48</td>\n",
       "      <td>4.901309e-47</td>\n",
       "      <td>4.963723e-46</td>\n",
       "      <td>4.905256e-45</td>\n",
       "      <td>4.730145e-44</td>\n",
       "      <td>4.450881e-43</td>\n",
       "      <td>4.086732e-42</td>\n",
       "      <td>...</td>\n",
       "      <td>4.519565e-44</td>\n",
       "      <td>4.684561e-45</td>\n",
       "      <td>4.738052e-46</td>\n",
       "      <td>4.676161e-47</td>\n",
       "      <td>4.503371e-48</td>\n",
       "      <td>4.231991e-49</td>\n",
       "      <td>3.880703e-50</td>\n",
       "      <td>3.472441e-51</td>\n",
       "      <td>3.031922e-52</td>\n",
       "      <td>2.583210e-53</td>\n",
       "    </tr>\n",
       "  </tbody>\n",
       "</table>\n",
       "<p>8 rows × 201 columns</p>\n",
       "</div>"
      ],
      "text/plain": [
       "                0             1             2             3             4    \\\n",
       "count  2.010000e+02  2.010000e+02  2.010000e+02  2.010000e+02  2.010000e+02   \n",
       "mean   3.646846e-51  4.073597e-50  4.440147e-49  4.722537e-48  4.901309e-47   \n",
       "std    1.130414e-65  8.091386e-65  1.903855e-63  1.584008e-62  1.949548e-61   \n",
       "min    3.646846e-51  4.073597e-50  4.440147e-49  4.722537e-48  4.901309e-47   \n",
       "25%    3.646846e-51  4.073597e-50  4.440147e-49  4.722537e-48  4.901309e-47   \n",
       "50%    3.646846e-51  4.073597e-50  4.440147e-49  4.722537e-48  4.901309e-47   \n",
       "75%    3.646846e-51  4.073597e-50  4.440147e-49  4.722537e-48  4.901309e-47   \n",
       "max    3.646846e-51  4.073597e-50  4.440147e-49  4.722537e-48  4.901309e-47   \n",
       "\n",
       "                5             6             7             8             9    \\\n",
       "count  2.010000e+02  2.010000e+02  2.010000e+02  2.010000e+02  2.010000e+02   \n",
       "mean   4.963723e-46  4.905256e-45  4.730145e-44  4.450881e-43  4.086732e-42   \n",
       "std    7.018373e-61  3.743132e-60  1.996337e-58  7.186814e-58  1.341539e-56   \n",
       "min    4.963723e-46  4.905256e-45  4.730145e-44  4.450881e-43  4.086732e-42   \n",
       "25%    4.963723e-46  4.905256e-45  4.730145e-44  4.450881e-43  4.086732e-42   \n",
       "50%    4.963723e-46  4.905256e-45  4.730145e-44  4.450881e-43  4.086732e-42   \n",
       "75%    4.963723e-46  4.905256e-45  4.730145e-44  4.450881e-43  4.086732e-42   \n",
       "max    4.963723e-46  4.905256e-45  4.730145e-44  4.450881e-43  4.086732e-42   \n",
       "\n",
       "       ...           191           192           193           194  \\\n",
       "count  ...  2.010000e+02  2.010000e+02  2.010000e+02  2.010000e+02   \n",
       "mean   ...  4.519565e-44  4.684561e-45  4.738052e-46  4.676161e-47   \n",
       "std    ...  0.000000e+00  7.486264e-60  1.793584e-60  1.559638e-61   \n",
       "min    ...  4.519565e-44  4.684561e-45  4.738052e-46  4.676161e-47   \n",
       "25%    ...  4.519565e-44  4.684561e-45  4.738052e-46  4.676161e-47   \n",
       "50%    ...  4.519565e-44  4.684561e-45  4.738052e-46  4.676161e-47   \n",
       "75%    ...  4.519565e-44  4.684561e-45  4.738052e-46  4.676161e-47   \n",
       "max    ...  4.519565e-44  4.684561e-45  4.738052e-46  4.676161e-47   \n",
       "\n",
       "                195           196           197           198           199  \\\n",
       "count  2.010000e+02  2.010000e+02  2.010000e+02  2.010000e+02  2.010000e+02   \n",
       "mean   4.503371e-48  4.231991e-49  3.880703e-50  3.472441e-51  3.031922e-52   \n",
       "std    5.483104e-63  1.446930e-63  4.283675e-65  9.519277e-66  8.924322e-67   \n",
       "min    4.503371e-48  4.231991e-49  3.880703e-50  3.472441e-51  3.031922e-52   \n",
       "25%    4.503371e-48  4.231991e-49  3.880703e-50  3.472441e-51  3.031922e-52   \n",
       "50%    4.503371e-48  4.231991e-49  3.880703e-50  3.472441e-51  3.031922e-52   \n",
       "75%    4.503371e-48  4.231991e-49  3.880703e-50  3.472441e-51  3.031922e-52   \n",
       "max    4.503371e-48  4.231991e-49  3.880703e-50  3.472441e-51  3.031922e-52   \n",
       "\n",
       "                200  \n",
       "count  2.010000e+02  \n",
       "mean   2.583210e-53  \n",
       "std    7.436935e-68  \n",
       "min    2.583210e-53  \n",
       "25%    2.583210e-53  \n",
       "50%    2.583210e-53  \n",
       "75%    2.583210e-53  \n",
       "max    2.583210e-53  \n",
       "\n",
       "[8 rows x 201 columns]"
      ]
     },
     "execution_count": 578,
     "metadata": {},
     "output_type": "execute_result"
    }
   ],
   "source": [
    "pd.DataFrame(T_matrix).describe()"
   ]
  },
  {
   "cell_type": "code",
   "execution_count": null,
   "id": "2aba3f2b",
   "metadata": {},
   "outputs": [],
   "source": []
  },
  {
   "cell_type": "code",
   "execution_count": 572,
   "id": "46d05616",
   "metadata": {},
   "outputs": [
    {
     "data": {
      "text/plain": [
       "[<matplotlib.lines.Line2D at 0x24d46bc57c8>]"
      ]
     },
     "execution_count": 572,
     "metadata": {},
     "output_type": "execute_result"
    },
    {
     "data": {
      "image/png": "[encoded data removed]",
      "text/plain": [
       "<Figure size 432x288 with 1 Axes>"
      ]
     },
     "metadata": {
      "needs_background": "light"
     },
     "output_type": "display_data"
    }
   ],
   "source": [
    "plt.plot(pd.DataFrame(alpha).iloc[100])\n",
    "# plt.plot(pd.DataFrame(df_data).iloc[100], 'r')"
   ]
  },
  {
   "cell_type": "code",
   "execution_count": 455,
   "id": "5fe94607",
   "metadata": {},
   "outputs": [
    {
     "data": {
      "text/plain": [
       "[<matplotlib.lines.Line2D at 0x24d42b7ba08>]"
      ]
     },
     "execution_count": 455,
     "metadata": {},
     "output_type": "execute_result"
    },
    {
     "data": {
      "image/png": "[encoded data removed]",
      "text/plain": [
       "<Figure size 432x288 with 1 Axes>"
      ]
     },
     "metadata": {
      "needs_background": "light"
     },
     "output_type": "display_data"
    }
   ],
   "source": [
    "plt.plot(pd.DataFrame(df_data).iloc[0])"
   ]
  },
  {
   "cell_type": "code",
   "execution_count": 452,
   "id": "e056616c",
   "metadata": {},
   "outputs": [],
   "source": [
    "# plot_df(pd.DataFrame(alpha), 0, 10)"
   ]
  },
  {
   "cell_type": "code",
   "execution_count": null,
   "id": "65adf965",
   "metadata": {},
   "outputs": [],
   "source": []
  },
  {
   "cell_type": "code",
   "execution_count": null,
   "id": "a3c9e2be",
   "metadata": {},
   "outputs": [],
   "source": [
    "plt.plot()"
   ]
  },
  {
   "cell_type": "code",
   "execution_count": 385,
   "id": "f46028a2",
   "metadata": {},
   "outputs": [],
   "source": [
    "x0 = [1, 50, 20, 0.2, 0]"
   ]
  },
  {
   "cell_type": "code",
   "execution_count": 388,
   "id": "156b241e",
   "metadata": {},
   "outputs": [],
   "source": [
    "# np.ravel(df_data)"
   ]
  },
  {
   "cell_type": "code",
   "execution_count": 391,
   "id": "2cc93dbb",
   "metadata": {},
   "outputs": [
    {
     "ename": "TypeError",
     "evalue": "gauss_1Dfunc() missing 5 required positional arguments: 'a', 'x0', 'sigma_x', 'b', and 'offset'",
     "output_type": "error",
     "traceback": [
      "\u001b[1;31m---------------------------------------------------------------------------\u001b[0m",
      "\u001b[1;31mTypeError\u001b[0m                                 Traceback (most recent call last)",
      "\u001b[1;32m<ipython-input-391-3eba3b7f97d5>\u001b[0m in \u001b[0;36m<module>\u001b[1;34m\u001b[0m\n\u001b[0;32m      1\u001b[0m \u001b[1;31m# res_1 = least_squares(gauss_1Dfunc, x0)\u001b[0m\u001b[1;33m\u001b[0m\u001b[1;33m\u001b[0m\u001b[1;33m\u001b[0m\u001b[0m\n\u001b[1;32m----> 2\u001b[1;33m \u001b[0mres_lsq\u001b[0m \u001b[1;33m=\u001b[0m \u001b[0mleast_squares\u001b[0m\u001b[1;33m(\u001b[0m\u001b[0mgauss_1Dfunc\u001b[0m\u001b[1;33m,\u001b[0m \u001b[0mx0\u001b[0m\u001b[1;33m)\u001b[0m\u001b[1;33m\u001b[0m\u001b[1;33m\u001b[0m\u001b[0m\n\u001b[0m",
      "\u001b[1;32m~\\anaconda3\\lib\\site-packages\\scipy\\optimize\\_lsq\\least_squares.py\u001b[0m in \u001b[0;36mleast_squares\u001b[1;34m(fun, x0, jac, bounds, method, ftol, xtol, gtol, x_scale, loss, f_scale, diff_step, tr_solver, tr_options, jac_sparsity, max_nfev, verbose, args, kwargs)\u001b[0m\n\u001b[0;32m    818\u001b[0m         \u001b[0mx0\u001b[0m \u001b[1;33m=\u001b[0m \u001b[0mmake_strictly_feasible\u001b[0m\u001b[1;33m(\u001b[0m\u001b[0mx0\u001b[0m\u001b[1;33m,\u001b[0m \u001b[0mlb\u001b[0m\u001b[1;33m,\u001b[0m \u001b[0mub\u001b[0m\u001b[1;33m)\u001b[0m\u001b[1;33m\u001b[0m\u001b[1;33m\u001b[0m\u001b[0m\n\u001b[0;32m    819\u001b[0m \u001b[1;33m\u001b[0m\u001b[0m\n\u001b[1;32m--> 820\u001b[1;33m     \u001b[0mf0\u001b[0m \u001b[1;33m=\u001b[0m \u001b[0mfun_wrapped\u001b[0m\u001b[1;33m(\u001b[0m\u001b[0mx0\u001b[0m\u001b[1;33m)\u001b[0m\u001b[1;33m\u001b[0m\u001b[1;33m\u001b[0m\u001b[0m\n\u001b[0m\u001b[0;32m    821\u001b[0m \u001b[1;33m\u001b[0m\u001b[0m\n\u001b[0;32m    822\u001b[0m     \u001b[1;32mif\u001b[0m \u001b[0mf0\u001b[0m\u001b[1;33m.\u001b[0m\u001b[0mndim\u001b[0m \u001b[1;33m!=\u001b[0m \u001b[1;36m1\u001b[0m\u001b[1;33m:\u001b[0m\u001b[1;33m\u001b[0m\u001b[1;33m\u001b[0m\u001b[0m\n",
      "\u001b[1;32m~\\anaconda3\\lib\\site-packages\\scipy\\optimize\\_lsq\\least_squares.py\u001b[0m in \u001b[0;36mfun_wrapped\u001b[1;34m(x)\u001b[0m\n\u001b[0;32m    813\u001b[0m \u001b[1;33m\u001b[0m\u001b[0m\n\u001b[0;32m    814\u001b[0m     \u001b[1;32mdef\u001b[0m \u001b[0mfun_wrapped\u001b[0m\u001b[1;33m(\u001b[0m\u001b[0mx\u001b[0m\u001b[1;33m)\u001b[0m\u001b[1;33m:\u001b[0m\u001b[1;33m\u001b[0m\u001b[1;33m\u001b[0m\u001b[0m\n\u001b[1;32m--> 815\u001b[1;33m         \u001b[1;32mreturn\u001b[0m \u001b[0mnp\u001b[0m\u001b[1;33m.\u001b[0m\u001b[0matleast_1d\u001b[0m\u001b[1;33m(\u001b[0m\u001b[0mfun\u001b[0m\u001b[1;33m(\u001b[0m\u001b[0mx\u001b[0m\u001b[1;33m,\u001b[0m \u001b[1;33m*\u001b[0m\u001b[0margs\u001b[0m\u001b[1;33m,\u001b[0m \u001b[1;33m**\u001b[0m\u001b[0mkwargs\u001b[0m\u001b[1;33m)\u001b[0m\u001b[1;33m)\u001b[0m\u001b[1;33m\u001b[0m\u001b[1;33m\u001b[0m\u001b[0m\n\u001b[0m\u001b[0;32m    816\u001b[0m \u001b[1;33m\u001b[0m\u001b[0m\n\u001b[0;32m    817\u001b[0m     \u001b[1;32mif\u001b[0m \u001b[0mmethod\u001b[0m \u001b[1;33m==\u001b[0m \u001b[1;34m'trf'\u001b[0m\u001b[1;33m:\u001b[0m\u001b[1;33m\u001b[0m\u001b[1;33m\u001b[0m\u001b[0m\n",
      "\u001b[1;31mTypeError\u001b[0m: gauss_1Dfunc() missing 5 required positional arguments: 'a', 'x0', 'sigma_x', 'b', and 'offset'"
     ]
    }
   ],
   "source": [
    "# res_1 = least_squares(gauss_1Dfunc, x0)\n",
    "res_lsq = least_squares(gauss_1Dfunc, x0)"
   ]
  },
  {
   "cell_type": "code",
   "execution_count": null,
   "id": "18524300",
   "metadata": {},
   "outputs": [],
   "source": [
    "for i in range(df_data.shape[0]):\n",
    "    \n",
    "    "
   ]
  },
  {
   "cell_type": "code",
   "execution_count": 285,
   "id": "141287cb",
   "metadata": {},
   "outputs": [
    {
     "data": {
      "text/plain": [
       "<matplotlib.image.AxesImage at 0x24d42965c08>"
      ]
     },
     "execution_count": 285,
     "metadata": {},
     "output_type": "execute_result"
    },
    {
     "data": {
      "image/png": "[encoded data removed]",
      "text/plain": [
       "<Figure size 432x432 with 2 Axes>"
      ]
     },
     "metadata": {
      "needs_background": "light"
     },
     "output_type": "display_data"
    }
   ],
   "source": [
    "fig, ax = plt.subplots(1, 2, figsize=(6,6))\n",
    "ax[0].imshow(data.reshape(201, 201), cmap='jet')\n",
    "ax[1].imshow(data_noisy.reshape(201, 201), cmap='jet')"
   ]
  },
  {
   "cell_type": "code",
   "execution_count": null,
   "id": "1174518e",
   "metadata": {},
   "outputs": [],
   "source": []
  },
  {
   "cell_type": "code",
   "execution_count": 154,
   "id": "21c44068",
   "metadata": {},
   "outputs": [
    {
     "data": {
      "text/plain": [
       "[<matplotlib.lines.Line2D at 0x24d38ca0ac8>]"
      ]
     },
     "execution_count": 154,
     "metadata": {},
     "output_type": "execute_result"
    },
    {
     "data": {
      "image/png": "[encoded data removed]",
      "text/plain": [
       "<Figure size 432x288 with 1 Axes>"
      ]
     },
     "metadata": {
      "needs_background": "light"
     },
     "output_type": "display_data"
    }
   ],
   "source": [
    "plt.plot(q)"
   ]
  },
  {
   "cell_type": "code",
   "execution_count": 155,
   "id": "7445f068",
   "metadata": {},
   "outputs": [],
   "source": [
    "# plt.plot(x, y1)"
   ]
  },
  {
   "cell_type": "code",
   "execution_count": 136,
   "id": "5613a7e3",
   "metadata": {},
   "outputs": [],
   "source": [
    "x1 = np.linspace(0, 50, 50)\n",
    "y1 = np.linspace(0, 50, 50)\n",
    "X1, Y1 = np.meshgrid(x1, y1)"
   ]
  },
  {
   "cell_type": "code",
   "execution_count": 137,
   "id": "5b5e9fbf",
   "metadata": {},
   "outputs": [
    {
     "name": "stderr",
     "output_type": "stream",
     "text": [
      "C:\\Users\\nita8\\anaconda3\\lib\\site-packages\\ipykernel_launcher.py:2: RuntimeWarning: overflow encountered in exp\n",
      "  \n",
      "C:\\Users\\nita8\\anaconda3\\lib\\site-packages\\ipykernel_launcher.py:2: RuntimeWarning: overflow encountered in multiply\n",
      "  \n"
     ]
    }
   ],
   "source": [
    "# b, x0, y0 = 0.2, 50, 50\n",
    "# a, x0, y0, sigma_x, sigma_y, b, offset\n",
    "data = gauss_func(X1, Y1, 10, 5, 5, 2, 2, 5, 0) \n",
    "# data = gauss_func(X1, 0.2, 50, 20, 5) + gauss_func(Y1, 0.2, 50, 10, 5) + np.exp(-2*b*(X1-x0)*(Y1-y0))"
   ]
  },
  {
   "cell_type": "code",
   "execution_count": 144,
   "id": "e0f013ea",
   "metadata": {},
   "outputs": [
    {
     "data": {
      "text/plain": [
       "<matplotlib.image.AxesImage at 0x24d383c8f48>"
      ]
     },
     "execution_count": 144,
     "metadata": {},
     "output_type": "execute_result"
    },
    {
     "name": "stderr",
     "output_type": "stream",
     "text": [
      "C:\\Users\\nita8\\anaconda3\\lib\\site-packages\\matplotlib\\image.py:446: RuntimeWarning: overflow encountered in double_scalars\n",
      "  newmin = vmid - dv * fact\n",
      "C:\\Users\\nita8\\anaconda3\\lib\\site-packages\\matplotlib\\image.py:451: RuntimeWarning: overflow encountered in double_scalars\n",
      "  newmax = vmid + dv * fact\n"
     ]
    },
    {
     "data": {
      "image/png": "[encoded data removed]",
      "text/plain": [
       "<Figure size 432x432 with 2 Axes>"
      ]
     },
     "metadata": {
      "needs_background": "light"
     },
     "output_type": "display_data"
    }
   ],
   "source": [
    "fig, ax = plt.subplots(1, 2, figsize=(6,6))\n",
    "ax[0].imshow(data.reshape(50, 50), cmap='jet')\n",
    "# ax[1].imshow(data_noisy.reshape(201, 201), cmap='jet')"
   ]
  },
  {
   "cell_type": "code",
   "execution_count": 140,
   "id": "62d9290f",
   "metadata": {},
   "outputs": [],
   "source": [
    "df_try = pd.DataFrame(data)"
   ]
  },
  {
   "cell_type": "code",
   "execution_count": 141,
   "id": "cf49255d",
   "metadata": {},
   "outputs": [
    {
     "name": "stderr",
     "output_type": "stream",
     "text": [
      "C:\\Users\\nita8\\anaconda3\\lib\\site-packages\\numpy\\lib\\function_base.py:3961: RuntimeWarning: invalid value encountered in subtract\n",
      "  diff_b_a = subtract(b, a)\n"
     ]
    },
    {
     "data": {
      "text/html": [
       "<div>\n",
       "<style scoped>\n",
       "    .dataframe tbody tr th:only-of-type {\n",
       "        vertical-align: middle;\n",
       "    }\n",
       "\n",
       "    .dataframe tbody tr th {\n",
       "        vertical-align: top;\n",
       "    }\n",
       "\n",
       "    .dataframe thead th {\n",
       "        text-align: right;\n",
       "    }\n",
       "</style>\n",
       "<table border=\"1\" class=\"dataframe\">\n",
       "  <thead>\n",
       "    <tr style=\"text-align: right;\">\n",
       "      <th></th>\n",
       "      <th>0</th>\n",
       "      <th>1</th>\n",
       "      <th>2</th>\n",
       "      <th>3</th>\n",
       "      <th>4</th>\n",
       "      <th>5</th>\n",
       "      <th>6</th>\n",
       "      <th>7</th>\n",
       "      <th>8</th>\n",
       "      <th>9</th>\n",
       "      <th>...</th>\n",
       "      <th>40</th>\n",
       "      <th>41</th>\n",
       "      <th>42</th>\n",
       "      <th>43</th>\n",
       "      <th>44</th>\n",
       "      <th>45</th>\n",
       "      <th>46</th>\n",
       "      <th>47</th>\n",
       "      <th>48</th>\n",
       "      <th>49</th>\n",
       "    </tr>\n",
       "  </thead>\n",
       "  <tbody>\n",
       "    <tr>\n",
       "      <th>count</th>\n",
       "      <td>5.000000e+01</td>\n",
       "      <td>5.000000e+01</td>\n",
       "      <td>5.000000e+01</td>\n",
       "      <td>5.000000e+01</td>\n",
       "      <td>5.000000e+01</td>\n",
       "      <td>5.000000e+01</td>\n",
       "      <td>5.000000e+01</td>\n",
       "      <td>5.000000e+01</td>\n",
       "      <td>5.000000e+01</td>\n",
       "      <td>5.000000e+01</td>\n",
       "      <td>...</td>\n",
       "      <td>50.0</td>\n",
       "      <td>50.0</td>\n",
       "      <td>50.0</td>\n",
       "      <td>50.0</td>\n",
       "      <td>50.0</td>\n",
       "      <td>50.0</td>\n",
       "      <td>50.0</td>\n",
       "      <td>50.0</td>\n",
       "      <td>50.0</td>\n",
       "      <td>50.0</td>\n",
       "    </tr>\n",
       "    <tr>\n",
       "      <th>mean</th>\n",
       "      <td>inf</td>\n",
       "      <td>inf</td>\n",
       "      <td>8.722468e+187</td>\n",
       "      <td>3.144293e+80</td>\n",
       "      <td>6.643117e+17</td>\n",
       "      <td>8.225933e-01</td>\n",
       "      <td>9.394785e+17</td>\n",
       "      <td>2.551502e+39</td>\n",
       "      <td>2.448800e+60</td>\n",
       "      <td>8.296770e+80</td>\n",
       "      <td>...</td>\n",
       "      <td>inf</td>\n",
       "      <td>inf</td>\n",
       "      <td>inf</td>\n",
       "      <td>inf</td>\n",
       "      <td>inf</td>\n",
       "      <td>inf</td>\n",
       "      <td>inf</td>\n",
       "      <td>inf</td>\n",
       "      <td>inf</td>\n",
       "      <td>inf</td>\n",
       "    </tr>\n",
       "    <tr>\n",
       "      <th>std</th>\n",
       "      <td>NaN</td>\n",
       "      <td>NaN</td>\n",
       "      <td>inf</td>\n",
       "      <td>1.162442e+81</td>\n",
       "      <td>2.455953e+18</td>\n",
       "      <td>3.041123e+00</td>\n",
       "      <td>6.636100e+18</td>\n",
       "      <td>1.804184e+40</td>\n",
       "      <td>1.731563e+61</td>\n",
       "      <td>5.866702e+81</td>\n",
       "      <td>...</td>\n",
       "      <td>NaN</td>\n",
       "      <td>NaN</td>\n",
       "      <td>NaN</td>\n",
       "      <td>NaN</td>\n",
       "      <td>NaN</td>\n",
       "      <td>NaN</td>\n",
       "      <td>NaN</td>\n",
       "      <td>NaN</td>\n",
       "      <td>NaN</td>\n",
       "      <td>NaN</td>\n",
       "    </tr>\n",
       "    <tr>\n",
       "      <th>min</th>\n",
       "      <td>3.706956e-119</td>\n",
       "      <td>5.206988e-95</td>\n",
       "      <td>2.581986e-71</td>\n",
       "      <td>2.292929e-61</td>\n",
       "      <td>3.737123e-260</td>\n",
       "      <td>0.000000e+00</td>\n",
       "      <td>0.000000e+00</td>\n",
       "      <td>0.000000e+00</td>\n",
       "      <td>0.000000e+00</td>\n",
       "      <td>0.000000e+00</td>\n",
       "      <td>...</td>\n",
       "      <td>0.0</td>\n",
       "      <td>0.0</td>\n",
       "      <td>0.0</td>\n",
       "      <td>0.0</td>\n",
       "      <td>0.0</td>\n",
       "      <td>0.0</td>\n",
       "      <td>0.0</td>\n",
       "      <td>0.0</td>\n",
       "      <td>0.0</td>\n",
       "      <td>0.0</td>\n",
       "    </tr>\n",
       "    <tr>\n",
       "      <th>25%</th>\n",
       "      <td>4.107951e+159</td>\n",
       "      <td>9.440120e+124</td>\n",
       "      <td>7.658224e+89</td>\n",
       "      <td>1.352767e+07</td>\n",
       "      <td>1.256196e-92</td>\n",
       "      <td>4.417937e-233</td>\n",
       "      <td>0.000000e+00</td>\n",
       "      <td>0.000000e+00</td>\n",
       "      <td>0.000000e+00</td>\n",
       "      <td>0.000000e+00</td>\n",
       "      <td>...</td>\n",
       "      <td>0.0</td>\n",
       "      <td>0.0</td>\n",
       "      <td>0.0</td>\n",
       "      <td>0.0</td>\n",
       "      <td>0.0</td>\n",
       "      <td>0.0</td>\n",
       "      <td>0.0</td>\n",
       "      <td>0.0</td>\n",
       "      <td>0.0</td>\n",
       "      <td>0.0</td>\n",
       "    </tr>\n",
       "    <tr>\n",
       "      <th>50%</th>\n",
       "      <td>NaN</td>\n",
       "      <td>2.476657e+260</td>\n",
       "      <td>6.996057e+155</td>\n",
       "      <td>2.521953e+48</td>\n",
       "      <td>5.328265e-15</td>\n",
       "      <td>3.765407e-91</td>\n",
       "      <td>8.589588e-178</td>\n",
       "      <td>6.917212e-265</td>\n",
       "      <td>0.000000e+00</td>\n",
       "      <td>0.000000e+00</td>\n",
       "      <td>...</td>\n",
       "      <td>0.0</td>\n",
       "      <td>0.0</td>\n",
       "      <td>0.0</td>\n",
       "      <td>0.0</td>\n",
       "      <td>0.0</td>\n",
       "      <td>0.0</td>\n",
       "      <td>0.0</td>\n",
       "      <td>0.0</td>\n",
       "      <td>0.0</td>\n",
       "      <td>0.0</td>\n",
       "    </tr>\n",
       "    <tr>\n",
       "      <th>75%</th>\n",
       "      <td>NaN</td>\n",
       "      <td>NaN</td>\n",
       "      <td>5.149755e+180</td>\n",
       "      <td>1.856395e+73</td>\n",
       "      <td>3.922104e+10</td>\n",
       "      <td>1.838417e-14</td>\n",
       "      <td>7.705236e-47</td>\n",
       "      <td>1.140105e-79</td>\n",
       "      <td>5.955279e-113</td>\n",
       "      <td>1.098140e-146</td>\n",
       "      <td>...</td>\n",
       "      <td>0.0</td>\n",
       "      <td>0.0</td>\n",
       "      <td>0.0</td>\n",
       "      <td>0.0</td>\n",
       "      <td>0.0</td>\n",
       "      <td>0.0</td>\n",
       "      <td>0.0</td>\n",
       "      <td>0.0</td>\n",
       "      <td>0.0</td>\n",
       "      <td>0.0</td>\n",
       "    </tr>\n",
       "    <tr>\n",
       "      <th>max</th>\n",
       "      <td>inf</td>\n",
       "      <td>inf</td>\n",
       "      <td>1.766169e+189</td>\n",
       "      <td>6.366724e+81</td>\n",
       "      <td>1.345132e+19</td>\n",
       "      <td>1.665631e+01</td>\n",
       "      <td>4.692528e+19</td>\n",
       "      <td>1.275751e+41</td>\n",
       "      <td>1.224400e+62</td>\n",
       "      <td>4.148385e+82</td>\n",
       "      <td>...</td>\n",
       "      <td>inf</td>\n",
       "      <td>inf</td>\n",
       "      <td>inf</td>\n",
       "      <td>inf</td>\n",
       "      <td>inf</td>\n",
       "      <td>inf</td>\n",
       "      <td>inf</td>\n",
       "      <td>inf</td>\n",
       "      <td>inf</td>\n",
       "      <td>inf</td>\n",
       "    </tr>\n",
       "  </tbody>\n",
       "</table>\n",
       "<p>8 rows × 50 columns</p>\n",
       "</div>"
      ],
      "text/plain": [
       "                  0              1              2             3   \\\n",
       "count   5.000000e+01   5.000000e+01   5.000000e+01  5.000000e+01   \n",
       "mean             inf            inf  8.722468e+187  3.144293e+80   \n",
       "std              NaN            NaN            inf  1.162442e+81   \n",
       "min    3.706956e-119   5.206988e-95   2.581986e-71  2.292929e-61   \n",
       "25%    4.107951e+159  9.440120e+124   7.658224e+89  1.352767e+07   \n",
       "50%              NaN  2.476657e+260  6.996057e+155  2.521953e+48   \n",
       "75%              NaN            NaN  5.149755e+180  1.856395e+73   \n",
       "max              inf            inf  1.766169e+189  6.366724e+81   \n",
       "\n",
       "                  4              5              6              7   \\\n",
       "count   5.000000e+01   5.000000e+01   5.000000e+01   5.000000e+01   \n",
       "mean    6.643117e+17   8.225933e-01   9.394785e+17   2.551502e+39   \n",
       "std     2.455953e+18   3.041123e+00   6.636100e+18   1.804184e+40   \n",
       "min    3.737123e-260   0.000000e+00   0.000000e+00   0.000000e+00   \n",
       "25%     1.256196e-92  4.417937e-233   0.000000e+00   0.000000e+00   \n",
       "50%     5.328265e-15   3.765407e-91  8.589588e-178  6.917212e-265   \n",
       "75%     3.922104e+10   1.838417e-14   7.705236e-47   1.140105e-79   \n",
       "max     1.345132e+19   1.665631e+01   4.692528e+19   1.275751e+41   \n",
       "\n",
       "                  8              9   ...    40    41    42    43    44    45  \\\n",
       "count   5.000000e+01   5.000000e+01  ...  50.0  50.0  50.0  50.0  50.0  50.0   \n",
       "mean    2.448800e+60   8.296770e+80  ...   inf   inf   inf   inf   inf   inf   \n",
       "std     1.731563e+61   5.866702e+81  ...   NaN   NaN   NaN   NaN   NaN   NaN   \n",
       "min     0.000000e+00   0.000000e+00  ...   0.0   0.0   0.0   0.0   0.0   0.0   \n",
       "25%     0.000000e+00   0.000000e+00  ...   0.0   0.0   0.0   0.0   0.0   0.0   \n",
       "50%     0.000000e+00   0.000000e+00  ...   0.0   0.0   0.0   0.0   0.0   0.0   \n",
       "75%    5.955279e-113  1.098140e-146  ...   0.0   0.0   0.0   0.0   0.0   0.0   \n",
       "max     1.224400e+62   4.148385e+82  ...   inf   inf   inf   inf   inf   inf   \n",
       "\n",
       "         46    47    48    49  \n",
       "count  50.0  50.0  50.0  50.0  \n",
       "mean    inf   inf   inf   inf  \n",
       "std     NaN   NaN   NaN   NaN  \n",
       "min     0.0   0.0   0.0   0.0  \n",
       "25%     0.0   0.0   0.0   0.0  \n",
       "50%     0.0   0.0   0.0   0.0  \n",
       "75%     0.0   0.0   0.0   0.0  \n",
       "max     inf   inf   inf   inf  \n",
       "\n",
       "[8 rows x 50 columns]"
      ]
     },
     "execution_count": 141,
     "metadata": {},
     "output_type": "execute_result"
    }
   ],
   "source": [
    "df_try.describe()"
   ]
  },
  {
   "cell_type": "code",
   "execution_count": 142,
   "id": "24a9f2e7",
   "metadata": {},
   "outputs": [],
   "source": [
    "#define dunction that plots the dataframe\n",
    "\n",
    "def plot_df(df, vmin, vmax):    \n",
    "    \n",
    "    #plotting the data\n",
    "\n",
    "    x1 = df.columns\n",
    "    y1 = df.index\n",
    "    z1 = df\n",
    "    X1,Y1 = np.meshgrid(x1,y1)\n",
    "    Z1 = z1\n",
    "    img = plt.contourf(X1,Y1,Z1,50, cmap='jet', vmin=-vmin, vmax=vmax )\n",
    "    plt.colorbar(img)\n",
    "    return"
   ]
  },
  {
   "cell_type": "code",
   "execution_count": 143,
   "id": "675921d5",
   "metadata": {},
   "outputs": [
    {
     "data": {
      "image/png": "[encoded data removed]",
      "text/plain": [
       "<Figure size 432x288 with 2 Axes>"
      ]
     },
     "metadata": {
      "needs_background": "light"
     },
     "output_type": "display_data"
    }
   ],
   "source": [
    "plot_df(df_try, 100, 100)"
   ]
  },
  {
   "cell_type": "code",
   "execution_count": 102,
   "id": "92ce9b98",
   "metadata": {},
   "outputs": [
    {
     "data": {
      "text/plain": [
       "<matplotlib.image.AxesImage at 0x24d37ebd988>"
      ]
     },
     "execution_count": 102,
     "metadata": {},
     "output_type": "execute_result"
    },
    {
     "data": {
      "image/png": "[encoded data removed]",
      "text/plain": [
       "<Figure size 432x432 with 2 Axes>"
      ]
     },
     "metadata": {
      "needs_background": "light"
     },
     "output_type": "display_data"
    }
   ],
   "source": [
    "# fig, ax = plt.subplots(1, 2, figsize=(6,6))\n",
    "# ax[0].imshow(data.reshape(100, 100), cmap='jet')\n",
    "ax[0].imshow(data, cmap='jet')\n",
    "# ax[1].imshow(data.reshape(100, 100), cmap='jet')"
   ]
  },
  {
   "cell_type": "code",
   "execution_count": null,
   "id": "a37766a7",
   "metadata": {},
   "outputs": [],
   "source": [
    "# data = twoD_Gaussian(X1, Y1, 3, 100, 100, 20, 40, 0, 10)"
   ]
  },
  {
   "cell_type": "code",
   "execution_count": 29,
   "id": "02a50b00",
   "metadata": {},
   "outputs": [],
   "source": [
    "# Create x and y indices\n",
    "\n",
    "# y1 = np.linspace(0, 2, 1)\n",
    "# X1, Y1 = np.meshgrid(x1, y1)\n",
    "\n",
    "#create data\n",
    "# data = twoD_Gaussian(X1, Y1, 3, 100, 100, 20, 40, 0, 10)\n",
    "# data_noisy = data + 0.2*np.random.normal(size=data.shape)\n",
    "\n",
    "# fig, ax = plt.subplots(1, 2, figsize=(6,6))\n",
    "# ax[0].imshow(data.reshape(201, 201), cmap='jet')\n",
    "# ax[1].imshow(data_noisy.reshape(201, 201), cmap='jet')"
   ]
  },
  {
   "cell_type": "code",
   "execution_count": 30,
   "id": "c98b0147",
   "metadata": {},
   "outputs": [
    {
     "data": {
      "text/plain": [
       "array([0. , 0.5, 1. , 1.5, 2. ])"
      ]
     },
     "execution_count": 30,
     "metadata": {},
     "output_type": "execute_result"
    }
   ],
   "source": [
    "x1"
   ]
  },
  {
   "cell_type": "code",
   "execution_count": null,
   "id": "0c598144",
   "metadata": {},
   "outputs": [],
   "source": []
  },
  {
   "cell_type": "code",
   "execution_count": null,
   "id": "691e3b90",
   "metadata": {},
   "outputs": [],
   "source": []
  },
  {
   "cell_type": "code",
   "execution_count": null,
   "id": "f5eb6597",
   "metadata": {},
   "outputs": [],
   "source": []
  },
  {
   "cell_type": "code",
   "execution_count": null,
   "id": "1b535b74",
   "metadata": {},
   "outputs": [],
   "source": []
  },
  {
   "cell_type": "code",
   "execution_count": null,
   "id": "c1d91e94",
   "metadata": {},
   "outputs": [],
   "source": []
  },
  {
   "cell_type": "code",
   "execution_count": null,
   "id": "c2e6e5c1",
   "metadata": {},
   "outputs": [],
   "source": []
  },
  {
   "cell_type": "code",
   "execution_count": 2,
   "id": "fdb0d90e",
   "metadata": {},
   "outputs": [
    {
     "data": {
      "text/html": [
       "<div>\n",
       "<style scoped>\n",
       "    .dataframe tbody tr th:only-of-type {\n",
       "        vertical-align: middle;\n",
       "    }\n",
       "\n",
       "    .dataframe tbody tr th {\n",
       "        vertical-align: top;\n",
       "    }\n",
       "\n",
       "    .dataframe thead th {\n",
       "        text-align: right;\n",
       "    }\n",
       "</style>\n",
       "<table border=\"1\" class=\"dataframe\">\n",
       "  <thead>\n",
       "    <tr style=\"text-align: right;\">\n",
       "      <th></th>\n",
       "      <th>Wavelength</th>\n",
       "      <th>-500.0</th>\n",
       "      <th>-490.0</th>\n",
       "      <th>-480.0</th>\n",
       "      <th>-470.0</th>\n",
       "      <th>-460.0</th>\n",
       "      <th>-450.0</th>\n",
       "      <th>-440.0</th>\n",
       "      <th>-430.0</th>\n",
       "      <th>-420.0</th>\n",
       "      <th>...</th>\n",
       "      <th>4910.0</th>\n",
       "      <th>4920.0</th>\n",
       "      <th>4930.0</th>\n",
       "      <th>4940.0</th>\n",
       "      <th>4950.0</th>\n",
       "      <th>4960.0</th>\n",
       "      <th>4970.0</th>\n",
       "      <th>4980.0</th>\n",
       "      <th>4990.0</th>\n",
       "      <th>5000.0</th>\n",
       "    </tr>\n",
       "  </thead>\n",
       "  <tbody>\n",
       "    <tr>\n",
       "      <th>0</th>\n",
       "      <td>549.8464</td>\n",
       "      <td>0.0</td>\n",
       "      <td>0.0</td>\n",
       "      <td>0.0</td>\n",
       "      <td>0.0</td>\n",
       "      <td>0.0</td>\n",
       "      <td>0.0</td>\n",
       "      <td>0.0</td>\n",
       "      <td>0.0</td>\n",
       "      <td>0.0</td>\n",
       "      <td>...</td>\n",
       "      <td>0.0</td>\n",
       "      <td>0.0</td>\n",
       "      <td>0.0</td>\n",
       "      <td>0.0</td>\n",
       "      <td>0.0</td>\n",
       "      <td>0.0</td>\n",
       "      <td>0.0</td>\n",
       "      <td>0.0</td>\n",
       "      <td>0.0</td>\n",
       "      <td>0.0</td>\n",
       "    </tr>\n",
       "    <tr>\n",
       "      <th>1</th>\n",
       "      <td>550.0243</td>\n",
       "      <td>0.0</td>\n",
       "      <td>0.0</td>\n",
       "      <td>0.0</td>\n",
       "      <td>0.0</td>\n",
       "      <td>0.0</td>\n",
       "      <td>0.0</td>\n",
       "      <td>0.0</td>\n",
       "      <td>0.0</td>\n",
       "      <td>0.0</td>\n",
       "      <td>...</td>\n",
       "      <td>0.0</td>\n",
       "      <td>0.0</td>\n",
       "      <td>0.0</td>\n",
       "      <td>0.0</td>\n",
       "      <td>0.0</td>\n",
       "      <td>0.0</td>\n",
       "      <td>0.0</td>\n",
       "      <td>0.0</td>\n",
       "      <td>0.0</td>\n",
       "      <td>0.0</td>\n",
       "    </tr>\n",
       "  </tbody>\n",
       "</table>\n",
       "<p>2 rows × 552 columns</p>\n",
       "</div>"
      ],
      "text/plain": [
       "   Wavelength  -500.0  -490.0  -480.0  -470.0  -460.0  -450.0  -440.0  -430.0  \\\n",
       "0    549.8464     0.0     0.0     0.0     0.0     0.0     0.0     0.0     0.0   \n",
       "1    550.0243     0.0     0.0     0.0     0.0     0.0     0.0     0.0     0.0   \n",
       "\n",
       "   -420.0  ...  4910.0  4920.0  4930.0  4940.0  4950.0  4960.0  4970.0  \\\n",
       "0     0.0  ...     0.0     0.0     0.0     0.0     0.0     0.0     0.0   \n",
       "1     0.0  ...     0.0     0.0     0.0     0.0     0.0     0.0     0.0   \n",
       "\n",
       "   4980.0  4990.0  5000.0  \n",
       "0     0.0     0.0     0.0  \n",
       "1     0.0     0.0     0.0  \n",
       "\n",
       "[2 rows x 552 columns]"
      ]
     },
     "execution_count": 2,
     "metadata": {},
     "output_type": "execute_result"
    }
   ],
   "source": [
    "#import the raw file\n",
    "\n",
    "df = pd.read_csv('C:/UofT/Data analysis/TA data analysis_Nita/Phil_Rajib_project/Analysis/Pt1_DCM_chirp_corrected.csv')\n",
    "df.head(2)"
   ]
  },
  {
   "cell_type": "code",
   "execution_count": 3,
   "id": "943c1e59",
   "metadata": {},
   "outputs": [
    {
     "data": {
      "text/html": [
       "<div>\n",
       "<style scoped>\n",
       "    .dataframe tbody tr th:only-of-type {\n",
       "        vertical-align: middle;\n",
       "    }\n",
       "\n",
       "    .dataframe tbody tr th {\n",
       "        vertical-align: top;\n",
       "    }\n",
       "\n",
       "    .dataframe thead th {\n",
       "        text-align: right;\n",
       "    }\n",
       "</style>\n",
       "<table border=\"1\" class=\"dataframe\">\n",
       "  <thead>\n",
       "    <tr style=\"text-align: right;\">\n",
       "      <th></th>\n",
       "      <th>-500.0</th>\n",
       "      <th>-490.0</th>\n",
       "      <th>-480.0</th>\n",
       "      <th>-470.0</th>\n",
       "      <th>-460.0</th>\n",
       "      <th>-450.0</th>\n",
       "      <th>-440.0</th>\n",
       "      <th>-430.0</th>\n",
       "      <th>-420.0</th>\n",
       "      <th>-410.0</th>\n",
       "      <th>...</th>\n",
       "      <th>4910.0</th>\n",
       "      <th>4920.0</th>\n",
       "      <th>4930.0</th>\n",
       "      <th>4940.0</th>\n",
       "      <th>4950.0</th>\n",
       "      <th>4960.0</th>\n",
       "      <th>4970.0</th>\n",
       "      <th>4980.0</th>\n",
       "      <th>4990.0</th>\n",
       "      <th>5000.0</th>\n",
       "    </tr>\n",
       "    <tr>\n",
       "      <th>Wavelength</th>\n",
       "      <th></th>\n",
       "      <th></th>\n",
       "      <th></th>\n",
       "      <th></th>\n",
       "      <th></th>\n",
       "      <th></th>\n",
       "      <th></th>\n",
       "      <th></th>\n",
       "      <th></th>\n",
       "      <th></th>\n",
       "      <th></th>\n",
       "      <th></th>\n",
       "      <th></th>\n",
       "      <th></th>\n",
       "      <th></th>\n",
       "      <th></th>\n",
       "      <th></th>\n",
       "      <th></th>\n",
       "      <th></th>\n",
       "      <th></th>\n",
       "      <th></th>\n",
       "    </tr>\n",
       "  </thead>\n",
       "  <tbody>\n",
       "    <tr>\n",
       "      <th>549.8464</th>\n",
       "      <td>0.0</td>\n",
       "      <td>0.0</td>\n",
       "      <td>0.0</td>\n",
       "      <td>0.0</td>\n",
       "      <td>0.0</td>\n",
       "      <td>0.0</td>\n",
       "      <td>0.0</td>\n",
       "      <td>0.0</td>\n",
       "      <td>0.0</td>\n",
       "      <td>0.0</td>\n",
       "      <td>...</td>\n",
       "      <td>0.0</td>\n",
       "      <td>0.0</td>\n",
       "      <td>0.0</td>\n",
       "      <td>0.0</td>\n",
       "      <td>0.0</td>\n",
       "      <td>0.0</td>\n",
       "      <td>0.0</td>\n",
       "      <td>0.0</td>\n",
       "      <td>0.0</td>\n",
       "      <td>0.0</td>\n",
       "    </tr>\n",
       "    <tr>\n",
       "      <th>550.0243</th>\n",
       "      <td>0.0</td>\n",
       "      <td>0.0</td>\n",
       "      <td>0.0</td>\n",
       "      <td>0.0</td>\n",
       "      <td>0.0</td>\n",
       "      <td>0.0</td>\n",
       "      <td>0.0</td>\n",
       "      <td>0.0</td>\n",
       "      <td>0.0</td>\n",
       "      <td>0.0</td>\n",
       "      <td>...</td>\n",
       "      <td>0.0</td>\n",
       "      <td>0.0</td>\n",
       "      <td>0.0</td>\n",
       "      <td>0.0</td>\n",
       "      <td>0.0</td>\n",
       "      <td>0.0</td>\n",
       "      <td>0.0</td>\n",
       "      <td>0.0</td>\n",
       "      <td>0.0</td>\n",
       "      <td>0.0</td>\n",
       "    </tr>\n",
       "  </tbody>\n",
       "</table>\n",
       "<p>2 rows × 551 columns</p>\n",
       "</div>"
      ],
      "text/plain": [
       "            -500.0  -490.0  -480.0  -470.0  -460.0  -450.0  -440.0  -430.0  \\\n",
       "Wavelength                                                                   \n",
       "549.8464       0.0     0.0     0.0     0.0     0.0     0.0     0.0     0.0   \n",
       "550.0243       0.0     0.0     0.0     0.0     0.0     0.0     0.0     0.0   \n",
       "\n",
       "            -420.0  -410.0  ...  4910.0  4920.0  4930.0  4940.0  4950.0  \\\n",
       "Wavelength                  ...                                           \n",
       "549.8464       0.0     0.0  ...     0.0     0.0     0.0     0.0     0.0   \n",
       "550.0243       0.0     0.0  ...     0.0     0.0     0.0     0.0     0.0   \n",
       "\n",
       "            4960.0  4970.0  4980.0  4990.0  5000.0  \n",
       "Wavelength                                          \n",
       "549.8464       0.0     0.0     0.0     0.0     0.0  \n",
       "550.0243       0.0     0.0     0.0     0.0     0.0  \n",
       "\n",
       "[2 rows x 551 columns]"
      ]
     },
     "execution_count": 3,
     "metadata": {},
     "output_type": "execute_result"
    }
   ],
   "source": [
    "#set the first column as the index\n",
    "\n",
    "df1 = df.set_index('Wavelength')\n",
    "df1.head(2)"
   ]
  },
  {
   "cell_type": "code",
   "execution_count": 4,
   "id": "75d1e388",
   "metadata": {},
   "outputs": [],
   "source": [
    "# change the column values to float type\n",
    "\n",
    "k = [float(i) for i in list(df1.columns)]\n",
    "df1.columns = k"
   ]
  },
  {
   "cell_type": "code",
   "execution_count": 5,
   "id": "285a9c90",
   "metadata": {},
   "outputs": [],
   "source": [
    "#define dunction that plots the dataframe\n",
    "\n",
    "def plot_df(df, vmin, vmax):    \n",
    "    \n",
    "    #plotting the data\n",
    "\n",
    "    x1 = df.columns\n",
    "    y1 = df.index\n",
    "    z1 = df\n",
    "    X1,Y1 = np.meshgrid(x1,y1)\n",
    "    Z1 = z1\n",
    "    img = plt.contourf(X1,Y1,Z1,50, cmap='jet', vmin=-vmin, vmax=vmax )\n",
    "    plt.colorbar(img)\n",
    "    return"
   ]
  },
  {
   "cell_type": "code",
   "execution_count": 6,
   "id": "74859196",
   "metadata": {},
   "outputs": [
    {
     "data": {
      "image/png": "[encoded data removed]",
      "text/plain": [
       "<Figure size 432x288 with 2 Axes>"
      ]
     },
     "metadata": {
      "needs_background": "light"
     },
     "output_type": "display_data"
    }
   ],
   "source": [
    "plot_df(df1, 5,5)"
   ]
  },
  {
   "cell_type": "code",
   "execution_count": 7,
   "id": "ea1850b4",
   "metadata": {},
   "outputs": [],
   "source": [
    "from scipy.optimize import curve_fit\n",
    "from scipy.special import erf\n",
    "\n",
    "def func_B(t, t_1):\n",
    "    B=20\n",
    "    t0 = 2.38110371e+02\n",
    "    f = (np.exp((B/(2*1.66511*t_1))**2 - ((t-t0)/t_1))*0.5*(erf(((t-t0)/B)*1.66511 - (B/(2*1.66511*t_1))) + 1)) \n",
    "    return f   "
   ]
  },
  {
   "cell_type": "code",
   "execution_count": 9,
   "id": "995747b5",
   "metadata": {},
   "outputs": [
    {
     "data": {
      "image/png": "[encoded data removed]",
      "text/plain": [
       "<Figure size 432x288 with 1 Axes>"
      ]
     },
     "metadata": {
      "needs_background": "light"
     },
     "output_type": "display_data"
    }
   ],
   "source": [
    "# t0=2.38110371e+02\n",
    "time = [200, 500, 1000, 2000]\n",
    "t1 = list(df1.columns)\n",
    "\n",
    "for i in range(len(time)):\n",
    "    plt.plot(func_B (np.array(t1), time[i]))\n"
   ]
  },
  {
   "cell_type": "code",
   "execution_count": null,
   "id": "f7c08908",
   "metadata": {},
   "outputs": [],
   "source": []
  },
  {
   "cell_type": "code",
   "execution_count": 9,
   "id": "e963a5fe",
   "metadata": {},
   "outputs": [
    {
     "data": {
      "text/plain": [
       "(551,)"
      ]
     },
     "execution_count": 9,
     "metadata": {},
     "output_type": "execute_result"
    }
   ],
   "source": [
    "func_B (np.array(t1), 200).shape"
   ]
  },
  {
   "cell_type": "code",
   "execution_count": 10,
   "id": "d4923183",
   "metadata": {},
   "outputs": [],
   "source": [
    "# n is the number of components\n",
    "\n",
    "n = 4\n",
    "T_matrix = np.zeros(shape=(n, df1.shape[1]))"
   ]
  },
  {
   "cell_type": "code",
   "execution_count": 11,
   "id": "d659c5d0",
   "metadata": {},
   "outputs": [
    {
     "data": {
      "text/plain": [
       "(4, 551)"
      ]
     },
     "execution_count": 11,
     "metadata": {},
     "output_type": "execute_result"
    }
   ],
   "source": [
    "T_matrix.shape"
   ]
  },
  {
   "cell_type": "code",
   "execution_count": 12,
   "id": "9dec0d2a",
   "metadata": {},
   "outputs": [],
   "source": [
    "for i in range (n):\n",
    "    T_matrix[i-1] = func_B (np.array(t1), time[i-1])"
   ]
  },
  {
   "cell_type": "code",
   "execution_count": 13,
   "id": "0c52cbc4",
   "metadata": {},
   "outputs": [
    {
     "data": {
      "text/plain": [
       "array([[0.00000000e+00, 0.00000000e+00, 0.00000000e+00, ...,\n",
       "        5.05253229e-11, 4.80611738e-11, 4.57172027e-11],\n",
       "       [0.00000000e+00, 0.00000000e+00, 0.00000000e+00, ...,\n",
       "        7.60868590e-05, 7.45802383e-05, 7.31034506e-05],\n",
       "       [0.00000000e+00, 0.00000000e+00, 0.00000000e+00, ...,\n",
       "        8.72246357e-03, 8.63567361e-03, 8.54974722e-03],\n",
       "       [0.00000000e+00, 0.00000000e+00, 0.00000000e+00, ...,\n",
       "        9.33932882e-02, 9.29274872e-02, 9.24640094e-02]])"
      ]
     },
     "execution_count": 13,
     "metadata": {},
     "output_type": "execute_result"
    }
   ],
   "source": [
    "T_matrix  # this is the Time matrix that you want; you need to calculate teh inverse of that"
   ]
  },
  {
   "cell_type": "code",
   "execution_count": 14,
   "id": "cbc59d40",
   "metadata": {},
   "outputs": [],
   "source": [
    "#calculate the pseudo-inverse of a matrix\n",
    "\n",
    "T_matrix_inv = np.linalg.pinv(T_matrix)"
   ]
  },
  {
   "cell_type": "code",
   "execution_count": 15,
   "id": "80377998",
   "metadata": {},
   "outputs": [
    {
     "data": {
      "text/plain": [
       "(551, 4)"
      ]
     },
     "execution_count": 15,
     "metadata": {},
     "output_type": "execute_result"
    }
   ],
   "source": [
    "T_matrix_inv.shape"
   ]
  },
  {
   "cell_type": "code",
   "execution_count": 16,
   "id": "b3ca4344",
   "metadata": {},
   "outputs": [
    {
     "data": {
      "text/plain": [
       "(4, 551)"
      ]
     },
     "execution_count": 16,
     "metadata": {},
     "output_type": "execute_result"
    }
   ],
   "source": [
    "T_matrix.shape"
   ]
  },
  {
   "cell_type": "code",
   "execution_count": 17,
   "id": "8bc624bb",
   "metadata": {},
   "outputs": [],
   "source": [
    "# calculate DT^-1\n",
    "\n",
    "S_bar = np.matmul(df1, T_matrix_inv)"
   ]
  },
  {
   "cell_type": "code",
   "execution_count": 18,
   "id": "5faeab92",
   "metadata": {},
   "outputs": [
    {
     "data": {
      "text/plain": [
       "[<matplotlib.lines.Line2D at 0x149764faa88>]"
      ]
     },
     "execution_count": 18,
     "metadata": {},
     "output_type": "execute_result"
    },
    {
     "data": {
      "image/png": "[encoded data removed]",
      "text/plain": [
       "<Figure size 432x288 with 1 Axes>"
      ]
     },
     "metadata": {
      "needs_background": "light"
     },
     "output_type": "display_data"
    }
   ],
   "source": [
    "plt.plot(S_bar[1-1])"
   ]
  },
  {
   "cell_type": "code",
   "execution_count": 19,
   "id": "2611a29c",
   "metadata": {},
   "outputs": [
    {
     "data": {
      "text/plain": [
       "range"
      ]
     },
     "execution_count": 19,
     "metadata": {},
     "output_type": "execute_result"
    }
   ],
   "source": [
    "type(range(4))"
   ]
  },
  {
   "cell_type": "code",
   "execution_count": 20,
   "id": "d77712c6",
   "metadata": {},
   "outputs": [
    {
     "data": {
      "image/png": "[encoded data removed]",
      "text/plain": [
       "<Figure size 432x288 with 1 Axes>"
      ]
     },
     "metadata": {
      "needs_background": "light"
     },
     "output_type": "display_data"
    }
   ],
   "source": [
    "for i in list(range(4)):\n",
    "    plt.plot(S_bar[i])"
   ]
  },
  {
   "cell_type": "code",
   "execution_count": 21,
   "id": "758980da",
   "metadata": {},
   "outputs": [],
   "source": [
    "#construct S_bar*T\n",
    "\n",
    "pseudo_data = np.matmul(S_bar, T_matrix)"
   ]
  },
  {
   "cell_type": "code",
   "execution_count": 22,
   "id": "e75fe490",
   "metadata": {},
   "outputs": [
    {
     "data": {
      "text/plain": [
       "(1052, 551)"
      ]
     },
     "execution_count": 22,
     "metadata": {},
     "output_type": "execute_result"
    }
   ],
   "source": [
    "pseudo_data.shape"
   ]
  },
  {
   "cell_type": "code",
   "execution_count": 23,
   "id": "bcc56d18",
   "metadata": {},
   "outputs": [],
   "source": [
    "# optimization\n",
    "\n",
    "opt = (np.linalg.norm(df1 - pseudo_data))**2"
   ]
  },
  {
   "cell_type": "code",
   "execution_count": 24,
   "id": "5d025d7a",
   "metadata": {},
   "outputs": [
    {
     "data": {
      "text/plain": [
       "nan"
      ]
     },
     "execution_count": 24,
     "metadata": {},
     "output_type": "execute_result"
    }
   ],
   "source": [
    "opt"
   ]
  },
  {
   "cell_type": "code",
   "execution_count": 25,
   "id": "e0231e4a",
   "metadata": {},
   "outputs": [
    {
     "data": {
      "text/plain": [
       "nan"
      ]
     },
     "execution_count": 25,
     "metadata": {},
     "output_type": "execute_result"
    }
   ],
   "source": [
    "opt.max()"
   ]
  },
  {
   "cell_type": "code",
   "execution_count": 26,
   "id": "4027e2cc",
   "metadata": {},
   "outputs": [],
   "source": [
    "# plot_df(opt, 0.2, 0.2)"
   ]
  },
  {
   "cell_type": "code",
   "execution_count": 27,
   "id": "c69fdcd7",
   "metadata": {},
   "outputs": [],
   "source": [
    "T_matrix[0] = func_B (np.array(t1), 200)"
   ]
  },
  {
   "cell_type": "code",
   "execution_count": 28,
   "id": "989d4230",
   "metadata": {},
   "outputs": [
    {
     "data": {
      "text/plain": [
       "(4, 551)"
      ]
     },
     "execution_count": 28,
     "metadata": {},
     "output_type": "execute_result"
    }
   ],
   "source": [
    "T_matrix.shape"
   ]
  },
  {
   "cell_type": "code",
   "execution_count": 29,
   "id": "7c400c34",
   "metadata": {},
   "outputs": [
    {
     "data": {
      "text/plain": [
       "array([[0.00000000e+00, 0.00000000e+00, 0.00000000e+00, ...,\n",
       "        5.05253229e-11, 4.80611738e-11, 4.57172027e-11],\n",
       "       [0.00000000e+00, 0.00000000e+00, 0.00000000e+00, ...,\n",
       "        7.60868590e-05, 7.45802383e-05, 7.31034506e-05],\n",
       "       [0.00000000e+00, 0.00000000e+00, 0.00000000e+00, ...,\n",
       "        8.72246357e-03, 8.63567361e-03, 8.54974722e-03],\n",
       "       [0.00000000e+00, 0.00000000e+00, 0.00000000e+00, ...,\n",
       "        9.33932882e-02, 9.29274872e-02, 9.24640094e-02]])"
      ]
     },
     "execution_count": 29,
     "metadata": {},
     "output_type": "execute_result"
    }
   ],
   "source": [
    "T_matrix"
   ]
  },
  {
   "cell_type": "code",
   "execution_count": 30,
   "id": "fbf6724d",
   "metadata": {},
   "outputs": [],
   "source": [
    "def func_B(t, t_i):\n",
    "    B=20\n",
    "    t0 = 2.38110371e+02\n",
    "    f = (np.exp((B/(2*1.66511*t_i))**2 - ((t-t0)/t_i))*0.5*(erf(((t-t0)/B)*1.66511 - (B/(2*1.66511*t_i))) + 1)) \n",
    "    return f"
   ]
  },
  {
   "cell_type": "code",
   "execution_count": 31,
   "id": "d294d2f8",
   "metadata": {},
   "outputs": [],
   "source": [
    "def global_analysis(time):\n",
    "    \n",
    "    n = 4\n",
    "    t1 = list(df1.columns)\n",
    "    \n",
    "    T_matrix = np.zeros(shape=(n, df1.shape[1]))  # n is the number of components\n",
    "    \n",
    "    for i in range (n):\n",
    "        T_matrix[i-1] = func_B (np.array(t1), time[i-1]) # this is the Time matrix that you want; \n",
    "                                                     # you need to calculate teh inverse of that\n",
    "        \n",
    "    T_matrix_inv = np.linalg.pinv(T_matrix)       #calculate the pseudo-inverse of a matrix\n",
    "    \n",
    "    S_bar = np.matmul(df1, T_matrix_inv)         # calculate DT^-1\n",
    "    \n",
    "    pseudo_data = np.matmul(S_bar, T_matrix)    #construct S_bar*T\n",
    "    \n",
    "    pseudo_data.columns = df1.columns         #reassign the columns\n",
    "    \n",
    "    opt = (np.linalg.norm(df1 - pseudo_data))**2      # define the matrix to optimize\n",
    "    \n",
    "    return opt\n",
    "#     return S_bar\n",
    "    "
   ]
  },
  {
   "cell_type": "code",
   "execution_count": 32,
   "id": "ce2ae342",
   "metadata": {},
   "outputs": [
    {
     "data": {
      "text/plain": [
       "531876.1560697469"
      ]
     },
     "execution_count": 32,
     "metadata": {},
     "output_type": "execute_result"
    }
   ],
   "source": [
    "# time = [200, 500, 1000, 2000]\n",
    "\n",
    "global_analysis (time)"
   ]
  },
  {
   "cell_type": "code",
   "execution_count": 33,
   "id": "44df0c1d",
   "metadata": {},
   "outputs": [
    {
     "data": {
      "text/html": [
       "<div>\n",
       "<style scoped>\n",
       "    .dataframe tbody tr th:only-of-type {\n",
       "        vertical-align: middle;\n",
       "    }\n",
       "\n",
       "    .dataframe tbody tr th {\n",
       "        vertical-align: top;\n",
       "    }\n",
       "\n",
       "    .dataframe thead th {\n",
       "        text-align: right;\n",
       "    }\n",
       "</style>\n",
       "<table border=\"1\" class=\"dataframe\">\n",
       "  <thead>\n",
       "    <tr style=\"text-align: right;\">\n",
       "      <th></th>\n",
       "      <th>-500.0</th>\n",
       "      <th>-490.0</th>\n",
       "      <th>-480.0</th>\n",
       "      <th>-470.0</th>\n",
       "      <th>-460.0</th>\n",
       "      <th>-450.0</th>\n",
       "      <th>-440.0</th>\n",
       "      <th>-430.0</th>\n",
       "      <th>-420.0</th>\n",
       "      <th>-410.0</th>\n",
       "      <th>...</th>\n",
       "      <th>4910.0</th>\n",
       "      <th>4920.0</th>\n",
       "      <th>4930.0</th>\n",
       "      <th>4940.0</th>\n",
       "      <th>4950.0</th>\n",
       "      <th>4960.0</th>\n",
       "      <th>4970.0</th>\n",
       "      <th>4980.0</th>\n",
       "      <th>4990.0</th>\n",
       "      <th>5000.0</th>\n",
       "    </tr>\n",
       "    <tr>\n",
       "      <th>Wavelength</th>\n",
       "      <th></th>\n",
       "      <th></th>\n",
       "      <th></th>\n",
       "      <th></th>\n",
       "      <th></th>\n",
       "      <th></th>\n",
       "      <th></th>\n",
       "      <th></th>\n",
       "      <th></th>\n",
       "      <th></th>\n",
       "      <th></th>\n",
       "      <th></th>\n",
       "      <th></th>\n",
       "      <th></th>\n",
       "      <th></th>\n",
       "      <th></th>\n",
       "      <th></th>\n",
       "      <th></th>\n",
       "      <th></th>\n",
       "      <th></th>\n",
       "      <th></th>\n",
       "    </tr>\n",
       "  </thead>\n",
       "  <tbody>\n",
       "    <tr>\n",
       "      <th>549.8464</th>\n",
       "      <td>0.0</td>\n",
       "      <td>0.0</td>\n",
       "      <td>0.0</td>\n",
       "      <td>0.0</td>\n",
       "      <td>0.0</td>\n",
       "      <td>0.0</td>\n",
       "      <td>0.0</td>\n",
       "      <td>0.0</td>\n",
       "      <td>0.0</td>\n",
       "      <td>0.0</td>\n",
       "      <td>...</td>\n",
       "      <td>0.0</td>\n",
       "      <td>0.0</td>\n",
       "      <td>0.0</td>\n",
       "      <td>0.0</td>\n",
       "      <td>0.0</td>\n",
       "      <td>0.0</td>\n",
       "      <td>0.0</td>\n",
       "      <td>0.0</td>\n",
       "      <td>0.0</td>\n",
       "      <td>0.0</td>\n",
       "    </tr>\n",
       "    <tr>\n",
       "      <th>550.0243</th>\n",
       "      <td>0.0</td>\n",
       "      <td>0.0</td>\n",
       "      <td>0.0</td>\n",
       "      <td>0.0</td>\n",
       "      <td>0.0</td>\n",
       "      <td>0.0</td>\n",
       "      <td>0.0</td>\n",
       "      <td>0.0</td>\n",
       "      <td>0.0</td>\n",
       "      <td>0.0</td>\n",
       "      <td>...</td>\n",
       "      <td>0.0</td>\n",
       "      <td>0.0</td>\n",
       "      <td>0.0</td>\n",
       "      <td>0.0</td>\n",
       "      <td>0.0</td>\n",
       "      <td>0.0</td>\n",
       "      <td>0.0</td>\n",
       "      <td>0.0</td>\n",
       "      <td>0.0</td>\n",
       "      <td>0.0</td>\n",
       "    </tr>\n",
       "    <tr>\n",
       "      <th>550.2022</th>\n",
       "      <td>0.0</td>\n",
       "      <td>0.0</td>\n",
       "      <td>0.0</td>\n",
       "      <td>0.0</td>\n",
       "      <td>0.0</td>\n",
       "      <td>0.0</td>\n",
       "      <td>0.0</td>\n",
       "      <td>0.0</td>\n",
       "      <td>0.0</td>\n",
       "      <td>0.0</td>\n",
       "      <td>...</td>\n",
       "      <td>0.0</td>\n",
       "      <td>0.0</td>\n",
       "      <td>0.0</td>\n",
       "      <td>0.0</td>\n",
       "      <td>0.0</td>\n",
       "      <td>0.0</td>\n",
       "      <td>0.0</td>\n",
       "      <td>0.0</td>\n",
       "      <td>0.0</td>\n",
       "      <td>0.0</td>\n",
       "    </tr>\n",
       "    <tr>\n",
       "      <th>550.3801</th>\n",
       "      <td>0.0</td>\n",
       "      <td>0.0</td>\n",
       "      <td>0.0</td>\n",
       "      <td>0.0</td>\n",
       "      <td>0.0</td>\n",
       "      <td>0.0</td>\n",
       "      <td>0.0</td>\n",
       "      <td>0.0</td>\n",
       "      <td>0.0</td>\n",
       "      <td>0.0</td>\n",
       "      <td>...</td>\n",
       "      <td>0.0</td>\n",
       "      <td>0.0</td>\n",
       "      <td>0.0</td>\n",
       "      <td>0.0</td>\n",
       "      <td>0.0</td>\n",
       "      <td>0.0</td>\n",
       "      <td>0.0</td>\n",
       "      <td>0.0</td>\n",
       "      <td>0.0</td>\n",
       "      <td>0.0</td>\n",
       "    </tr>\n",
       "    <tr>\n",
       "      <th>550.5580</th>\n",
       "      <td>0.0</td>\n",
       "      <td>0.0</td>\n",
       "      <td>0.0</td>\n",
       "      <td>0.0</td>\n",
       "      <td>0.0</td>\n",
       "      <td>0.0</td>\n",
       "      <td>0.0</td>\n",
       "      <td>0.0</td>\n",
       "      <td>0.0</td>\n",
       "      <td>0.0</td>\n",
       "      <td>...</td>\n",
       "      <td>0.0</td>\n",
       "      <td>0.0</td>\n",
       "      <td>0.0</td>\n",
       "      <td>0.0</td>\n",
       "      <td>0.0</td>\n",
       "      <td>0.0</td>\n",
       "      <td>0.0</td>\n",
       "      <td>0.0</td>\n",
       "      <td>0.0</td>\n",
       "      <td>0.0</td>\n",
       "    </tr>\n",
       "  </tbody>\n",
       "</table>\n",
       "<p>5 rows × 551 columns</p>\n",
       "</div>"
      ],
      "text/plain": [
       "            -500.0   -490.0   -480.0   -470.0   -460.0   -450.0   -440.0   \\\n",
       "Wavelength                                                                  \n",
       "549.8464        0.0      0.0      0.0      0.0      0.0      0.0      0.0   \n",
       "550.0243        0.0      0.0      0.0      0.0      0.0      0.0      0.0   \n",
       "550.2022        0.0      0.0      0.0      0.0      0.0      0.0      0.0   \n",
       "550.3801        0.0      0.0      0.0      0.0      0.0      0.0      0.0   \n",
       "550.5580        0.0      0.0      0.0      0.0      0.0      0.0      0.0   \n",
       "\n",
       "            -430.0   -420.0   -410.0   ...   4910.0   4920.0   4930.0  \\\n",
       "Wavelength                             ...                              \n",
       "549.8464        0.0      0.0      0.0  ...      0.0      0.0      0.0   \n",
       "550.0243        0.0      0.0      0.0  ...      0.0      0.0      0.0   \n",
       "550.2022        0.0      0.0      0.0  ...      0.0      0.0      0.0   \n",
       "550.3801        0.0      0.0      0.0  ...      0.0      0.0      0.0   \n",
       "550.5580        0.0      0.0      0.0  ...      0.0      0.0      0.0   \n",
       "\n",
       "             4940.0   4950.0   4960.0   4970.0   4980.0   4990.0   5000.0  \n",
       "Wavelength                                                                 \n",
       "549.8464        0.0      0.0      0.0      0.0      0.0      0.0      0.0  \n",
       "550.0243        0.0      0.0      0.0      0.0      0.0      0.0      0.0  \n",
       "550.2022        0.0      0.0      0.0      0.0      0.0      0.0      0.0  \n",
       "550.3801        0.0      0.0      0.0      0.0      0.0      0.0      0.0  \n",
       "550.5580        0.0      0.0      0.0      0.0      0.0      0.0      0.0  \n",
       "\n",
       "[5 rows x 551 columns]"
      ]
     },
     "execution_count": 33,
     "metadata": {},
     "output_type": "execute_result"
    }
   ],
   "source": [
    "df1.head(5)"
   ]
  },
  {
   "cell_type": "code",
   "execution_count": 51,
   "id": "4e5119e0",
   "metadata": {},
   "outputs": [],
   "source": [
    "# this is teh optimization\n",
    "\n",
    "from scipy.optimize import least_squares, minimize, basinhopping\n",
    "\n",
    "\n",
    "t_guess = [5 , 20000 , 1000, 30000]\n",
    "# res_2 = minimize(global_analysis, t_guess, method='Nelder-Mead')\n",
    "# res_3 = basinhopping(global_analysis, t_guess, T= 1.0)\n",
    "res_3 = least_squares(global_analysis, t_guess)\n",
    "# res_1 = least_squares(global_analysis, t_guess, bounds=(0, 10000))"
   ]
  },
  {
   "cell_type": "code",
   "execution_count": 52,
   "id": "ca75fb15",
   "metadata": {},
   "outputs": [
    {
     "data": {
      "text/plain": [
       " active_mask: array([0., 0., 0., 0.])\n",
       "        cost: 93322267625.6387\n",
       "         fun: array([432023.76699816])\n",
       "        grad: array([-4043.01733264,  1345.05056186,  6494.78846605,   458.64885606])\n",
       "         jac: array([[-0.00935832,  0.00311337,  0.01503341,  0.00106163]])\n",
       "     message: '`xtol` termination condition is satisfied.'\n",
       "        nfev: 30\n",
       "        njev: 19\n",
       "  optimality: 6494.788466052864\n",
       "      status: 3\n",
       "     success: True\n",
       "           x: array([28867.60637171, 32071.84140575, 39879.67611427, 37836.17221845])"
      ]
     },
     "execution_count": 52,
     "metadata": {},
     "output_type": "execute_result"
    }
   ],
   "source": [
    "res_3"
   ]
  },
  {
   "cell_type": "code",
   "execution_count": 53,
   "id": "a03d818a",
   "metadata": {},
   "outputs": [],
   "source": [
    "# rebuilt S_bar with the optimized values\n",
    "\n",
    "def DAS (time):\n",
    "    \n",
    "    t1 = list(df1.columns)\n",
    "    n = 4\n",
    "    T_matrix = np.zeros(shape=(n, df1.shape[1]))  # n is the number of components\n",
    "    \n",
    "    for i in range (n):\n",
    "        T_matrix[i-1] = func_B (np.array(t1), time[i-1]) # this is the Time matrix that you want; \n",
    "                                                     # you need to calculate teh inverse of that\n",
    "        \n",
    "    T_matrix_inv = np.linalg.pinv(T_matrix)       #calculate the pseudo-inverse of a matrix\n",
    "    \n",
    "    S_bar = np.matmul(df1, T_matrix_inv)         # calculate DT^-1\n",
    "    \n",
    "    return S_bar\n",
    "\n",
    "\n"
   ]
  },
  {
   "cell_type": "code",
   "execution_count": 54,
   "id": "1e517a09",
   "metadata": {},
   "outputs": [],
   "source": [
    "def pseudo_data (time):\n",
    "    \n",
    "    n = 4\n",
    "    t1 = list(df1.columns)\n",
    "    \n",
    "    T_matrix = np.zeros(shape=(n, df1.shape[1]))  # n is the number of components\n",
    "    \n",
    "    for i in range (n):\n",
    "        T_matrix[i-1] = func_B (np.array(t1), time[i-1]) # this is the Time matrix that you want; \n",
    "                                                     # you need to calculate teh inverse of that\n",
    "        \n",
    "    T_matrix_inv = np.linalg.pinv(T_matrix)       #calculate the pseudo-inverse of a matrix\n",
    "    \n",
    "    S_bar = np.matmul(df1, T_matrix_inv)         # calculate DT^-1\n",
    "    \n",
    "    pseudo_data = np.matmul(S_bar, T_matrix)    #construct S_bar*T\n",
    "    \n",
    "    pseudo_data.columns = df1.columns         #reassign the columns\n",
    "    \n",
    "    return pseudo_data\n",
    "    \n",
    "    "
   ]
  },
  {
   "cell_type": "code",
   "execution_count": 55,
   "id": "7f3a18ab",
   "metadata": {},
   "outputs": [],
   "source": [
    "x = [11493.22366105, 11400.55744635, -1391.88889464, 11489.75092222]\n",
    "\n",
    "das = DAS(x)\n",
    "PD = pseudo_data(x)"
   ]
  },
  {
   "cell_type": "code",
   "execution_count": 56,
   "id": "fe2149c4",
   "metadata": {},
   "outputs": [
    {
     "data": {
      "text/plain": [
       "[<matplotlib.lines.Line2D at 0x2595076c208>]"
      ]
     },
     "execution_count": 56,
     "metadata": {},
     "output_type": "execute_result"
    },
    {
     "data": {
      "image/png": "[encoded data removed]",
      "text/plain": [
       "<Figure size 432x288 with 1 Axes>"
      ]
     },
     "metadata": {
      "needs_background": "light"
     },
     "output_type": "display_data"
    }
   ],
   "source": [
    "#DAS after optimization\n",
    "\n",
    "plt.plot(das[0])\n",
    "plt.plot(das[1]*10)\n",
    "plt.plot(das[2]*100000000)"
   ]
  },
  {
   "cell_type": "code",
   "execution_count": 57,
   "id": "c47d3770",
   "metadata": {},
   "outputs": [
    {
     "data": {
      "image/png": "[encoded data removed]",
      "text/plain": [
       "<Figure size 432x288 with 1 Axes>"
      ]
     },
     "metadata": {
      "needs_background": "light"
     },
     "output_type": "display_data"
    }
   ],
   "source": [
    "for i in list(range(3)):\n",
    "    plt.plot(das[i])"
   ]
  },
  {
   "cell_type": "code",
   "execution_count": 58,
   "id": "d8804798",
   "metadata": {},
   "outputs": [
    {
     "data": {
      "image/png": "[encoded data removed]",
      "text/plain": [
       "<Figure size 432x288 with 2 Axes>"
      ]
     },
     "metadata": {
      "needs_background": "light"
     },
     "output_type": "display_data"
    }
   ],
   "source": [
    "plot_df(PD, 5, 5)"
   ]
  },
  {
   "cell_type": "code",
   "execution_count": 59,
   "id": "0feca642",
   "metadata": {},
   "outputs": [
    {
     "data": {
      "image/png": "[encoded data removed]",
      "text/plain": [
       "<Figure size 432x288 with 2 Axes>"
      ]
     },
     "metadata": {
      "needs_background": "light"
     },
     "output_type": "display_data"
    }
   ],
   "source": [
    "plot_df(df1, 5, 5)"
   ]
  },
  {
   "cell_type": "code",
   "execution_count": 43,
   "id": "b86d2f5c",
   "metadata": {},
   "outputs": [
    {
     "ename": "IndentationError",
     "evalue": "expected an indented block (<ipython-input-43-1be0c277d976>, line 9)",
     "output_type": "error",
     "traceback": [
      "\u001b[1;36m  File \u001b[1;32m\"<ipython-input-43-1be0c277d976>\"\u001b[1;36m, line \u001b[1;32m9\u001b[0m\n\u001b[1;33m    T_matrix[i-1] = func_B (np.array(t1), time[i-1]) # this is the Time matrix that you want;\u001b[0m\n\u001b[1;37m           ^\u001b[0m\n\u001b[1;31mIndentationError\u001b[0m\u001b[1;31m:\u001b[0m expected an indented block\n"
     ]
    }
   ],
   "source": [
    "def global_analysis(n, t_1, t_2, t_3, t_4):\n",
    "    \n",
    "    time = [t_1, t_2, t_3, t_4]\n",
    "    t1 = list(df1.columns)\n",
    "    \n",
    "    T_matrix = np.zeros(shape=(n, df1.shape[1]))  # n is the number of components\n",
    "    \n",
    "    for i in range (n):\n",
    "    T_matrix[i-1] = func_B (np.array(t1), time[i-1]) # this is the Time matrix that you want; \n",
    "                                                     # you need to calculate teh inverse of that\n",
    "        \n",
    "    T_matrix_inv = np.linalg.pinv(T_matrix)       #calculate the pseudo-inverse of a matrix\n",
    "    \n",
    "    S_bar = np.matmul(df1, T_matrix_inv)         # calculate DT^-1\n",
    "    \n",
    "#     pseudo_data = np.matmul(S_bar, T_matrix)    #construct S_bar*T\n",
    "    \n",
    "#     opt = (np.linalg.norm(df1 - pseudo_data))**2      # optimization\n",
    "\n",
    "    return S_bar\n",
    "    "
   ]
  },
  {
   "cell_type": "code",
   "execution_count": null,
   "id": "f67d39a9",
   "metadata": {},
   "outputs": [],
   "source": []
  }
 ],
 "metadata": {
  "kernelspec": {
   "display_name": "Python 3",
   "language": "python",
   "name": "python3"
  },
  "language_info": {
   "codemirror_mode": {
    "name": "ipython",
    "version": 3
   },
   "file_extension": ".py",
   "mimetype": "text/x-python",
   "name": "python",
   "nbconvert_exporter": "python",
   "pygments_lexer": "ipython3",
   "version": "3.7.11"
  }
 },
 "nbformat": 4,
 "nbformat_minor": 5
}
