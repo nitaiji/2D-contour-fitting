{
 "cells": [
  {
   "cell_type": "code",
   "execution_count": 1,
   "id": "a7631989",
   "metadata": {},
   "outputs": [],
   "source": [
    "#import libraries\n",
    "import numpy as np\n",
    "import scipy.optimize as opt\n",
    "import pandas as pd\n",
    "import matplotlib.pyplot as plt"
   ]
  },
  {
   "cell_type": "code",
   "execution_count": 2,
   "id": "fdb0d90e",
   "metadata": {},
   "outputs": [
    {
     "data": {
      "text/html": [
       "<div>\n",
       "<style scoped>\n",
       "    .dataframe tbody tr th:only-of-type {\n",
       "        vertical-align: middle;\n",
       "    }\n",
       "\n",
       "    .dataframe tbody tr th {\n",
       "        vertical-align: top;\n",
       "    }\n",
       "\n",
       "    .dataframe thead th {\n",
       "        text-align: right;\n",
       "    }\n",
       "</style>\n",
       "<table border=\"1\" class=\"dataframe\">\n",
       "  <thead>\n",
       "    <tr style=\"text-align: right;\">\n",
       "      <th></th>\n",
       "      <th>Wavelength</th>\n",
       "      <th>-500.0</th>\n",
       "      <th>-490.0</th>\n",
       "      <th>-480.0</th>\n",
       "      <th>-470.0</th>\n",
       "      <th>-460.0</th>\n",
       "      <th>-450.0</th>\n",
       "      <th>-440.0</th>\n",
       "      <th>-430.0</th>\n",
       "      <th>-420.0</th>\n",
       "      <th>...</th>\n",
       "      <th>4910.0</th>\n",
       "      <th>4920.0</th>\n",
       "      <th>4930.0</th>\n",
       "      <th>4940.0</th>\n",
       "      <th>4950.0</th>\n",
       "      <th>4960.0</th>\n",
       "      <th>4970.0</th>\n",
       "      <th>4980.0</th>\n",
       "      <th>4990.0</th>\n",
       "      <th>5000.0</th>\n",
       "    </tr>\n",
       "  </thead>\n",
       "  <tbody>\n",
       "    <tr>\n",
       "      <th>0</th>\n",
       "      <td>549.8464</td>\n",
       "      <td>0.0</td>\n",
       "      <td>0.0</td>\n",
       "      <td>0.0</td>\n",
       "      <td>0.0</td>\n",
       "      <td>0.0</td>\n",
       "      <td>0.0</td>\n",
       "      <td>0.0</td>\n",
       "      <td>0.0</td>\n",
       "      <td>0.0</td>\n",
       "      <td>...</td>\n",
       "      <td>0.0</td>\n",
       "      <td>0.0</td>\n",
       "      <td>0.0</td>\n",
       "      <td>0.0</td>\n",
       "      <td>0.0</td>\n",
       "      <td>0.0</td>\n",
       "      <td>0.0</td>\n",
       "      <td>0.0</td>\n",
       "      <td>0.0</td>\n",
       "      <td>0.0</td>\n",
       "    </tr>\n",
       "    <tr>\n",
       "      <th>1</th>\n",
       "      <td>550.0243</td>\n",
       "      <td>0.0</td>\n",
       "      <td>0.0</td>\n",
       "      <td>0.0</td>\n",
       "      <td>0.0</td>\n",
       "      <td>0.0</td>\n",
       "      <td>0.0</td>\n",
       "      <td>0.0</td>\n",
       "      <td>0.0</td>\n",
       "      <td>0.0</td>\n",
       "      <td>...</td>\n",
       "      <td>0.0</td>\n",
       "      <td>0.0</td>\n",
       "      <td>0.0</td>\n",
       "      <td>0.0</td>\n",
       "      <td>0.0</td>\n",
       "      <td>0.0</td>\n",
       "      <td>0.0</td>\n",
       "      <td>0.0</td>\n",
       "      <td>0.0</td>\n",
       "      <td>0.0</td>\n",
       "    </tr>\n",
       "  </tbody>\n",
       "</table>\n",
       "<p>2 rows × 552 columns</p>\n",
       "</div>"
      ],
      "text/plain": [
       "   Wavelength  -500.0  -490.0  -480.0  -470.0  -460.0  -450.0  -440.0  -430.0  \\\n",
       "0    549.8464     0.0     0.0     0.0     0.0     0.0     0.0     0.0     0.0   \n",
       "1    550.0243     0.0     0.0     0.0     0.0     0.0     0.0     0.0     0.0   \n",
       "\n",
       "   -420.0  ...  4910.0  4920.0  4930.0  4940.0  4950.0  4960.0  4970.0  \\\n",
       "0     0.0  ...     0.0     0.0     0.0     0.0     0.0     0.0     0.0   \n",
       "1     0.0  ...     0.0     0.0     0.0     0.0     0.0     0.0     0.0   \n",
       "\n",
       "   4980.0  4990.0  5000.0  \n",
       "0     0.0     0.0     0.0  \n",
       "1     0.0     0.0     0.0  \n",
       "\n",
       "[2 rows x 552 columns]"
      ]
     },
     "execution_count": 2,
     "metadata": {},
     "output_type": "execute_result"
    }
   ],
   "source": [
    "#import the raw file\n",
    "\n",
    "df = pd.read_csv('C:/UofT/Data analysis/TA data analysis_Nita/Phil_Rajib_project/Analysis/Pt1_DCM_chirp_corrected.csv')\n",
    "df.head(2)"
   ]
  },
  {
   "cell_type": "code",
   "execution_count": 3,
   "id": "943c1e59",
   "metadata": {},
   "outputs": [
    {
     "data": {
      "text/html": [
       "<div>\n",
       "<style scoped>\n",
       "    .dataframe tbody tr th:only-of-type {\n",
       "        vertical-align: middle;\n",
       "    }\n",
       "\n",
       "    .dataframe tbody tr th {\n",
       "        vertical-align: top;\n",
       "    }\n",
       "\n",
       "    .dataframe thead th {\n",
       "        text-align: right;\n",
       "    }\n",
       "</style>\n",
       "<table border=\"1\" class=\"dataframe\">\n",
       "  <thead>\n",
       "    <tr style=\"text-align: right;\">\n",
       "      <th></th>\n",
       "      <th>-500.0</th>\n",
       "      <th>-490.0</th>\n",
       "      <th>-480.0</th>\n",
       "      <th>-470.0</th>\n",
       "      <th>-460.0</th>\n",
       "      <th>-450.0</th>\n",
       "      <th>-440.0</th>\n",
       "      <th>-430.0</th>\n",
       "      <th>-420.0</th>\n",
       "      <th>-410.0</th>\n",
       "      <th>...</th>\n",
       "      <th>4910.0</th>\n",
       "      <th>4920.0</th>\n",
       "      <th>4930.0</th>\n",
       "      <th>4940.0</th>\n",
       "      <th>4950.0</th>\n",
       "      <th>4960.0</th>\n",
       "      <th>4970.0</th>\n",
       "      <th>4980.0</th>\n",
       "      <th>4990.0</th>\n",
       "      <th>5000.0</th>\n",
       "    </tr>\n",
       "    <tr>\n",
       "      <th>Wavelength</th>\n",
       "      <th></th>\n",
       "      <th></th>\n",
       "      <th></th>\n",
       "      <th></th>\n",
       "      <th></th>\n",
       "      <th></th>\n",
       "      <th></th>\n",
       "      <th></th>\n",
       "      <th></th>\n",
       "      <th></th>\n",
       "      <th></th>\n",
       "      <th></th>\n",
       "      <th></th>\n",
       "      <th></th>\n",
       "      <th></th>\n",
       "      <th></th>\n",
       "      <th></th>\n",
       "      <th></th>\n",
       "      <th></th>\n",
       "      <th></th>\n",
       "      <th></th>\n",
       "    </tr>\n",
       "  </thead>\n",
       "  <tbody>\n",
       "    <tr>\n",
       "      <th>549.8464</th>\n",
       "      <td>0.0</td>\n",
       "      <td>0.0</td>\n",
       "      <td>0.0</td>\n",
       "      <td>0.0</td>\n",
       "      <td>0.0</td>\n",
       "      <td>0.0</td>\n",
       "      <td>0.0</td>\n",
       "      <td>0.0</td>\n",
       "      <td>0.0</td>\n",
       "      <td>0.0</td>\n",
       "      <td>...</td>\n",
       "      <td>0.0</td>\n",
       "      <td>0.0</td>\n",
       "      <td>0.0</td>\n",
       "      <td>0.0</td>\n",
       "      <td>0.0</td>\n",
       "      <td>0.0</td>\n",
       "      <td>0.0</td>\n",
       "      <td>0.0</td>\n",
       "      <td>0.0</td>\n",
       "      <td>0.0</td>\n",
       "    </tr>\n",
       "    <tr>\n",
       "      <th>550.0243</th>\n",
       "      <td>0.0</td>\n",
       "      <td>0.0</td>\n",
       "      <td>0.0</td>\n",
       "      <td>0.0</td>\n",
       "      <td>0.0</td>\n",
       "      <td>0.0</td>\n",
       "      <td>0.0</td>\n",
       "      <td>0.0</td>\n",
       "      <td>0.0</td>\n",
       "      <td>0.0</td>\n",
       "      <td>...</td>\n",
       "      <td>0.0</td>\n",
       "      <td>0.0</td>\n",
       "      <td>0.0</td>\n",
       "      <td>0.0</td>\n",
       "      <td>0.0</td>\n",
       "      <td>0.0</td>\n",
       "      <td>0.0</td>\n",
       "      <td>0.0</td>\n",
       "      <td>0.0</td>\n",
       "      <td>0.0</td>\n",
       "    </tr>\n",
       "  </tbody>\n",
       "</table>\n",
       "<p>2 rows × 551 columns</p>\n",
       "</div>"
      ],
      "text/plain": [
       "            -500.0  -490.0  -480.0  -470.0  -460.0  -450.0  -440.0  -430.0  \\\n",
       "Wavelength                                                                   \n",
       "549.8464       0.0     0.0     0.0     0.0     0.0     0.0     0.0     0.0   \n",
       "550.0243       0.0     0.0     0.0     0.0     0.0     0.0     0.0     0.0   \n",
       "\n",
       "            -420.0  -410.0  ...  4910.0  4920.0  4930.0  4940.0  4950.0  \\\n",
       "Wavelength                  ...                                           \n",
       "549.8464       0.0     0.0  ...     0.0     0.0     0.0     0.0     0.0   \n",
       "550.0243       0.0     0.0  ...     0.0     0.0     0.0     0.0     0.0   \n",
       "\n",
       "            4960.0  4970.0  4980.0  4990.0  5000.0  \n",
       "Wavelength                                          \n",
       "549.8464       0.0     0.0     0.0     0.0     0.0  \n",
       "550.0243       0.0     0.0     0.0     0.0     0.0  \n",
       "\n",
       "[2 rows x 551 columns]"
      ]
     },
     "execution_count": 3,
     "metadata": {},
     "output_type": "execute_result"
    }
   ],
   "source": [
    "#set the first column as the index\n",
    "\n",
    "df1 = df.set_index('Wavelength')\n",
    "df1.head(2)"
   ]
  },
  {
   "cell_type": "code",
   "execution_count": 4,
   "id": "75d1e388",
   "metadata": {},
   "outputs": [],
   "source": [
    "# change the column values to float type\n",
    "\n",
    "k = [float(i) for i in list(df1.columns)]\n",
    "df1.columns = k"
   ]
  },
  {
   "cell_type": "code",
   "execution_count": 5,
   "id": "285a9c90",
   "metadata": {},
   "outputs": [],
   "source": [
    "#define dunction that plots the dataframe\n",
    "\n",
    "def plot_df(df, vmin, vmax):    \n",
    "    \n",
    "    #plotting the data\n",
    "\n",
    "    x1 = df.columns\n",
    "    y1 = df.index\n",
    "    z1 = df\n",
    "    X1,Y1 = np.meshgrid(x1,y1)\n",
    "    Z1 = z1\n",
    "    img = plt.contourf(X1,Y1,Z1,50, cmap='jet', vmin=-vmin, vmax=vmax )\n",
    "    plt.colorbar(img)\n",
    "    return"
   ]
  },
  {
   "cell_type": "code",
   "execution_count": 6,
   "id": "74859196",
   "metadata": {},
   "outputs": [
    {
     "data": {
      "image/png": "[encoded data removed]",
      "text/plain": [
       "<Figure size 432x288 with 2 Axes>"
      ]
     },
     "metadata": {
      "needs_background": "light"
     },
     "output_type": "display_data"
    }
   ],
   "source": [
    "plot_df(df1, 5,5)"
   ]
  },
  {
   "cell_type": "code",
   "execution_count": 7,
   "id": "ea1850b4",
   "metadata": {},
   "outputs": [],
   "source": [
    "from scipy.optimize import curve_fit\n",
    "from scipy.special import erf\n",
    "\n",
    "def func_B(t, t_1):\n",
    "    B=20\n",
    "    t0 = 2.38110371e+02\n",
    "    f = (np.exp((B/(2*1.66511*t_1))**2 - ((t-t0)/t_1))*0.5*(erf(((t-t0)/B)*1.66511 - (B/(2*1.66511*t_1))) + 1)) \n",
    "    return f   "
   ]
  },
  {
   "cell_type": "code",
   "execution_count": 8,
   "id": "995747b5",
   "metadata": {},
   "outputs": [
    {
     "data": {
      "image/png": "[encoded data removed]",
      "text/plain": [
       "<Figure size 432x288 with 1 Axes>"
      ]
     },
     "metadata": {
      "needs_background": "light"
     },
     "output_type": "display_data"
    }
   ],
   "source": [
    "# t0=2.38110371e+02\n",
    "time = [200, 500, 1000, 2000]\n",
    "t1 = list(df1.columns)\n",
    "\n",
    "for i in range(len(time)):\n",
    "    plt.plot(func_B (np.array(t1), time[i]))\n"
   ]
  },
  {
   "cell_type": "code",
   "execution_count": 9,
   "id": "e963a5fe",
   "metadata": {},
   "outputs": [
    {
     "data": {
      "text/plain": [
       "(551,)"
      ]
     },
     "execution_count": 9,
     "metadata": {},
     "output_type": "execute_result"
    }
   ],
   "source": [
    "func_B (np.array(t1), 200).shape"
   ]
  },
  {
   "cell_type": "code",
   "execution_count": 10,
   "id": "d4923183",
   "metadata": {},
   "outputs": [],
   "source": [
    "# n is the number of components\n",
    "\n",
    "n = 4\n",
    "T_matrix = np.zeros(shape=(n, df1.shape[1]))"
   ]
  },
  {
   "cell_type": "code",
   "execution_count": 11,
   "id": "d659c5d0",
   "metadata": {},
   "outputs": [
    {
     "data": {
      "text/plain": [
       "(4, 551)"
      ]
     },
     "execution_count": 11,
     "metadata": {},
     "output_type": "execute_result"
    }
   ],
   "source": [
    "T_matrix.shape"
   ]
  },
  {
   "cell_type": "code",
   "execution_count": 12,
   "id": "9dec0d2a",
   "metadata": {},
   "outputs": [],
   "source": [
    "for i in range (n):\n",
    "    T_matrix[i-1] = func_B (np.array(t1), time[i-1])"
   ]
  },
  {
   "cell_type": "code",
   "execution_count": 13,
   "id": "0c52cbc4",
   "metadata": {},
   "outputs": [
    {
     "data": {
      "text/plain": [
       "array([[0.00000000e+00, 0.00000000e+00, 0.00000000e+00, ...,\n",
       "        5.05253229e-11, 4.80611738e-11, 4.57172027e-11],\n",
       "       [0.00000000e+00, 0.00000000e+00, 0.00000000e+00, ...,\n",
       "        7.60868590e-05, 7.45802383e-05, 7.31034506e-05],\n",
       "       [0.00000000e+00, 0.00000000e+00, 0.00000000e+00, ...,\n",
       "        8.72246357e-03, 8.63567361e-03, 8.54974722e-03],\n",
       "       [0.00000000e+00, 0.00000000e+00, 0.00000000e+00, ...,\n",
       "        9.33932882e-02, 9.29274872e-02, 9.24640094e-02]])"
      ]
     },
     "execution_count": 13,
     "metadata": {},
     "output_type": "execute_result"
    }
   ],
   "source": [
    "T_matrix  # this is the Time matrix that you want; you need to calculate teh inverse of that"
   ]
  },
  {
   "cell_type": "code",
   "execution_count": 14,
   "id": "cbc59d40",
   "metadata": {},
   "outputs": [],
   "source": [
    "#calculate the pseudo-inverse of a matrix\n",
    "\n",
    "T_matrix_inv = np.linalg.pinv(T_matrix)"
   ]
  },
  {
   "cell_type": "code",
   "execution_count": 15,
   "id": "80377998",
   "metadata": {},
   "outputs": [
    {
     "data": {
      "text/plain": [
       "(551, 4)"
      ]
     },
     "execution_count": 15,
     "metadata": {},
     "output_type": "execute_result"
    }
   ],
   "source": [
    "T_matrix_inv.shape"
   ]
  },
  {
   "cell_type": "code",
   "execution_count": 16,
   "id": "b3ca4344",
   "metadata": {},
   "outputs": [
    {
     "data": {
      "text/plain": [
       "(4, 551)"
      ]
     },
     "execution_count": 16,
     "metadata": {},
     "output_type": "execute_result"
    }
   ],
   "source": [
    "T_matrix.shape"
   ]
  },
  {
   "cell_type": "code",
   "execution_count": 17,
   "id": "8bc624bb",
   "metadata": {},
   "outputs": [],
   "source": [
    "# calculate DT^-1\n",
    "\n",
    "S_bar = np.matmul(df1, T_matrix_inv)"
   ]
  },
  {
   "cell_type": "code",
   "execution_count": 18,
   "id": "5faeab92",
   "metadata": {},
   "outputs": [
    {
     "data": {
      "text/plain": [
       "[<matplotlib.lines.Line2D at 0x149764faa88>]"
      ]
     },
     "execution_count": 18,
     "metadata": {},
     "output_type": "execute_result"
    },
    {
     "data": {
      "image/png": "[encoded data removed]",
      "text/plain": [
       "<Figure size 432x288 with 1 Axes>"
      ]
     },
     "metadata": {
      "needs_background": "light"
     },
     "output_type": "display_data"
    }
   ],
   "source": [
    "plt.plot(S_bar[1-1])"
   ]
  },
  {
   "cell_type": "code",
   "execution_count": 19,
   "id": "2611a29c",
   "metadata": {},
   "outputs": [
    {
     "data": {
      "text/plain": [
       "range"
      ]
     },
     "execution_count": 19,
     "metadata": {},
     "output_type": "execute_result"
    }
   ],
   "source": [
    "type(range(4))"
   ]
  },
  {
   "cell_type": "code",
   "execution_count": 20,
   "id": "d77712c6",
   "metadata": {},
   "outputs": [
    {
     "data": {
      "image/png": "[encoded data removed]",
      "text/plain": [
       "<Figure size 432x288 with 1 Axes>"
      ]
     },
     "metadata": {
      "needs_background": "light"
     },
     "output_type": "display_data"
    }
   ],
   "source": [
    "for i in list(range(4)):\n",
    "    plt.plot(S_bar[i])"
   ]
  },
  {
   "cell_type": "code",
   "execution_count": 21,
   "id": "758980da",
   "metadata": {},
   "outputs": [],
   "source": [
    "#construct S_bar*T\n",
    "\n",
    "pseudo_data = np.matmul(S_bar, T_matrix)"
   ]
  },
  {
   "cell_type": "code",
   "execution_count": 22,
   "id": "e75fe490",
   "metadata": {},
   "outputs": [
    {
     "data": {
      "text/plain": [
       "(1052, 551)"
      ]
     },
     "execution_count": 22,
     "metadata": {},
     "output_type": "execute_result"
    }
   ],
   "source": [
    "pseudo_data.shape"
   ]
  },
  {
   "cell_type": "code",
   "execution_count": 23,
   "id": "bcc56d18",
   "metadata": {},
   "outputs": [],
   "source": [
    "# optimization\n",
    "\n",
    "opt = (np.linalg.norm(df1 - pseudo_data))**2"
   ]
  },
  {
   "cell_type": "code",
   "execution_count": 24,
   "id": "5d025d7a",
   "metadata": {},
   "outputs": [
    {
     "data": {
      "text/plain": [
       "nan"
      ]
     },
     "execution_count": 24,
     "metadata": {},
     "output_type": "execute_result"
    }
   ],
   "source": [
    "opt"
   ]
  },
  {
   "cell_type": "code",
   "execution_count": 25,
   "id": "e0231e4a",
   "metadata": {},
   "outputs": [
    {
     "data": {
      "text/plain": [
       "nan"
      ]
     },
     "execution_count": 25,
     "metadata": {},
     "output_type": "execute_result"
    }
   ],
   "source": [
    "opt.max()"
   ]
  },
  {
   "cell_type": "code",
   "execution_count": 26,
   "id": "4027e2cc",
   "metadata": {},
   "outputs": [],
   "source": [
    "# plot_df(opt, 0.2, 0.2)"
   ]
  },
  {
   "cell_type": "code",
   "execution_count": 27,
   "id": "c69fdcd7",
   "metadata": {},
   "outputs": [],
   "source": [
    "T_matrix[0] = func_B (np.array(t1), 200)"
   ]
  },
  {
   "cell_type": "code",
   "execution_count": 28,
   "id": "989d4230",
   "metadata": {},
   "outputs": [
    {
     "data": {
      "text/plain": [
       "(4, 551)"
      ]
     },
     "execution_count": 28,
     "metadata": {},
     "output_type": "execute_result"
    }
   ],
   "source": [
    "T_matrix.shape"
   ]
  },
  {
   "cell_type": "code",
   "execution_count": 29,
   "id": "7c400c34",
   "metadata": {},
   "outputs": [
    {
     "data": {
      "text/plain": [
       "array([[0.00000000e+00, 0.00000000e+00, 0.00000000e+00, ...,\n",
       "        5.05253229e-11, 4.80611738e-11, 4.57172027e-11],\n",
       "       [0.00000000e+00, 0.00000000e+00, 0.00000000e+00, ...,\n",
       "        7.60868590e-05, 7.45802383e-05, 7.31034506e-05],\n",
       "       [0.00000000e+00, 0.00000000e+00, 0.00000000e+00, ...,\n",
       "        8.72246357e-03, 8.63567361e-03, 8.54974722e-03],\n",
       "       [0.00000000e+00, 0.00000000e+00, 0.00000000e+00, ...,\n",
       "        9.33932882e-02, 9.29274872e-02, 9.24640094e-02]])"
      ]
     },
     "execution_count": 29,
     "metadata": {},
     "output_type": "execute_result"
    }
   ],
   "source": [
    "T_matrix"
   ]
  },
  {
   "cell_type": "code",
   "execution_count": 30,
   "id": "fbf6724d",
   "metadata": {},
   "outputs": [],
   "source": [
    "def func_B(t, t_i):\n",
    "    B=20\n",
    "    t0 = 2.38110371e+02\n",
    "    f = (np.exp((B/(2*1.66511*t_i))**2 - ((t-t0)/t_i))*0.5*(erf(((t-t0)/B)*1.66511 - (B/(2*1.66511*t_i))) + 1)) \n",
    "    return f"
   ]
  },
  {
   "cell_type": "code",
   "execution_count": 31,
   "id": "d294d2f8",
   "metadata": {},
   "outputs": [],
   "source": [
    "def global_analysis(time):\n",
    "    \n",
    "    n = 4\n",
    "    t1 = list(df1.columns)\n",
    "    \n",
    "    T_matrix = np.zeros(shape=(n, df1.shape[1]))  # n is the number of components\n",
    "    \n",
    "    for i in range (n):\n",
    "        T_matrix[i-1] = func_B (np.array(t1), time[i-1]) # this is the Time matrix that you want; \n",
    "                                                     # you need to calculate teh inverse of that\n",
    "        \n",
    "    T_matrix_inv = np.linalg.pinv(T_matrix)       #calculate the pseudo-inverse of a matrix\n",
    "    \n",
    "    S_bar = np.matmul(df1, T_matrix_inv)         # calculate DT^-1\n",
    "    \n",
    "    pseudo_data = np.matmul(S_bar, T_matrix)    #construct S_bar*T\n",
    "    \n",
    "    pseudo_data.columns = df1.columns         #reassign the columns\n",
    "    \n",
    "    opt = (np.linalg.norm(df1 - pseudo_data))**2      # define the matrix to optimize\n",
    "    \n",
    "    return opt\n",
    "#     return S_bar\n",
    "    "
   ]
  },
  {
   "cell_type": "code",
   "execution_count": 32,
   "id": "ce2ae342",
   "metadata": {},
   "outputs": [
    {
     "data": {
      "text/plain": [
       "531876.1560697469"
      ]
     },
     "execution_count": 32,
     "metadata": {},
     "output_type": "execute_result"
    }
   ],
   "source": [
    "# time = [200, 500, 1000, 2000]\n",
    "\n",
    "global_analysis (time)"
   ]
  },
  {
   "cell_type": "code",
   "execution_count": 33,
   "id": "44df0c1d",
   "metadata": {},
   "outputs": [
    {
     "data": {
      "text/html": [
       "<div>\n",
       "<style scoped>\n",
       "    .dataframe tbody tr th:only-of-type {\n",
       "        vertical-align: middle;\n",
       "    }\n",
       "\n",
       "    .dataframe tbody tr th {\n",
       "        vertical-align: top;\n",
       "    }\n",
       "\n",
       "    .dataframe thead th {\n",
       "        text-align: right;\n",
       "    }\n",
       "</style>\n",
       "<table border=\"1\" class=\"dataframe\">\n",
       "  <thead>\n",
       "    <tr style=\"text-align: right;\">\n",
       "      <th></th>\n",
       "      <th>-500.0</th>\n",
       "      <th>-490.0</th>\n",
       "      <th>-480.0</th>\n",
       "      <th>-470.0</th>\n",
       "      <th>-460.0</th>\n",
       "      <th>-450.0</th>\n",
       "      <th>-440.0</th>\n",
       "      <th>-430.0</th>\n",
       "      <th>-420.0</th>\n",
       "      <th>-410.0</th>\n",
       "      <th>...</th>\n",
       "      <th>4910.0</th>\n",
       "      <th>4920.0</th>\n",
       "      <th>4930.0</th>\n",
       "      <th>4940.0</th>\n",
       "      <th>4950.0</th>\n",
       "      <th>4960.0</th>\n",
       "      <th>4970.0</th>\n",
       "      <th>4980.0</th>\n",
       "      <th>4990.0</th>\n",
       "      <th>5000.0</th>\n",
       "    </tr>\n",
       "    <tr>\n",
       "      <th>Wavelength</th>\n",
       "      <th></th>\n",
       "      <th></th>\n",
       "      <th></th>\n",
       "      <th></th>\n",
       "      <th></th>\n",
       "      <th></th>\n",
       "      <th></th>\n",
       "      <th></th>\n",
       "      <th></th>\n",
       "      <th></th>\n",
       "      <th></th>\n",
       "      <th></th>\n",
       "      <th></th>\n",
       "      <th></th>\n",
       "      <th></th>\n",
       "      <th></th>\n",
       "      <th></th>\n",
       "      <th></th>\n",
       "      <th></th>\n",
       "      <th></th>\n",
       "      <th></th>\n",
       "    </tr>\n",
       "  </thead>\n",
       "  <tbody>\n",
       "    <tr>\n",
       "      <th>549.8464</th>\n",
       "      <td>0.0</td>\n",
       "      <td>0.0</td>\n",
       "      <td>0.0</td>\n",
       "      <td>0.0</td>\n",
       "      <td>0.0</td>\n",
       "      <td>0.0</td>\n",
       "      <td>0.0</td>\n",
       "      <td>0.0</td>\n",
       "      <td>0.0</td>\n",
       "      <td>0.0</td>\n",
       "      <td>...</td>\n",
       "      <td>0.0</td>\n",
       "      <td>0.0</td>\n",
       "      <td>0.0</td>\n",
       "      <td>0.0</td>\n",
       "      <td>0.0</td>\n",
       "      <td>0.0</td>\n",
       "      <td>0.0</td>\n",
       "      <td>0.0</td>\n",
       "      <td>0.0</td>\n",
       "      <td>0.0</td>\n",
       "    </tr>\n",
       "    <tr>\n",
       "      <th>550.0243</th>\n",
       "      <td>0.0</td>\n",
       "      <td>0.0</td>\n",
       "      <td>0.0</td>\n",
       "      <td>0.0</td>\n",
       "      <td>0.0</td>\n",
       "      <td>0.0</td>\n",
       "      <td>0.0</td>\n",
       "      <td>0.0</td>\n",
       "      <td>0.0</td>\n",
       "      <td>0.0</td>\n",
       "      <td>...</td>\n",
       "      <td>0.0</td>\n",
       "      <td>0.0</td>\n",
       "      <td>0.0</td>\n",
       "      <td>0.0</td>\n",
       "      <td>0.0</td>\n",
       "      <td>0.0</td>\n",
       "      <td>0.0</td>\n",
       "      <td>0.0</td>\n",
       "      <td>0.0</td>\n",
       "      <td>0.0</td>\n",
       "    </tr>\n",
       "    <tr>\n",
       "      <th>550.2022</th>\n",
       "      <td>0.0</td>\n",
       "      <td>0.0</td>\n",
       "      <td>0.0</td>\n",
       "      <td>0.0</td>\n",
       "      <td>0.0</td>\n",
       "      <td>0.0</td>\n",
       "      <td>0.0</td>\n",
       "      <td>0.0</td>\n",
       "      <td>0.0</td>\n",
       "      <td>0.0</td>\n",
       "      <td>...</td>\n",
       "      <td>0.0</td>\n",
       "      <td>0.0</td>\n",
       "      <td>0.0</td>\n",
       "      <td>0.0</td>\n",
       "      <td>0.0</td>\n",
       "      <td>0.0</td>\n",
       "      <td>0.0</td>\n",
       "      <td>0.0</td>\n",
       "      <td>0.0</td>\n",
       "      <td>0.0</td>\n",
       "    </tr>\n",
       "    <tr>\n",
       "      <th>550.3801</th>\n",
       "      <td>0.0</td>\n",
       "      <td>0.0</td>\n",
       "      <td>0.0</td>\n",
       "      <td>0.0</td>\n",
       "      <td>0.0</td>\n",
       "      <td>0.0</td>\n",
       "      <td>0.0</td>\n",
       "      <td>0.0</td>\n",
       "      <td>0.0</td>\n",
       "      <td>0.0</td>\n",
       "      <td>...</td>\n",
       "      <td>0.0</td>\n",
       "      <td>0.0</td>\n",
       "      <td>0.0</td>\n",
       "      <td>0.0</td>\n",
       "      <td>0.0</td>\n",
       "      <td>0.0</td>\n",
       "      <td>0.0</td>\n",
       "      <td>0.0</td>\n",
       "      <td>0.0</td>\n",
       "      <td>0.0</td>\n",
       "    </tr>\n",
       "    <tr>\n",
       "      <th>550.5580</th>\n",
       "      <td>0.0</td>\n",
       "      <td>0.0</td>\n",
       "      <td>0.0</td>\n",
       "      <td>0.0</td>\n",
       "      <td>0.0</td>\n",
       "      <td>0.0</td>\n",
       "      <td>0.0</td>\n",
       "      <td>0.0</td>\n",
       "      <td>0.0</td>\n",
       "      <td>0.0</td>\n",
       "      <td>...</td>\n",
       "      <td>0.0</td>\n",
       "      <td>0.0</td>\n",
       "      <td>0.0</td>\n",
       "      <td>0.0</td>\n",
       "      <td>0.0</td>\n",
       "      <td>0.0</td>\n",
       "      <td>0.0</td>\n",
       "      <td>0.0</td>\n",
       "      <td>0.0</td>\n",
       "      <td>0.0</td>\n",
       "    </tr>\n",
       "  </tbody>\n",
       "</table>\n",
       "<p>5 rows × 551 columns</p>\n",
       "</div>"
      ],
      "text/plain": [
       "            -500.0   -490.0   -480.0   -470.0   -460.0   -450.0   -440.0   \\\n",
       "Wavelength                                                                  \n",
       "549.8464        0.0      0.0      0.0      0.0      0.0      0.0      0.0   \n",
       "550.0243        0.0      0.0      0.0      0.0      0.0      0.0      0.0   \n",
       "550.2022        0.0      0.0      0.0      0.0      0.0      0.0      0.0   \n",
       "550.3801        0.0      0.0      0.0      0.0      0.0      0.0      0.0   \n",
       "550.5580        0.0      0.0      0.0      0.0      0.0      0.0      0.0   \n",
       "\n",
       "            -430.0   -420.0   -410.0   ...   4910.0   4920.0   4930.0  \\\n",
       "Wavelength                             ...                              \n",
       "549.8464        0.0      0.0      0.0  ...      0.0      0.0      0.0   \n",
       "550.0243        0.0      0.0      0.0  ...      0.0      0.0      0.0   \n",
       "550.2022        0.0      0.0      0.0  ...      0.0      0.0      0.0   \n",
       "550.3801        0.0      0.0      0.0  ...      0.0      0.0      0.0   \n",
       "550.5580        0.0      0.0      0.0  ...      0.0      0.0      0.0   \n",
       "\n",
       "             4940.0   4950.0   4960.0   4970.0   4980.0   4990.0   5000.0  \n",
       "Wavelength                                                                 \n",
       "549.8464        0.0      0.0      0.0      0.0      0.0      0.0      0.0  \n",
       "550.0243        0.0      0.0      0.0      0.0      0.0      0.0      0.0  \n",
       "550.2022        0.0      0.0      0.0      0.0      0.0      0.0      0.0  \n",
       "550.3801        0.0      0.0      0.0      0.0      0.0      0.0      0.0  \n",
       "550.5580        0.0      0.0      0.0      0.0      0.0      0.0      0.0  \n",
       "\n",
       "[5 rows x 551 columns]"
      ]
     },
     "execution_count": 33,
     "metadata": {},
     "output_type": "execute_result"
    }
   ],
   "source": [
    "df1.head(5)"
   ]
  },
  {
   "cell_type": "code",
   "execution_count": 51,
   "id": "4e5119e0",
   "metadata": {},
   "outputs": [],
   "source": [
    "# this is teh optimization\n",
    "\n",
    "from scipy.optimize import least_squares, minimize, basinhopping\n",
    "\n",
    "\n",
    "t_guess = [5 , 20000 , 1000, 30000]\n",
    "# res_2 = minimize(global_analysis, t_guess, method='Nelder-Mead')\n",
    "# res_3 = basinhopping(global_analysis, t_guess, T= 1.0)\n",
    "res_3 = least_squares(global_analysis, t_guess)\n",
    "# res_1 = least_squares(global_analysis, t_guess, bounds=(0, 10000))"
   ]
  },
  {
   "cell_type": "code",
   "execution_count": 52,
   "id": "ca75fb15",
   "metadata": {},
   "outputs": [
    {
     "data": {
      "text/plain": [
       " active_mask: array([0., 0., 0., 0.])\n",
       "        cost: 93322267625.6387\n",
       "         fun: array([432023.76699816])\n",
       "        grad: array([-4043.01733264,  1345.05056186,  6494.78846605,   458.64885606])\n",
       "         jac: array([[-0.00935832,  0.00311337,  0.01503341,  0.00106163]])\n",
       "     message: '`xtol` termination condition is satisfied.'\n",
       "        nfev: 30\n",
       "        njev: 19\n",
       "  optimality: 6494.788466052864\n",
       "      status: 3\n",
       "     success: True\n",
       "           x: array([28867.60637171, 32071.84140575, 39879.67611427, 37836.17221845])"
      ]
     },
     "execution_count": 52,
     "metadata": {},
     "output_type": "execute_result"
    }
   ],
   "source": [
    "res_3"
   ]
  },
  {
   "cell_type": "code",
   "execution_count": 53,
   "id": "a03d818a",
   "metadata": {},
   "outputs": [],
   "source": [
    "# rebuilt S_bar with the optimized values\n",
    "\n",
    "def DAS (time):\n",
    "    \n",
    "    t1 = list(df1.columns)\n",
    "    n = 4\n",
    "    T_matrix = np.zeros(shape=(n, df1.shape[1]))  # n is the number of components\n",
    "    \n",
    "    for i in range (n):\n",
    "        T_matrix[i-1] = func_B (np.array(t1), time[i-1]) # this is the Time matrix that you want; \n",
    "                                                     # you need to calculate teh inverse of that\n",
    "        \n",
    "    T_matrix_inv = np.linalg.pinv(T_matrix)       #calculate the pseudo-inverse of a matrix\n",
    "    \n",
    "    S_bar = np.matmul(df1, T_matrix_inv)         # calculate DT^-1\n",
    "    \n",
    "    return S_bar\n",
    "\n",
    "\n"
   ]
  },
  {
   "cell_type": "code",
   "execution_count": 54,
   "id": "1e517a09",
   "metadata": {},
   "outputs": [],
   "source": [
    "def pseudo_data (time):\n",
    "    \n",
    "    n = 4\n",
    "    t1 = list(df1.columns)\n",
    "    \n",
    "    T_matrix = np.zeros(shape=(n, df1.shape[1]))  # n is the number of components\n",
    "    \n",
    "    for i in range (n):\n",
    "        T_matrix[i-1] = func_B (np.array(t1), time[i-1]) # this is the Time matrix that you want; \n",
    "                                                     # you need to calculate teh inverse of that\n",
    "        \n",
    "    T_matrix_inv = np.linalg.pinv(T_matrix)       #calculate the pseudo-inverse of a matrix\n",
    "    \n",
    "    S_bar = np.matmul(df1, T_matrix_inv)         # calculate DT^-1\n",
    "    \n",
    "    pseudo_data = np.matmul(S_bar, T_matrix)    #construct S_bar*T\n",
    "    \n",
    "    pseudo_data.columns = df1.columns         #reassign the columns\n",
    "    \n",
    "    return pseudo_data\n",
    "    \n",
    "    "
   ]
  },
  {
   "cell_type": "code",
   "execution_count": 55,
   "id": "7f3a18ab",
   "metadata": {},
   "outputs": [],
   "source": [
    "x = [11493.22366105, 11400.55744635, -1391.88889464, 11489.75092222]\n",
    "\n",
    "das = DAS(x)\n",
    "PD = pseudo_data(x)"
   ]
  },
  {
   "cell_type": "code",
   "execution_count": 56,
   "id": "fe2149c4",
   "metadata": {},
   "outputs": [
    {
     "data": {
      "text/plain": [
       "[<matplotlib.lines.Line2D at 0x2595076c208>]"
      ]
     },
     "execution_count": 56,
     "metadata": {},
     "output_type": "execute_result"
    },
    {
     "data": {
      "image/png": "[encoded data removed]",
      "text/plain": [
       "<Figure size 432x288 with 1 Axes>"
      ]
     },
     "metadata": {
      "needs_background": "light"
     },
     "output_type": "display_data"
    }
   ],
   "source": [
    "#DAS after optimization\n",
    "\n",
    "plt.plot(das[0])\n",
    "plt.plot(das[1]*10)\n",
    "plt.plot(das[2]*100000000)"
   ]
  },
  {
   "cell_type": "code",
   "execution_count": 57,
   "id": "c47d3770",
   "metadata": {},
   "outputs": [
    {
     "data": {
      "image/png": "[encoded data removed]",
      "text/plain": [
       "<Figure size 432x288 with 1 Axes>"
      ]
     },
     "metadata": {
      "needs_background": "light"
     },
     "output_type": "display_data"
    }
   ],
   "source": [
    "for i in list(range(3)):\n",
    "    plt.plot(das[i])"
   ]
  },
  {
   "cell_type": "code",
   "execution_count": 58,
   "id": "d8804798",
   "metadata": {},
   "outputs": [
    {
     "data": {
      "image/png": "[encoded data removed]",
      "text/plain": [
       "<Figure size 432x288 with 2 Axes>"
      ]
     },
     "metadata": {
      "needs_background": "light"
     },
     "output_type": "display_data"
    }
   ],
   "source": [
    "plot_df(PD, 5, 5)"
   ]
  },
  {
   "cell_type": "code",
   "execution_count": 59,
   "id": "0feca642",
   "metadata": {},
   "outputs": [
    {
     "data": {
      "image/png": "[encoded data removed]",
      "text/plain": [
       "<Figure size 432x288 with 2 Axes>"
      ]
     },
     "metadata": {
      "needs_background": "light"
     },
     "output_type": "display_data"
    }
   ],
   "source": [
    "plot_df(df1, 5, 5)"
   ]
  },
  {
   "cell_type": "code",
   "execution_count": 43,
   "id": "b86d2f5c",
   "metadata": {},
   "outputs": [
    {
     "ename": "IndentationError",
     "evalue": "expected an indented block (<ipython-input-43-1be0c277d976>, line 9)",
     "output_type": "error",
     "traceback": [
      "\u001b[1;36m  File \u001b[1;32m\"<ipython-input-43-1be0c277d976>\"\u001b[1;36m, line \u001b[1;32m9\u001b[0m\n\u001b[1;33m    T_matrix[i-1] = func_B (np.array(t1), time[i-1]) # this is the Time matrix that you want;\u001b[0m\n\u001b[1;37m           ^\u001b[0m\n\u001b[1;31mIndentationError\u001b[0m\u001b[1;31m:\u001b[0m expected an indented block\n"
     ]
    }
   ],
   "source": [
    "def global_analysis(n, t_1, t_2, t_3, t_4):\n",
    "    \n",
    "    time = [t_1, t_2, t_3, t_4]\n",
    "    t1 = list(df1.columns)\n",
    "    \n",
    "    T_matrix = np.zeros(shape=(n, df1.shape[1]))  # n is the number of components\n",
    "    \n",
    "    for i in range (n):\n",
    "    T_matrix[i-1] = func_B (np.array(t1), time[i-1]) # this is the Time matrix that you want; \n",
    "                                                     # you need to calculate teh inverse of that\n",
    "        \n",
    "    T_matrix_inv = np.linalg.pinv(T_matrix)       #calculate the pseudo-inverse of a matrix\n",
    "    \n",
    "    S_bar = np.matmul(df1, T_matrix_inv)         # calculate DT^-1\n",
    "    \n",
    "#     pseudo_data = np.matmul(S_bar, T_matrix)    #construct S_bar*T\n",
    "    \n",
    "#     opt = (np.linalg.norm(df1 - pseudo_data))**2      # optimization\n",
    "\n",
    "    return S_bar\n",
    "    "
   ]
  },
  {
   "cell_type": "code",
   "execution_count": null,
   "id": "f67d39a9",
   "metadata": {},
   "outputs": [],
   "source": []
  }
 ],
 "metadata": {
  "kernelspec": {
   "display_name": "Python 3",
   "language": "python",
   "name": "python3"
  },
  "language_info": {
   "codemirror_mode": {
    "name": "ipython",
    "version": 3
   },
   "file_extension": ".py",
   "mimetype": "text/x-python",
   "name": "python",
   "nbconvert_exporter": "python",
   "pygments_lexer": "ipython3",
   "version": "3.7.11"
  }
 },
 "nbformat": 4,
 "nbformat_minor": 5
}
